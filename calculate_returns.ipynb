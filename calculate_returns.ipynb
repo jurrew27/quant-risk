{
 "cells": [
  {
   "cell_type": "code",
   "execution_count": 2,
   "metadata": {},
   "outputs": [],
   "source": [
    "import pandas as pd\n",
    "import numpy as np"
   ]
  },
  {
   "cell_type": "markdown",
   "metadata": {},
   "source": [
    "## Portfolio\n",
    "\n",
    "- SPY: €300 000\n",
    "- AEX: €300 000\n",
    "- RDSA: €10 000\n",
    "- HSI: €90 000\n",
    "- Bonds: €300 000\n",
    "\n",
    "Total: €1 000 000"
   ]
  },
  {
   "cell_type": "code",
   "execution_count": 3,
   "metadata": {},
   "outputs": [],
   "source": [
    "data = pd.read_csv('dataset.csv', index_col=0)\n",
    "data.index = pd.to_datetime(data.index)"
   ]
  },
  {
   "cell_type": "code",
   "execution_count": 7,
   "metadata": {},
   "outputs": [],
   "source": [
    "relative_weights = [0.3, 0.3, 0.01, 0.09, 0.3]\n",
    "absolute_weights = [300000, 300000, 10000, 90000, 300000]"
   ]
  },
  {
   "cell_type": "code",
   "execution_count": 20,
   "metadata": {},
   "outputs": [],
   "source": [
    "stock_returns = np.log(data[['SPY', 'AEX', 'RDSA.AS', 'HSI']]).diff()\n",
    "stock_returns[['SPY', 'HSI']] = stock_returns[['SPY', 'HSI']].values + np.log(data[['USDEUR', 'HKDEUR']]).diff().values\n",
    "yields = data['YIELDS'] / 100"
   ]
  },
  {
   "cell_type": "markdown",
   "metadata": {},
   "source": [
    "### Real losses"
   ]
  },
  {
   "cell_type": "code",
   "execution_count": 21,
   "metadata": {},
   "outputs": [],
   "source": [
    "losses = np.exp(stock_returns) - 1\n",
    "until_maturity = pd.Series(np.arange(12, 0, -1/(250))[:len(data)])\n",
    "until_maturity.index = data.index\n",
    "losses['bonds'] = np.exp(-until_maturity * yields.diff() + (yields + yields.diff()) / 250) - 1\n",
    "losses = -losses"
   ]
  },
  {
   "cell_type": "code",
   "execution_count": 22,
   "metadata": {},
   "outputs": [
    {
     "data": {
      "text/plain": [
       "Date\n",
       "2010-01-01    0.000000\n",
       "2010-01-04    0.000552\n",
       "2010-01-05   -0.004411\n",
       "2010-01-06    0.001525\n",
       "2010-01-07   -0.003465\n",
       "                ...   \n",
       "2020-04-20    0.000435\n",
       "2020-04-21    0.021232\n",
       "2020-04-22   -0.017767\n",
       "2020-04-23   -0.002725\n",
       "2020-04-24    0.004614\n",
       "Length: 2992, dtype: float64"
      ]
     },
     "execution_count": 22,
     "metadata": {},
     "output_type": "execute_result"
    }
   ],
   "source": [
    "total_losses = (losses * relative_weights).sum(axis=1)\n",
    "total_losses"
   ]
  },
  {
   "cell_type": "markdown",
   "metadata": {},
   "source": [
    "### Linear losses"
   ]
  },
  {
   "cell_type": "code",
   "execution_count": 23,
   "metadata": {},
   "outputs": [],
   "source": [
    "linear_losses = stock_returns\n",
    "linear_losses['bonds'] = yields / 250 - until_maturity * yields.diff()\n",
    "linear_losses = -linear_losses"
   ]
  },
  {
   "cell_type": "code",
   "execution_count": 24,
   "metadata": {},
   "outputs": [
    {
     "data": {
      "text/plain": [
       "Date\n",
       "2010-01-01    0.000000\n",
       "2010-01-04    0.000553\n",
       "2010-01-05   -0.004374\n",
       "2010-01-06    0.001528\n",
       "2010-01-07   -0.003446\n",
       "                ...   \n",
       "2020-04-20    0.000443\n",
       "2020-04-21    0.021567\n",
       "2020-04-22   -0.017525\n",
       "2020-04-23   -0.002713\n",
       "2020-04-24    0.004657\n",
       "Length: 2992, dtype: float64"
      ]
     },
     "execution_count": 24,
     "metadata": {},
     "output_type": "execute_result"
    }
   ],
   "source": [
    "total_linear_losses = (linear_losses * relative_weights).sum(axis=1)\n",
    "total_linear_losses"
   ]
  },
  {
   "cell_type": "code",
   "execution_count": null,
   "metadata": {},
   "outputs": [],
   "source": []
  }
 ],
 "metadata": {
  "kernelspec": {
   "display_name": "Python 3",
   "language": "python",
   "name": "python3"
  },
  "language_info": {
   "codemirror_mode": {
    "name": "ipython",
    "version": 3
   },
   "file_extension": ".py",
   "mimetype": "text/x-python",
   "name": "python",
   "nbconvert_exporter": "python",
   "pygments_lexer": "ipython3",
   "version": "3.8.2"
  }
 },
 "nbformat": 4,
 "nbformat_minor": 4
}
