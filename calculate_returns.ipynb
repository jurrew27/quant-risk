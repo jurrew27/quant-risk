{
 "cells": [
  {
   "cell_type": "code",
   "execution_count": 133,
   "metadata": {},
   "outputs": [],
   "source": [
    "import pandas as pd\n",
    "import numpy as np"
   ]
  },
  {
   "cell_type": "markdown",
   "metadata": {},
   "source": [
    "## Portfolio\n",
    "\n",
    "- SPY: €300 000\n",
    "- AEX: €300 000\n",
    "- RDSA: €10 000\n",
    "- HSI: €90 000\n",
    "- Bonds: €300 000\n",
    "\n",
    "Total: €1 000 000"
   ]
  },
  {
   "cell_type": "code",
   "execution_count": 163,
   "metadata": {},
   "outputs": [],
   "source": [
    "data = pd.read_csv('dataset.csv', index_col=0)\n",
    "data.index = pd.to_datetime(data.index)"
   ]
  },
  {
   "cell_type": "code",
   "execution_count": 164,
   "metadata": {},
   "outputs": [],
   "source": [
    "relative_weights = [0.3, 0.3, 0.01, 0.09, 0.3]\n",
    "absolute_weights = [300000, 300000, 10000, 90000, 300000]"
   ]
  },
  {
   "cell_type": "code",
   "execution_count": 177,
   "metadata": {},
   "outputs": [],
   "source": [
    "stock_returns = np.log(data[['SPY', 'AEX', 'RDSA.AS', 'HSI']]).diff()\n",
    "stock_returns[['SPY', 'HSI']] + np.log(data[['USDEUR', 'HKDEUR']]).diff().values\n",
    "yields = data['YIELDS']"
   ]
  },
  {
   "cell_type": "markdown",
   "metadata": {},
   "source": [
    "### Real losses"
   ]
  },
  {
   "cell_type": "code",
   "execution_count": 183,
   "metadata": {},
   "outputs": [],
   "source": [
    "losses = np.exp(stock_returns) - 1\n",
    "losses['bonds'] = -(np.exp(yields.diff()) - 1) + (np.exp(yields / 250) - 1)\n",
    "losses = -losses"
   ]
  },
  {
   "cell_type": "code",
   "execution_count": 186,
   "metadata": {},
   "outputs": [
    {
     "data": {
      "text/plain": [
       "Date\n",
       "2010-01-01        0.000000\n",
       "2010-01-04    -4557.022204\n",
       "2010-01-05   -13881.093787\n",
       "2010-01-06     1854.607886\n",
       "2010-01-07   -14836.057967\n",
       "                  ...     \n",
       "2020-04-20     3332.391780\n",
       "2020-04-21    15021.908066\n",
       "2020-04-22    -4359.189438\n",
       "2020-04-23    -2812.921186\n",
       "2020-04-24     5278.904504\n",
       "Length: 2992, dtype: float64"
      ]
     },
     "execution_count": 186,
     "metadata": {},
     "output_type": "execute_result"
    }
   ],
   "source": [
    "spot_losses = (losses * absolute_weights).sum(axis=1)\n",
    "spot_losses"
   ]
  },
  {
   "cell_type": "markdown",
   "metadata": {},
   "source": [
    "### Linear losses"
   ]
  },
  {
   "cell_type": "code",
   "execution_count": null,
   "metadata": {},
   "outputs": [],
   "source": []
  }
 ],
 "metadata": {
  "kernelspec": {
   "display_name": "Python 3",
   "language": "python",
   "name": "python3"
  },
  "language_info": {
   "codemirror_mode": {
    "name": "ipython",
    "version": 3
   },
   "file_extension": ".py",
   "mimetype": "text/x-python",
   "name": "python",
   "nbconvert_exporter": "python",
   "pygments_lexer": "ipython3",
   "version": "3.8.2"
  }
 },
 "nbformat": 4,
 "nbformat_minor": 4
}
