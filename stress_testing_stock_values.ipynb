{
 "cells": [
  {
   "cell_type": "markdown",
   "metadata": {},
   "source": [
    "# Stress Testing "
   ]
  },
  {
   "cell_type": "code",
   "execution_count": 65,
   "metadata": {},
   "outputs": [],
   "source": [
    "import pandas as pd\n",
    "import numpy as np\n",
    "import matplotlib.pyplot as plt"
   ]
  },
  {
   "cell_type": "code",
   "execution_count": 66,
   "metadata": {},
   "outputs": [],
   "source": [
    "data = pd.read_csv('dataset.csv', index_col=0)\n",
    "data.index = pd.to_datetime(data.index)"
   ]
  },
  {
   "cell_type": "code",
   "execution_count": 67,
   "metadata": {},
   "outputs": [],
   "source": [
    "relative_weights = [0.3, 0.3, 0.01, 0.09, 0.3]\n",
    "absolute_weights = [300000, 300000, 10000, 90000, 300000]"
   ]
  },
  {
   "cell_type": "code",
   "execution_count": 79,
   "metadata": {},
   "outputs": [],
   "source": [
    "#\n",
    "change = 1.2\n",
    "\n",
    "stock_returns = np.log(data[['SPY', 'AEX', 'RDSA.AS', 'HSI']]).diff()\n",
    "stock_returns[['SPY', 'HSI']] + np.log(data[['USDEUR', 'HKDEUR']]).diff().values\n",
    "yields = data['YIELDS']*change / 100\n"
   ]
  },
  {
   "cell_type": "code",
   "execution_count": 80,
   "metadata": {},
   "outputs": [],
   "source": [
    "# Real losses\n",
    "\n",
    "losses = np.exp(stock_returns) - 1\n",
    "until_maturity = pd.Series(np.arange(12, 0, -1/(250))[:len(data)])\n",
    "until_maturity.index = data.index\n",
    "losses['bonds'] = np.exp(-until_maturity * yields.diff() + (yields + yields.diff()) / 250) - 1\n",
    "losses = -losses"
   ]
  },
  {
   "cell_type": "code",
   "execution_count": 81,
   "metadata": {},
   "outputs": [],
   "source": [
    "total_losses = (losses * relative_weights).sum(axis=1)\n",
    "total_losses = total_losses * 1000000"
   ]
  },
  {
   "cell_type": "code",
   "execution_count": 82,
   "metadata": {},
   "outputs": [
    {
     "data": {
      "text/plain": [
       "Date\n",
       "2010-01-01       0.000000\n",
       "2010-01-04     -54.278006\n",
       "2010-01-05   -3007.818704\n",
       "2010-01-06     667.149584\n",
       "2010-01-07   -1422.366697\n",
       "                 ...     \n",
       "2015-02-24   -3247.012000\n",
       "2015-02-25    -113.859039\n",
       "2015-02-26   -3595.654775\n",
       "2015-02-27     778.669922\n",
       "2015-03-02   -2904.287275\n",
       "Length: 1496, dtype: float64"
      ]
     },
     "execution_count": 82,
     "metadata": {},
     "output_type": "execute_result"
    }
   ],
   "source": [
    "#total losses last 5 years\n",
    "middle_index = len(total_losses)//2\n",
    "total_losses_5 = total_losses[:middle_index]\n",
    "total_losses_5"
   ]
  },
  {
   "cell_type": "code",
   "execution_count": 83,
   "metadata": {},
   "outputs": [
    {
     "data": {
      "text/plain": [
       "Date\n",
       "2020-03-24   -60334.713581\n",
       "2011-11-30   -27417.752136\n",
       "2020-03-13   -24891.630573\n",
       "2011-11-28   -22952.640055\n",
       "2020-03-17   -22597.339920\n",
       "                  ...     \n",
       "2016-06-24    28702.891293\n",
       "2020-03-18    34434.503218\n",
       "2020-03-16    48495.510710\n",
       "2020-03-09    51857.633150\n",
       "2020-03-12    65863.260073\n",
       "Length: 2992, dtype: float64"
      ]
     },
     "execution_count": 83,
     "metadata": {},
     "output_type": "execute_result"
    }
   ],
   "source": [
    "total_losses = total_losses.sort_values(ascending=True)\n",
    "total_losses"
   ]
  },
  {
   "cell_type": "code",
   "execution_count": 84,
   "metadata": {},
   "outputs": [
    {
     "name": "stdout",
     "output_type": "stream",
     "text": [
      "10 Years:\n",
      " Var 97.5%:\t -10899.95387367169 \n",
      " Var 99%:\t -14460.796487448319\n"
     ]
    }
   ],
   "source": [
    "var_97 = total_losses.quantile(0.025)\n",
    "var_99 = total_losses.quantile(0.01)\n",
    "\n",
    "print(\"10 Years:\\n\",\n",
    "\"Var 97.5%:\\t\", var_97, \"\\n Var 99%:\\t\", var_99)"
   ]
  },
  {
   "cell_type": "code",
   "execution_count": null,
   "metadata": {},
   "outputs": [],
   "source": []
  }
 ],
 "metadata": {
  "kernelspec": {
   "display_name": "Python 3",
   "language": "python",
   "name": "python3"
  },
  "language_info": {
   "codemirror_mode": {
    "name": "ipython",
    "version": 3
   },
   "file_extension": ".py",
   "mimetype": "text/x-python",
   "name": "python",
   "nbconvert_exporter": "python",
   "pygments_lexer": "ipython3",
   "version": "3.8.2"
  }
 },
 "nbformat": 4,
 "nbformat_minor": 4
}
