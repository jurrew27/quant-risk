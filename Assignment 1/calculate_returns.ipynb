{
 "cells": [
  {
   "cell_type": "code",
   "execution_count": 2,
   "metadata": {},
   "outputs": [],
   "source": [
    "import pandas as pd\n",
    "import numpy as np"
   ]
  },
  {
   "cell_type": "markdown",
   "metadata": {},
   "source": [
    "## Portfolio\n",
    "\n",
    "- SPY: €300 000\n",
    "- AEX: €300 000\n",
    "- RDSA: €10 000\n",
    "- HSI: €90 000\n",
    "- Bonds: €300 000\n",
    "\n",
    "Total: €1 000 000"
   ]
  },
  {
   "cell_type": "code",
   "execution_count": 3,
   "metadata": {},
   "outputs": [],
   "source": [
    "data = pd.read_csv('dataset.csv', index_col=0)\n",
    "data.index = pd.to_datetime(data.index)"
   ]
  },
  {
   "cell_type": "code",
   "execution_count": 7,
   "metadata": {},
   "outputs": [],
   "source": [
    "relative_weights = [0.3, 0.3, 0.01, 0.09, 0.3]\n",
    "absolute_weights = [300000, 300000, 10000, 90000, 300000]"
   ]
  },
  {
   "cell_type": "code",
   "execution_count": 20,
   "metadata": {},
   "outputs": [],
   "source": [
    "stock_returns = np.log(data[['SPY', 'AEX', 'RDSA.AS', 'HSI']]).diff()\n",
    "stock_returns[['SPY', 'HSI']] = stock_returns[['SPY', 'HSI']].values + np.log(data[['USDEUR', 'HKDEUR']]).diff().values\n",
    "yields = data['YIELDS'] / 100"
   ]
  },
  {
   "cell_type": "markdown",
   "metadata": {},
   "source": [
    "### Real losses"
   ]
  },
  {
   "cell_type": "code",
   "execution_count": 21,
   "metadata": {},
   "outputs": [],
   "source": [
    "losses = np.exp(stock_returns) - 1\n",
    "until_maturity = pd.Series(np.arange(12, 0, -1/(250))[:len(data)])\n",
    "until_maturity.index = data.index\n",
    "losses['bonds'] = np.exp(-until_maturity * yields.diff() + (yields + yields.diff()) / 250) - 1\n",
    "losses = -losses"
   ]
  },
  {
   "cell_type": "code",
   "execution_count": 22,
   "metadata": {},
   "outputs": [
    {
     "data": {
      "text/plain": [
       "Date\n",
       "2010-01-01    0.000000\n",
       "2010-01-04    0.000552\n",
       "2010-01-05   -0.004411\n",
       "2010-01-06    0.001525\n",
       "2010-01-07   -0.003465\n",
       "                ...   \n",
       "2020-04-20    0.000435\n",
       "2020-04-21    0.021232\n",
       "2020-04-22   -0.017767\n",
       "2020-04-23   -0.002725\n",
       "2020-04-24    0.004614\n",
       "Length: 2992, dtype: float64"
      ]
     },
     "execution_count": 22,
     "metadata": {},
     "output_type": "execute_result"
    }
   ],
   "source": [
    "total_losses = (losses * relative_weights).sum(axis=1)\n",
    "total_losses"
   ]
  },
  {
   "cell_type": "markdown",
   "metadata": {},
   "source": [
    "### Linear losses"
   ]
  },
  {
   "cell_type": "code",
   "execution_count": 23,
   "metadata": {},
   "outputs": [],
   "source": [
    "linear_losses = stock_returns\n",
    "linear_losses['bonds'] = yields / 250 - until_maturity * yields.diff()\n",
    "linear_losses = -linear_losses"
   ]
  },
  {
   "cell_type": "code",
   "execution_count": 24,
   "metadata": {},
   "outputs": [
    {
     "data": {
      "text/plain": [
       "Date\n",
       "2010-01-01    0.000000\n",
       "2010-01-04    0.000553\n",
       "2010-01-05   -0.004374\n",
       "2010-01-06    0.001528\n",
       "2010-01-07   -0.003446\n",
       "                ...   \n",
       "2020-04-20    0.000443\n",
       "2020-04-21    0.021567\n",
       "2020-04-22   -0.017525\n",
       "2020-04-23   -0.002713\n",
       "2020-04-24    0.004657\n",
       "Length: 2992, dtype: float64"
      ]
     },
     "execution_count": 24,
     "metadata": {},
     "output_type": "execute_result"
    }
   ],
   "source": [
    "total_linear_losses = (linear_losses * relative_weights).sum(axis=1)\n",
    "total_linear_losses"
   ]
  },
  {
   "cell_type": "markdown",
   "metadata": {},
   "source": [
    "## Linear loss as a function of risk factors"
   ]
  },
  {
   "cell_type": "code",
   "execution_count": 25,
   "metadata": {},
   "outputs": [
    {
     "data": {
      "text/html": [
       "<div>\n",
       "<style scoped>\n",
       "    .dataframe tbody tr th:only-of-type {\n",
       "        vertical-align: middle;\n",
       "    }\n",
       "\n",
       "    .dataframe tbody tr th {\n",
       "        vertical-align: top;\n",
       "    }\n",
       "\n",
       "    .dataframe thead th {\n",
       "        text-align: right;\n",
       "    }\n",
       "</style>\n",
       "<table border=\"1\" class=\"dataframe\">\n",
       "  <thead>\n",
       "    <tr style=\"text-align: right;\">\n",
       "      <th></th>\n",
       "      <th>SPY</th>\n",
       "      <th>AEX</th>\n",
       "      <th>RDSA.AS</th>\n",
       "      <th>HSI</th>\n",
       "      <th>USDEUR</th>\n",
       "      <th>HKDEUR</th>\n",
       "      <th>YIELDS</th>\n",
       "    </tr>\n",
       "    <tr>\n",
       "      <th>Date</th>\n",
       "      <th></th>\n",
       "      <th></th>\n",
       "      <th></th>\n",
       "      <th></th>\n",
       "      <th></th>\n",
       "      <th></th>\n",
       "      <th></th>\n",
       "    </tr>\n",
       "  </thead>\n",
       "  <tbody>\n",
       "    <tr>\n",
       "      <th>2010-01-01</th>\n",
       "      <td>NaN</td>\n",
       "      <td>NaN</td>\n",
       "      <td>NaN</td>\n",
       "      <td>NaN</td>\n",
       "      <td>NaN</td>\n",
       "      <td>NaN</td>\n",
       "      <td>NaN</td>\n",
       "    </tr>\n",
       "    <tr>\n",
       "      <th>2010-01-04</th>\n",
       "      <td>-0.000000</td>\n",
       "      <td>-0.000000</td>\n",
       "      <td>-0.000000</td>\n",
       "      <td>-0.000000</td>\n",
       "      <td>0.000709</td>\n",
       "      <td>-0.000111</td>\n",
       "      <td>-0.000045</td>\n",
       "    </tr>\n",
       "    <tr>\n",
       "      <th>2010-01-05</th>\n",
       "      <td>-0.000793</td>\n",
       "      <td>0.000885</td>\n",
       "      <td>-0.000067</td>\n",
       "      <td>-0.001862</td>\n",
       "      <td>-0.001209</td>\n",
       "      <td>-0.000372</td>\n",
       "      <td>-0.000955</td>\n",
       "    </tr>\n",
       "    <tr>\n",
       "      <th>2010-01-06</th>\n",
       "      <td>-0.000211</td>\n",
       "      <td>0.000474</td>\n",
       "      <td>0.000072</td>\n",
       "      <td>-0.000552</td>\n",
       "      <td>0.000794</td>\n",
       "      <td>0.000211</td>\n",
       "      <td>0.000741</td>\n",
       "    </tr>\n",
       "    <tr>\n",
       "      <th>2010-01-07</th>\n",
       "      <td>-0.001264</td>\n",
       "      <td>0.000818</td>\n",
       "      <td>0.000030</td>\n",
       "      <td>0.000593</td>\n",
       "      <td>-0.001797</td>\n",
       "      <td>-0.000501</td>\n",
       "      <td>-0.001325</td>\n",
       "    </tr>\n",
       "    <tr>\n",
       "      <th>...</th>\n",
       "      <td>...</td>\n",
       "      <td>...</td>\n",
       "      <td>...</td>\n",
       "      <td>...</td>\n",
       "      <td>...</td>\n",
       "      <td>...</td>\n",
       "      <td>...</td>\n",
       "    </tr>\n",
       "    <tr>\n",
       "      <th>2020-04-20</th>\n",
       "      <td>0.001788</td>\n",
       "      <td>-0.001357</td>\n",
       "      <td>0.000027</td>\n",
       "      <td>0.000062</td>\n",
       "      <td>-0.000059</td>\n",
       "      <td>-0.000024</td>\n",
       "      <td>0.000005</td>\n",
       "    </tr>\n",
       "    <tr>\n",
       "      <th>2020-04-21</th>\n",
       "      <td>0.009250</td>\n",
       "      <td>0.010115</td>\n",
       "      <td>0.000488</td>\n",
       "      <td>0.002007</td>\n",
       "      <td>-0.000231</td>\n",
       "      <td>-0.000062</td>\n",
       "      <td>0.000001</td>\n",
       "    </tr>\n",
       "    <tr>\n",
       "      <th>2020-04-22</th>\n",
       "      <td>-0.006586</td>\n",
       "      <td>-0.008272</td>\n",
       "      <td>-0.000603</td>\n",
       "      <td>-0.000377</td>\n",
       "      <td>-0.001297</td>\n",
       "      <td>-0.000400</td>\n",
       "      <td>0.000009</td>\n",
       "    </tr>\n",
       "    <tr>\n",
       "      <th>2020-04-23</th>\n",
       "      <td>0.000022</td>\n",
       "      <td>-0.001825</td>\n",
       "      <td>-0.000331</td>\n",
       "      <td>-0.000316</td>\n",
       "      <td>-0.000211</td>\n",
       "      <td>-0.000056</td>\n",
       "      <td>0.000004</td>\n",
       "    </tr>\n",
       "    <tr>\n",
       "      <th>2020-04-24</th>\n",
       "      <td>-0.000558</td>\n",
       "      <td>0.004593</td>\n",
       "      <td>0.000335</td>\n",
       "      <td>0.000550</td>\n",
       "      <td>-0.000211</td>\n",
       "      <td>-0.000056</td>\n",
       "      <td>0.000004</td>\n",
       "    </tr>\n",
       "  </tbody>\n",
       "</table>\n",
       "<p>2992 rows × 7 columns</p>\n",
       "</div>"
      ],
      "text/plain": [
       "                 SPY       AEX   RDSA.AS       HSI    USDEUR    HKDEUR  \\\n",
       "Date                                                                     \n",
       "2010-01-01       NaN       NaN       NaN       NaN       NaN       NaN   \n",
       "2010-01-04 -0.000000 -0.000000 -0.000000 -0.000000  0.000709 -0.000111   \n",
       "2010-01-05 -0.000793  0.000885 -0.000067 -0.001862 -0.001209 -0.000372   \n",
       "2010-01-06 -0.000211  0.000474  0.000072 -0.000552  0.000794  0.000211   \n",
       "2010-01-07 -0.001264  0.000818  0.000030  0.000593 -0.001797 -0.000501   \n",
       "...              ...       ...       ...       ...       ...       ...   \n",
       "2020-04-20  0.001788 -0.001357  0.000027  0.000062 -0.000059 -0.000024   \n",
       "2020-04-21  0.009250  0.010115  0.000488  0.002007 -0.000231 -0.000062   \n",
       "2020-04-22 -0.006586 -0.008272 -0.000603 -0.000377 -0.001297 -0.000400   \n",
       "2020-04-23  0.000022 -0.001825 -0.000331 -0.000316 -0.000211 -0.000056   \n",
       "2020-04-24 -0.000558  0.004593  0.000335  0.000550 -0.000211 -0.000056   \n",
       "\n",
       "              YIELDS  \n",
       "Date                  \n",
       "2010-01-01       NaN  \n",
       "2010-01-04 -0.000045  \n",
       "2010-01-05 -0.000955  \n",
       "2010-01-06  0.000741  \n",
       "2010-01-07 -0.001325  \n",
       "...              ...  \n",
       "2020-04-20  0.000005  \n",
       "2020-04-21  0.000001  \n",
       "2020-04-22  0.000009  \n",
       "2020-04-23  0.000004  \n",
       "2020-04-24  0.000004  \n",
       "\n",
       "[2992 rows x 7 columns]"
      ]
     },
     "execution_count": 25,
     "metadata": {},
     "output_type": "execute_result"
    }
   ],
   "source": [
    "z = np.log(data[['SPY', 'AEX', 'RDSA.AS', 'HSI', 'USDEUR', 'HKDEUR']])\n",
    "z['YIELDS'] = data['YIELDS'] / 100\n",
    "x = z.diff()\n",
    "\n",
    "c = np.zeros(x.shape)\n",
    "c[:,-1] = z['YIELDS'] / 250 * 0.3\n",
    "\n",
    "b = np.zeros(x.shape)\n",
    "b[:,:] = [0.3, 0.3, 0.01, 0.09, 0.3, 0.09, 0.3]\n",
    "b[:,-1] *= -np.arange(12, 0, -1/(250))[:len(x)]\n",
    "\n",
    "l = -(c + b * x)\n",
    "\n",
    "l"
   ]
  },
  {
   "cell_type": "code",
   "execution_count": null,
   "metadata": {},
   "outputs": [],
   "source": []
  }
 ],
 "metadata": {
  "kernelspec": {
   "display_name": "Python 3",
   "language": "python",
   "name": "python3"
  },
  "language_info": {
   "codemirror_mode": {
    "name": "ipython",
    "version": 3
   },
   "file_extension": ".py",
   "mimetype": "text/x-python",
   "name": "python",
   "nbconvert_exporter": "python",
   "pygments_lexer": "ipython3",
   "version": "3.8.2"
  }
 },
 "nbformat": 4,
 "nbformat_minor": 4
}
