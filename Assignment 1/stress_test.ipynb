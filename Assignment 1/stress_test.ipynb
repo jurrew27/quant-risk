{
 "cells": [
  {
   "cell_type": "code",
   "execution_count": 289,
   "metadata": {},
   "outputs": [],
   "source": [
    "import pandas as pd\n",
    "import numpy as np"
   ]
  },
  {
   "cell_type": "markdown",
   "metadata": {},
   "source": [
    "## Portfolio\n",
    "\n",
    "- SPY: €300 000\n",
    "- AEX: €300 000\n",
    "- RDSA: €10 000\n",
    "- HSI: €90 000\n",
    "- Bonds: €300 000\n",
    "\n",
    "Total: €1 000 000"
   ]
  },
  {
   "cell_type": "code",
   "execution_count": 312,
   "metadata": {},
   "outputs": [
    {
     "data": {
      "text/html": [
       "<div>\n",
       "<style scoped>\n",
       "    .dataframe tbody tr th:only-of-type {\n",
       "        vertical-align: middle;\n",
       "    }\n",
       "\n",
       "    .dataframe tbody tr th {\n",
       "        vertical-align: top;\n",
       "    }\n",
       "\n",
       "    .dataframe thead th {\n",
       "        text-align: right;\n",
       "    }\n",
       "</style>\n",
       "<table border=\"1\" class=\"dataframe\">\n",
       "  <thead>\n",
       "    <tr style=\"text-align: right;\">\n",
       "      <th></th>\n",
       "      <th>SPY</th>\n",
       "      <th>AEX</th>\n",
       "      <th>HSI</th>\n",
       "      <th>RDSA.AS</th>\n",
       "      <th>USDEUR</th>\n",
       "      <th>HKDEUR</th>\n",
       "      <th>YIELDS</th>\n",
       "    </tr>\n",
       "    <tr>\n",
       "      <th>Date</th>\n",
       "      <th></th>\n",
       "      <th></th>\n",
       "      <th></th>\n",
       "      <th></th>\n",
       "      <th></th>\n",
       "      <th></th>\n",
       "      <th></th>\n",
       "    </tr>\n",
       "  </thead>\n",
       "  <tbody>\n",
       "    <tr>\n",
       "      <th>2020-04-20</th>\n",
       "      <td>281.589996</td>\n",
       "      <td>512.760010</td>\n",
       "      <td>24330.019531</td>\n",
       "      <td>15.800000</td>\n",
       "      <td>0.92040</td>\n",
       "      <td>0.118751</td>\n",
       "      <td>-0.346847</td>\n",
       "    </tr>\n",
       "    <tr>\n",
       "      <th>2020-04-21</th>\n",
       "      <td>273.040009</td>\n",
       "      <td>495.760010</td>\n",
       "      <td>23793.550781</td>\n",
       "      <td>15.048000</td>\n",
       "      <td>0.92111</td>\n",
       "      <td>0.118833</td>\n",
       "      <td>-0.370244</td>\n",
       "    </tr>\n",
       "    <tr>\n",
       "      <th>2020-04-22</th>\n",
       "      <td>279.100006</td>\n",
       "      <td>509.619995</td>\n",
       "      <td>23893.359375</td>\n",
       "      <td>15.984000</td>\n",
       "      <td>0.92510</td>\n",
       "      <td>0.119362</td>\n",
       "      <td>-0.333314</td>\n",
       "    </tr>\n",
       "    <tr>\n",
       "      <th>2020-04-23</th>\n",
       "      <td>279.079987</td>\n",
       "      <td>512.729980</td>\n",
       "      <td>23977.320312</td>\n",
       "      <td>16.521999</td>\n",
       "      <td>0.92575</td>\n",
       "      <td>0.119436</td>\n",
       "      <td>-0.335829</td>\n",
       "    </tr>\n",
       "    <tr>\n",
       "      <th>2020-04-24</th>\n",
       "      <td>279.600006</td>\n",
       "      <td>504.940002</td>\n",
       "      <td>23831.330078</td>\n",
       "      <td>15.978000</td>\n",
       "      <td>0.92640</td>\n",
       "      <td>0.119510</td>\n",
       "      <td>-0.335829</td>\n",
       "    </tr>\n",
       "  </tbody>\n",
       "</table>\n",
       "</div>"
      ],
      "text/plain": [
       "                   SPY         AEX           HSI    RDSA.AS   USDEUR  \\\n",
       "Date                                                                   \n",
       "2020-04-20  281.589996  512.760010  24330.019531  15.800000  0.92040   \n",
       "2020-04-21  273.040009  495.760010  23793.550781  15.048000  0.92111   \n",
       "2020-04-22  279.100006  509.619995  23893.359375  15.984000  0.92510   \n",
       "2020-04-23  279.079987  512.729980  23977.320312  16.521999  0.92575   \n",
       "2020-04-24  279.600006  504.940002  23831.330078  15.978000  0.92640   \n",
       "\n",
       "              HKDEUR    YIELDS  \n",
       "Date                            \n",
       "2020-04-20  0.118751 -0.346847  \n",
       "2020-04-21  0.118833 -0.370244  \n",
       "2020-04-22  0.119362 -0.333314  \n",
       "2020-04-23  0.119436 -0.335829  \n",
       "2020-04-24  0.119510 -0.335829  "
      ]
     },
     "execution_count": 312,
     "metadata": {},
     "output_type": "execute_result"
    }
   ],
   "source": [
    "data = pd.read_csv('dataset.csv', index_col=0)\n",
    "data.index = pd.to_datetime(data.index)\n",
    "data.tail()"
   ]
  },
  {
   "cell_type": "code",
   "execution_count": 313,
   "metadata": {},
   "outputs": [
    {
     "data": {
      "text/html": [
       "<div>\n",
       "<style scoped>\n",
       "    .dataframe tbody tr th:only-of-type {\n",
       "        vertical-align: middle;\n",
       "    }\n",
       "\n",
       "    .dataframe tbody tr th {\n",
       "        vertical-align: top;\n",
       "    }\n",
       "\n",
       "    .dataframe thead th {\n",
       "        text-align: right;\n",
       "    }\n",
       "</style>\n",
       "<table border=\"1\" class=\"dataframe\">\n",
       "  <thead>\n",
       "    <tr style=\"text-align: right;\">\n",
       "      <th></th>\n",
       "      <th>SPY</th>\n",
       "      <th>AEX</th>\n",
       "      <th>HSI</th>\n",
       "      <th>RDSA.AS</th>\n",
       "      <th>USDEUR</th>\n",
       "      <th>HKDEUR</th>\n",
       "      <th>YIELDS</th>\n",
       "    </tr>\n",
       "    <tr>\n",
       "      <th>Date</th>\n",
       "      <th></th>\n",
       "      <th></th>\n",
       "      <th></th>\n",
       "      <th></th>\n",
       "      <th></th>\n",
       "      <th></th>\n",
       "      <th></th>\n",
       "    </tr>\n",
       "  </thead>\n",
       "  <tbody>\n",
       "    <tr>\n",
       "      <th>2010-01-01</th>\n",
       "      <td>113.330002</td>\n",
       "      <td>343.029999</td>\n",
       "      <td>21823.279297</td>\n",
       "      <td>21.580</td>\n",
       "      <td>0.69493</td>\n",
       "      <td>0.089270</td>\n",
       "      <td>3.768965</td>\n",
       "    </tr>\n",
       "    <tr>\n",
       "      <th>2020-01-01</th>\n",
       "      <td>323.364990</td>\n",
       "      <td>608.725006</td>\n",
       "      <td>28366.634766</td>\n",
       "      <td>26.355</td>\n",
       "      <td>0.89120</td>\n",
       "      <td>0.114334</td>\n",
       "      <td>-0.163201</td>\n",
       "    </tr>\n",
       "  </tbody>\n",
       "</table>\n",
       "</div>"
      ],
      "text/plain": [
       "                   SPY         AEX           HSI  RDSA.AS   USDEUR    HKDEUR  \\\n",
       "Date                                                                           \n",
       "2010-01-01  113.330002  343.029999  21823.279297   21.580  0.69493  0.089270   \n",
       "2020-01-01  323.364990  608.725006  28366.634766   26.355  0.89120  0.114334   \n",
       "\n",
       "              YIELDS  \n",
       "Date                  \n",
       "2010-01-01  3.768965  \n",
       "2020-01-01 -0.163201  "
      ]
     },
     "execution_count": 313,
     "metadata": {},
     "output_type": "execute_result"
    }
   ],
   "source": [
    "data = data.iloc[[0,2906],:]\n",
    "data"
   ]
  },
  {
   "cell_type": "code",
   "execution_count": 315,
   "metadata": {},
   "outputs": [
    {
     "data": {
      "text/plain": [
       "SPY        2.853304\n",
       "AEX        1.774553\n",
       "HSI        1.299834\n",
       "RDSA.AS    1.221270\n",
       "dtype: float64"
      ]
     },
     "execution_count": 315,
     "metadata": {},
     "output_type": "execute_result"
    }
   ],
   "source": [
    "#percentage increase\n",
    "pf_incr = 1+(data.iloc[1,0:4] -  data.iloc[0,0:4]) /  data.iloc[0,0:4]\n",
    "pf_incr"
   ]
  },
  {
   "cell_type": "code",
   "execution_count": 316,
   "metadata": {},
   "outputs": [
    {
     "data": {
      "text/plain": [
       "SPY        855991.313006\n",
       "AEX        532365.981054\n",
       "HSI        116985.036675\n",
       "RDSA.AS     12212.697215\n",
       "yields     415792.002538\n",
       "dtype: float64"
      ]
     },
     "execution_count": 316,
     "metadata": {},
     "output_type": "execute_result"
    }
   ],
   "source": [
    "pf = pf_incr.iloc[0:4]*[300000, 300000, 90000, 10000]\n",
    "yields = 300000*np.exp(-(12-10)*data.iloc[1,6])\n",
    "pf['yields'] = yields\n",
    "pf"
   ]
  },
  {
   "cell_type": "code",
   "execution_count": 300,
   "metadata": {},
   "outputs": [
    {
     "data": {
      "text/plain": [
       "1933347.030486621"
      ]
     },
     "execution_count": 300,
     "metadata": {},
     "output_type": "execute_result"
    }
   ],
   "source": [
    "pf_old = sum(pf)\n",
    "pf_old"
   ]
  },
  {
   "cell_type": "code",
   "execution_count": 301,
   "metadata": {},
   "outputs": [
    {
     "data": {
      "text/plain": [
       "SPY        1.027190e+06\n",
       "AEX        6.388392e+05\n",
       "HSI        1.403820e+05\n",
       "RDSA.AS    1.465524e+04\n",
       "yields     4.157920e+05\n",
       "dtype: float64"
      ]
     },
     "execution_count": 301,
     "metadata": {},
     "output_type": "execute_result"
    }
   ],
   "source": [
    "#increase of 20%\n",
    "stock_change = 1.2\n",
    "pf[0:4]=pf[0:4]*stock_change\n",
    "pf_new = pf\n",
    "pf_new"
   ]
  },
  {
   "cell_type": "code",
   "execution_count": 302,
   "metadata": {},
   "outputs": [
    {
     "data": {
      "text/plain": [
       "2236858.0360764056"
      ]
     },
     "execution_count": 302,
     "metadata": {},
     "output_type": "execute_result"
    }
   ],
   "source": [
    "pf_new = sum(pf_new)\n",
    "pf_new"
   ]
  },
  {
   "cell_type": "code",
   "execution_count": 303,
   "metadata": {},
   "outputs": [
    {
     "data": {
      "text/plain": [
       "0.15698733895352002"
      ]
     },
     "execution_count": 303,
     "metadata": {},
     "output_type": "execute_result"
    }
   ],
   "source": [
    "#increase of pf value\n",
    "change = (pf_new - pf_old)/pf_old\n",
    "change"
   ]
  },
  {
   "cell_type": "markdown",
   "metadata": {},
   "source": [
    "# Currency change"
   ]
  },
  {
   "cell_type": "code",
   "execution_count": 310,
   "metadata": {},
   "outputs": [
    {
     "data": {
      "text/html": [
       "<div>\n",
       "<style scoped>\n",
       "    .dataframe tbody tr th:only-of-type {\n",
       "        vertical-align: middle;\n",
       "    }\n",
       "\n",
       "    .dataframe tbody tr th {\n",
       "        vertical-align: top;\n",
       "    }\n",
       "\n",
       "    .dataframe thead th {\n",
       "        text-align: right;\n",
       "    }\n",
       "</style>\n",
       "<table border=\"1\" class=\"dataframe\">\n",
       "  <thead>\n",
       "    <tr style=\"text-align: right;\">\n",
       "      <th></th>\n",
       "      <th>SPY</th>\n",
       "      <th>AEX</th>\n",
       "      <th>HSI</th>\n",
       "      <th>RDSA.AS</th>\n",
       "      <th>USDEUR</th>\n",
       "      <th>HKDEUR</th>\n",
       "      <th>YIELDS</th>\n",
       "    </tr>\n",
       "    <tr>\n",
       "      <th>Date</th>\n",
       "      <th></th>\n",
       "      <th></th>\n",
       "      <th></th>\n",
       "      <th></th>\n",
       "      <th></th>\n",
       "      <th></th>\n",
       "      <th></th>\n",
       "    </tr>\n",
       "  </thead>\n",
       "  <tbody>\n",
       "    <tr>\n",
       "      <th>2010-01-01</th>\n",
       "      <td>113.330002</td>\n",
       "      <td>343.029999</td>\n",
       "      <td>21823.279297</td>\n",
       "      <td>21.580</td>\n",
       "      <td>0.69493</td>\n",
       "      <td>0.089270</td>\n",
       "      <td>3.768965</td>\n",
       "    </tr>\n",
       "    <tr>\n",
       "      <th>2020-01-01</th>\n",
       "      <td>323.364990</td>\n",
       "      <td>608.725006</td>\n",
       "      <td>28366.634766</td>\n",
       "      <td>26.355</td>\n",
       "      <td>0.89120</td>\n",
       "      <td>0.114334</td>\n",
       "      <td>-0.163201</td>\n",
       "    </tr>\n",
       "  </tbody>\n",
       "</table>\n",
       "</div>"
      ],
      "text/plain": [
       "                   SPY         AEX           HSI  RDSA.AS   USDEUR    HKDEUR  \\\n",
       "Date                                                                           \n",
       "2010-01-01  113.330002  343.029999  21823.279297   21.580  0.69493  0.089270   \n",
       "2020-01-01  323.364990  608.725006  28366.634766   26.355  0.89120  0.114334   \n",
       "\n",
       "              YIELDS  \n",
       "Date                  \n",
       "2010-01-01  3.768965  \n",
       "2020-01-01 -0.163201  "
      ]
     },
     "execution_count": 310,
     "metadata": {},
     "output_type": "execute_result"
    }
   ],
   "source": [
    "data = pd.read_csv('dataset.csv', index_col=0)\n",
    "data.index = pd.to_datetime(data.index)\n",
    "data = data.iloc[[0,2906],:]\n",
    "data"
   ]
  },
  {
   "cell_type": "code",
   "execution_count": 311,
   "metadata": {},
   "outputs": [
    {
     "data": {
      "text/html": [
       "<div>\n",
       "<style scoped>\n",
       "    .dataframe tbody tr th:only-of-type {\n",
       "        vertical-align: middle;\n",
       "    }\n",
       "\n",
       "    .dataframe tbody tr th {\n",
       "        vertical-align: top;\n",
       "    }\n",
       "\n",
       "    .dataframe thead th {\n",
       "        text-align: right;\n",
       "    }\n",
       "</style>\n",
       "<table border=\"1\" class=\"dataframe\">\n",
       "  <thead>\n",
       "    <tr style=\"text-align: right;\">\n",
       "      <th></th>\n",
       "      <th>SPY</th>\n",
       "      <th>AEX</th>\n",
       "      <th>HSI</th>\n",
       "      <th>RDSA.AS</th>\n",
       "      <th>USDEUR</th>\n",
       "      <th>HKDEUR</th>\n",
       "      <th>YIELDS</th>\n",
       "    </tr>\n",
       "    <tr>\n",
       "      <th>Date</th>\n",
       "      <th></th>\n",
       "      <th></th>\n",
       "      <th></th>\n",
       "      <th></th>\n",
       "      <th></th>\n",
       "      <th></th>\n",
       "      <th></th>\n",
       "    </tr>\n",
       "  </thead>\n",
       "  <tbody>\n",
       "    <tr>\n",
       "      <th>2010-01-01</th>\n",
       "      <td>113.330002</td>\n",
       "      <td>343.029999</td>\n",
       "      <td>21823.279297</td>\n",
       "      <td>21.580</td>\n",
       "      <td>0.69493</td>\n",
       "      <td>0.089270</td>\n",
       "      <td>3.768965</td>\n",
       "    </tr>\n",
       "    <tr>\n",
       "      <th>2020-01-01</th>\n",
       "      <td>323.364990</td>\n",
       "      <td>608.725006</td>\n",
       "      <td>28366.634766</td>\n",
       "      <td>26.355</td>\n",
       "      <td>0.98032</td>\n",
       "      <td>0.125767</td>\n",
       "      <td>-0.163201</td>\n",
       "    </tr>\n",
       "  </tbody>\n",
       "</table>\n",
       "</div>"
      ],
      "text/plain": [
       "                   SPY         AEX           HSI  RDSA.AS   USDEUR    HKDEUR  \\\n",
       "Date                                                                           \n",
       "2010-01-01  113.330002  343.029999  21823.279297   21.580  0.69493  0.089270   \n",
       "2020-01-01  323.364990  608.725006  28366.634766   26.355  0.98032  0.125767   \n",
       "\n",
       "              YIELDS  \n",
       "Date                  \n",
       "2010-01-01  3.768965  \n",
       "2020-01-01 -0.163201  "
      ]
     },
     "execution_count": 311,
     "metadata": {},
     "output_type": "execute_result"
    }
   ],
   "source": [
    "#change usd\n",
    "data.iloc[1,4] = data.iloc[1,4]*1.1\n",
    "\n",
    "#change hkd\n",
    "data.iloc[1,5] = data.iloc[1,5]*1.1\n",
    "\n",
    "data"
   ]
  },
  {
   "cell_type": "code",
   "execution_count": null,
   "metadata": {},
   "outputs": [],
   "source": []
  }
 ],
 "metadata": {
  "kernelspec": {
   "display_name": "Python 3",
   "language": "python",
   "name": "python3"
  },
  "language_info": {
   "codemirror_mode": {
    "name": "ipython",
    "version": 3
   },
   "file_extension": ".py",
   "mimetype": "text/x-python",
   "name": "python",
   "nbconvert_exporter": "python",
   "pygments_lexer": "ipython3",
   "version": "3.8.2"
  }
 },
 "nbformat": 4,
 "nbformat_minor": 4
}
