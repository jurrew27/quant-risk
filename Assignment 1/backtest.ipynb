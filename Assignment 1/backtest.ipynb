{
 "cells": [
  {
   "cell_type": "code",
   "execution_count": 592,
   "metadata": {},
   "outputs": [],
   "source": [
    "import pandas as pd\n",
    "import numpy as np\n",
    "from scipy.stats import norm, binom_test, ttest_1samp, probplot\n",
    "from scipy.stats import t as studentst\n",
    "import matplotlib.pyplot as plt\n",
    "from arch import arch_model\n",
    "from arch.univariate.mean import ZeroMean\n",
    "from arch.univariate.volatility import EWMAVariance, GARCH\n",
    "from tqdm import tqdm\n",
    "from numba import jit"
   ]
  },
  {
   "cell_type": "markdown",
   "metadata": {},
   "source": [
    "## Portfolio\n",
    "\n",
    "- SPY: €300 000\n",
    "- AEX: €300 000\n",
    "- RDSA: €10 000\n",
    "- HSI: €90 000\n",
    "- Bonds: €300 000\n",
    "\n",
    "Total: €1 000 000"
   ]
  },
  {
   "cell_type": "code",
   "execution_count": 259,
   "metadata": {},
   "outputs": [],
   "source": [
    "data = pd.read_csv('dataset.csv', index_col=0)\n",
    "data.index = pd.to_datetime(data.index)\n",
    "\n",
    "Z = np.log(data[['SPY', 'AEX', 'RDSA.AS', 'HSI', 'USDEUR', 'HKDEUR']])\n",
    "Z['YIELDS'] = data['YIELDS'] / 100\n",
    "X = Z.diff()[1:]\n",
    "\n",
    "W = np.array([0.3, 0.3, 0.01, 0.09, 0.3, 0.09, 0.3])\n",
    "\n",
    "Cs = (Z['YIELDS'][1:] / 250 * W[-1]).values\n",
    "Bs = np.zeros(X.shape)\n",
    "Bs[:,:] = W\n",
    "Bs[:,-1] *= -np.arange(12, 0, -1/(250))[:len(X)]\n",
    "\n",
    "principal = 1000000"
   ]
  },
  {
   "cell_type": "code",
   "execution_count": 109,
   "metadata": {},
   "outputs": [],
   "source": [
    "real_losses = pd.read_csv('losses_percentage.csv', index_col=0).sum(axis=1)[1:]"
   ]
  },
  {
   "cell_type": "markdown",
   "metadata": {},
   "source": [
    "## Helper functions"
   ]
  },
  {
   "cell_type": "code",
   "execution_count": 262,
   "metadata": {},
   "outputs": [],
   "source": [
    "def linear_losses(x):\n",
    "    return -Cs[:len(x)] - (Bs[:len(x)] * x).sum(axis=1)"
   ]
  },
  {
   "cell_type": "code",
   "execution_count": 235,
   "metadata": {},
   "outputs": [],
   "source": [
    "def normal_var(mean, std, alpha):\n",
    "    return mean + std * norm.ppf(alpha)\n",
    "\n",
    "def normal_es(mean, std, alpha):\n",
    "    return mean + std * norm.pdf(norm.ppf(alpha)) / (1 - alpha)\n",
    "\n",
    "def t_var(v, mean, std, alpha):\n",
    "    t_std = std / np.sqrt(v / (v-2))\n",
    "    return mean + std * studentst.ppf(alpha, v)\n",
    "\n",
    "def t_es(v, mean, std, alpha):\n",
    "    t_std = std / np.sqrt(v / (v-2))\n",
    "    return mean + std * studentst.pdf(studentst.ppf(alpha, v), v) / (1 - alpha) * \\\n",
    "        (v + studentst.ppf(alpha, v)**2) / (v-1)\n",
    "\n",
    "def empirical_var(x, alpha):\n",
    "    return np.quantile(np.sort(x), alpha, interpolation='linear')\n",
    "    \n",
    "def empirical_es(x, alpha):\n",
    "    var = empirical_var(x, alpha)\n",
    "    return x[x >= var].mean()"
   ]
  },
  {
   "cell_type": "code",
   "execution_count": 173,
   "metadata": {},
   "outputs": [],
   "source": [
    "# def var_cov(x):\n",
    "#     x_prime = x.copy()\n",
    "#     x_prime.values[:,:] = x.mean()\n",
    "#     c = C[:len(x)]\n",
    "#     b = B[:len(x), :]\n",
    "\n",
    "#     mean = - c - (b * x_prime).sum(axis=1)\n",
    "#     std = np.sqrt((b.dot(x.cov()) * b).sum(axis=1))\n",
    "#     return mean, std\n",
    "\n",
    "def vc(x, mean=None, cov=None):\n",
    "    c = Cs[len(x)]\n",
    "    b = Bs[len(x), :]\n",
    "    mu = mean if mean is not None else x.mean()\n",
    "    sigma = cov if cov is not None else x.cov()\n",
    "\n",
    "    mean = - c - (b * mu).sum()\n",
    "    std = np.sqrt(b.dot(sigma).dot(b))\n",
    "    return mean, std"
   ]
  },
  {
   "cell_type": "code",
   "execution_count": 12,
   "metadata": {},
   "outputs": [
    {
     "data": {
      "text/plain": [
       "0.012037053920784718"
      ]
     },
     "execution_count": 12,
     "metadata": {},
     "output_type": "execute_result"
    }
   ],
   "source": [
    "mean, std = vc(X[:250])\n",
    "normal_var(mean, std, 0.975)"
   ]
  },
  {
   "cell_type": "code",
   "execution_count": 178,
   "metadata": {
    "scrolled": true
   },
   "outputs": [],
   "source": [
    "def ccc(x):\n",
    "    p = x.corr()\n",
    "    factor_models = [arch_model(x[column], mean='zero', p=1, q=1, rescale=True) for column in x.columns]\n",
    "    results = [model.fit(update_freq=0, disp='off') for model in factor_models]\n",
    "    scales = [result.scale for result in results]\n",
    "    forecasts = [result.forecast() for result in results]\n",
    "\n",
    "    means = np.array([forecast.mean.values[-1, 0] for forecast in forecasts])\n",
    "    stds = np.array([np.sqrt(forecast.variance.values[-1, 0]) for forecast in forecasts])\n",
    "    \n",
    "    means /= scales\n",
    "    stds /= scales\n",
    "    diag = np.diag(stds)\n",
    "    cov = diag.dot(p).dot(diag)\n",
    "    return vc(x, means, cov)"
   ]
  },
  {
   "cell_type": "code",
   "execution_count": 187,
   "metadata": {
    "scrolled": true
   },
   "outputs": [
    {
     "data": {
      "text/plain": [
       "0.015005642845514831"
      ]
     },
     "execution_count": 187,
     "metadata": {},
     "output_type": "execute_result"
    }
   ],
   "source": [
    "mean, cov = ccc(X[:250])\n",
    "normal_var(mean, std, 0.975)\n",
    "# %lprun -f ccc ccc(X[:1000])"
   ]
  },
  {
   "cell_type": "code",
   "execution_count": 267,
   "metadata": {},
   "outputs": [],
   "source": [
    "def fhs(x):\n",
    "    factor_models = [ZeroMean(x[column], volatility=EWMAVariance(), rescale=True) for column in x.columns]\n",
    "    results = [model.fit(update_freq=0, disp='off') for model in factor_models]\n",
    "    scales = [result.scale for result in results]\n",
    "    forecasts = [result.forecast(start=0) for result in results]\n",
    "    \n",
    "    means = [forecast.mean for forecast in forecasts]\n",
    "    stds = [np.sqrt(forecast.variance) for forecast in forecasts]\n",
    "    \n",
    "    means = pd.concat([mean.rename(columns={'h.1': column}) for mean, column in zip(means, x.columns)], axis=1)\n",
    "    stds = pd.concat([std.rename(columns={'h.1': column}) for std, column in zip(stds, x.columns)], axis=1)\n",
    "    \n",
    "    means /= scales\n",
    "    stds /= scales\n",
    "    \n",
    "    next_means = means.iloc[-1,:]\n",
    "    next_stds = stds.iloc[-1,:]\n",
    "    \n",
    "    residuals = (x - means.shift().values) / stds.shift().values\n",
    "    return linear_losses(next_means + next_stds * residuals)"
   ]
  },
  {
   "cell_type": "code",
   "execution_count": 276,
   "metadata": {
    "scrolled": true
   },
   "outputs": [
    {
     "data": {
      "text/plain": [
       "0.009746115962247434"
      ]
     },
     "execution_count": 276,
     "metadata": {},
     "output_type": "execute_result"
    }
   ],
   "source": [
    "simulated_losses = fhs(X[:250])\n",
    "empirical_var(simulated_losses, 0.975)"
   ]
  },
  {
   "cell_type": "code",
   "execution_count": 271,
   "metadata": {},
   "outputs": [
    {
     "data": {
      "text/plain": [
       "0.014408908762839324"
      ]
     },
     "execution_count": 271,
     "metadata": {},
     "output_type": "execute_result"
    }
   ],
   "source": [
    "empirical_var(real_losses[:250], 0.975)"
   ]
  },
  {
   "cell_type": "markdown",
   "metadata": {},
   "source": [
    "## Backtesting"
   ]
  },
  {
   "cell_type": "code",
   "execution_count": 398,
   "metadata": {},
   "outputs": [],
   "source": [
    "start = 871 # 2013-01-02\n",
    "\n",
    "var_97 = pd.DataFrame(index=X.index, columns=['HS', 'VC', 'VC t3', 'VC t4', 'VC t5', 'VC t6', 'CCC', 'FHS'])\n",
    "var_99, es_97, es_99 = var_97.copy(), var_97.copy(), var_97.copy()"
   ]
  },
  {
   "cell_type": "code",
   "execution_count": 399,
   "metadata": {},
   "outputs": [
    {
     "name": "stderr",
     "output_type": "stream",
     "text": [
      "100%|██████████| 2120/2120 [00:02<00:00, 773.89it/s]\n"
     ]
    }
   ],
   "source": [
    "means = np.empty(len(X))\n",
    "stds = np.empty(len(X))\n",
    "means[:] = np.NaN\n",
    "stds[:] = np.NaN\n",
    "\n",
    "for t in tqdm(range(start, len(X))):\n",
    "    means[t], stds[t] = vc(X[t-start:t])\n",
    "    \n",
    "var_97['VC'] = normal_var(means, stds, 0.975)\n",
    "var_99['VC'] = normal_var(means, stds, 0.99)\n",
    "es_97['VC'] = normal_es(means, stds, 0.975)\n",
    "es_99['VC'] = normal_es(means, stds, 0.99)\n",
    "\n",
    "for v in [3, 4, 5, 6]:\n",
    "    var_97['VC t{}'.format(v)] = t_var(v, means, stds, 0.975)\n",
    "    var_99['VC t{}'.format(v)] = t_var(v, means, stds, 0.99)\n",
    "    es_97['VC t{}'.format(v)] = t_es(v, means, stds, 0.975)\n",
    "    es_99['VC t{}'.format(v)] = t_es(v, means, stds, 0.99)"
   ]
  },
  {
   "cell_type": "code",
   "execution_count": 400,
   "metadata": {},
   "outputs": [],
   "source": [
    "var_97['HS'] = real_losses.rolling(start).quantile(0.975)\n",
    "var_99['HS'] = real_losses.rolling(start).quantile(0.99)\n",
    "\n",
    "es_97['HS'] = real_losses.rolling(start).apply(lambda x: x[x >= x.quantile(0.975)].mean())\n",
    "es_99['HS'] = real_losses.rolling(start).apply(lambda x: x[x >= x.quantile(0.99)].mean())"
   ]
  },
  {
   "cell_type": "code",
   "execution_count": 403,
   "metadata": {},
   "outputs": [
    {
     "name": "stderr",
     "output_type": "stream",
     "text": [
      "100%|██████████| 2120/2120 [04:33<00:00,  7.74it/s]\n"
     ]
    }
   ],
   "source": [
    "means = np.empty(len(X))\n",
    "stds = np.empty(len(X))\n",
    "means[:] = np.NaN\n",
    "stds[:] = np.NaN\n",
    "\n",
    "for t in tqdm(range(start, len(X))):\n",
    "    means[t], stds[t] = ccc(X[t-start:t])\n",
    "\n",
    "var_97['CCC'] = normal_var(means, stds, 0.975)\n",
    "var_99['CCC'] = normal_var(means, stds, 0.99)\n",
    "es_97['CCC'] = normal_es(means, stds, 0.975)\n",
    "es_99['CCC'] = normal_es(means, stds, 0.99)"
   ]
  },
  {
   "cell_type": "code",
   "execution_count": 404,
   "metadata": {},
   "outputs": [
    {
     "name": "stderr",
     "output_type": "stream",
     "text": [
      "  0%|          | 0/2120 [00:00<?, ?it/s]/Users/jurrew27/anaconda3/envs/quant/lib/python3.8/site-packages/arch/univariate/volatility.py:136: RuntimeWarning: overflow encountered in square\n",
      "  resids ** 2.0,\n",
      "100%|██████████| 2120/2120 [01:55<00:00, 18.40it/s]\n",
      "<ipython-input-404-70bb676f0024>:8: RuntimeWarning: invalid value encountered in greater_equal\n",
      "  es_97['FHS'] = np.apply_along_axis(lambda x: x[x >= np.quantile(x, 0.975)].mean(), 1, losses)\n",
      "<ipython-input-404-70bb676f0024>:8: RuntimeWarning: Mean of empty slice.\n",
      "  es_97['FHS'] = np.apply_along_axis(lambda x: x[x >= np.quantile(x, 0.975)].mean(), 1, losses)\n",
      "/Users/jurrew27/anaconda3/envs/quant/lib/python3.8/site-packages/numpy/core/_methods.py:161: RuntimeWarning: invalid value encountered in double_scalars\n",
      "  ret = ret.dtype.type(ret / rcount)\n",
      "<ipython-input-404-70bb676f0024>:9: RuntimeWarning: invalid value encountered in greater_equal\n",
      "  es_99['FHS'] = np.apply_along_axis(lambda x: x[x >= np.quantile(x, 0.99)].mean(), 1, losses)\n",
      "<ipython-input-404-70bb676f0024>:9: RuntimeWarning: Mean of empty slice.\n",
      "  es_99['FHS'] = np.apply_along_axis(lambda x: x[x >= np.quantile(x, 0.99)].mean(), 1, losses)\n"
     ]
    }
   ],
   "source": [
    "losses = np.empty((len(X), start))\n",
    "losses[:] = np.NaN\n",
    "\n",
    "for t in tqdm(range(start, len(X))):\n",
    "    losses[t] = fhs(X[t-start:t]).sort_values()\n",
    "    \n",
    "var_97['FHS'], var_99['FHS'] = np.quantile(losses, [0.975, 0.99], axis=1)\n",
    "es_97['FHS'] = np.apply_along_axis(lambda x: x[x >= np.quantile(x, 0.975)].mean(), 1, losses)\n",
    "es_99['FHS'] = np.apply_along_axis(lambda x: x[x >= np.quantile(x, 0.99)].mean(), 1, losses)"
   ]
  },
  {
   "cell_type": "markdown",
   "metadata": {},
   "source": [
    "## Violations"
   ]
  },
  {
   "cell_type": "code",
   "execution_count": 458,
   "metadata": {},
   "outputs": [],
   "source": [
    "viol_97 = var_97.dropna().lt(real_losses, axis=0)[start:]\n",
    "viol_99 = var_99.dropna().lt(real_losses, axis=0)[start:]\n",
    "val_97 = viol_97.replace(False, np.nan).mul(real_losses, axis=0)[start:]\n",
    "val_99 = viol_99.replace(False, np.nan).mul(real_losses, axis=0)[start:]"
   ]
  },
  {
   "cell_type": "code",
   "execution_count": 558,
   "metadata": {},
   "outputs": [
    {
     "data": {
      "text/plain": [
       "HS       37.0\n",
       "VC       57.0\n",
       "VC t3     9.0\n",
       "VC t4    13.0\n",
       "VC t5    24.0\n",
       "VC t6    32.0\n",
       "CCC      53.0\n",
       "FHS      30.0\n",
       "dtype: float64"
      ]
     },
     "execution_count": 558,
     "metadata": {},
     "output_type": "execute_result"
    }
   ],
   "source": [
    "viol_99.groupby(pd.Grouper(freq=\"y\")).sum().sum()"
   ]
  },
  {
   "cell_type": "code",
   "execution_count": 500,
   "metadata": {},
   "outputs": [
    {
     "data": {
      "text/html": [
       "<div>\n",
       "<style scoped>\n",
       "    .dataframe tbody tr th:only-of-type {\n",
       "        vertical-align: middle;\n",
       "    }\n",
       "\n",
       "    .dataframe tbody tr th {\n",
       "        vertical-align: top;\n",
       "    }\n",
       "\n",
       "    .dataframe thead th {\n",
       "        text-align: right;\n",
       "    }\n",
       "</style>\n",
       "<table border=\"1\" class=\"dataframe\">\n",
       "  <thead>\n",
       "    <tr style=\"text-align: right;\">\n",
       "      <th>Date</th>\n",
       "      <th>2013-12-31</th>\n",
       "      <th>2014-12-31</th>\n",
       "      <th>2015-12-31</th>\n",
       "      <th>2016-12-31</th>\n",
       "      <th>2017-12-31</th>\n",
       "      <th>2018-12-31</th>\n",
       "      <th>2019-12-31</th>\n",
       "      <th>2020-12-31</th>\n",
       "    </tr>\n",
       "  </thead>\n",
       "  <tbody>\n",
       "    <tr>\n",
       "      <th>HS</th>\n",
       "      <td>False</td>\n",
       "      <td>False</td>\n",
       "      <td>True</td>\n",
       "      <td>False</td>\n",
       "      <td>False</td>\n",
       "      <td>False</td>\n",
       "      <td>False</td>\n",
       "      <td>True</td>\n",
       "    </tr>\n",
       "    <tr>\n",
       "      <th>VC</th>\n",
       "      <td>False</td>\n",
       "      <td>False</td>\n",
       "      <td>True</td>\n",
       "      <td>False</td>\n",
       "      <td>False</td>\n",
       "      <td>True</td>\n",
       "      <td>True</td>\n",
       "      <td>True</td>\n",
       "    </tr>\n",
       "    <tr>\n",
       "      <th>VC t3</th>\n",
       "      <td>False</td>\n",
       "      <td>False</td>\n",
       "      <td>False</td>\n",
       "      <td>False</td>\n",
       "      <td>False</td>\n",
       "      <td>False</td>\n",
       "      <td>False</td>\n",
       "      <td>True</td>\n",
       "    </tr>\n",
       "    <tr>\n",
       "      <th>VC t4</th>\n",
       "      <td>False</td>\n",
       "      <td>False</td>\n",
       "      <td>False</td>\n",
       "      <td>False</td>\n",
       "      <td>False</td>\n",
       "      <td>False</td>\n",
       "      <td>False</td>\n",
       "      <td>True</td>\n",
       "    </tr>\n",
       "    <tr>\n",
       "      <th>VC t5</th>\n",
       "      <td>False</td>\n",
       "      <td>False</td>\n",
       "      <td>True</td>\n",
       "      <td>False</td>\n",
       "      <td>False</td>\n",
       "      <td>False</td>\n",
       "      <td>False</td>\n",
       "      <td>True</td>\n",
       "    </tr>\n",
       "    <tr>\n",
       "      <th>VC t6</th>\n",
       "      <td>False</td>\n",
       "      <td>False</td>\n",
       "      <td>True</td>\n",
       "      <td>False</td>\n",
       "      <td>False</td>\n",
       "      <td>False</td>\n",
       "      <td>False</td>\n",
       "      <td>True</td>\n",
       "    </tr>\n",
       "    <tr>\n",
       "      <th>CCC</th>\n",
       "      <td>True</td>\n",
       "      <td>False</td>\n",
       "      <td>True</td>\n",
       "      <td>False</td>\n",
       "      <td>False</td>\n",
       "      <td>True</td>\n",
       "      <td>True</td>\n",
       "      <td>False</td>\n",
       "    </tr>\n",
       "    <tr>\n",
       "      <th>FHS</th>\n",
       "      <td>True</td>\n",
       "      <td>False</td>\n",
       "      <td>False</td>\n",
       "      <td>False</td>\n",
       "      <td>False</td>\n",
       "      <td>False</td>\n",
       "      <td>False</td>\n",
       "      <td>False</td>\n",
       "    </tr>\n",
       "  </tbody>\n",
       "</table>\n",
       "</div>"
      ],
      "text/plain": [
       "Date   2013-12-31  2014-12-31  2015-12-31  2016-12-31  2017-12-31  2018-12-31  \\\n",
       "HS          False       False        True       False       False       False   \n",
       "VC          False       False        True       False       False        True   \n",
       "VC t3       False       False       False       False       False       False   \n",
       "VC t4       False       False       False       False       False       False   \n",
       "VC t5       False       False        True       False       False       False   \n",
       "VC t6       False       False        True       False       False       False   \n",
       "CCC          True       False        True       False       False        True   \n",
       "FHS          True       False       False       False       False       False   \n",
       "\n",
       "Date   2019-12-31  2020-12-31  \n",
       "HS          False        True  \n",
       "VC           True        True  \n",
       "VC t3       False        True  \n",
       "VC t4       False        True  \n",
       "VC t5       False        True  \n",
       "VC t6       False        True  \n",
       "CCC          True       False  \n",
       "FHS         False       False  "
      ]
     },
     "execution_count": 500,
     "metadata": {},
     "output_type": "execute_result"
    }
   ],
   "source": [
    "viol_99.groupby(pd.Grouper(freq=\"y\")).sum().apply(np.vectorize(binom_test), args=(281, 0.01)).T.lt(0.05)"
   ]
  },
  {
   "cell_type": "code",
   "execution_count": 559,
   "metadata": {},
   "outputs": [
    {
     "data": {
      "text/plain": [
       "masked_array(data=[0.087, 0.   , 0.312, 0.593, 0.186, 0.045, 0.   , 0.474],\n",
       "             mask=False,\n",
       "       fill_value=1e+20)"
      ]
     },
     "execution_count": 559,
     "metadata": {},
     "output_type": "execute_result"
    }
   ],
   "source": [
    "diff_97 = es_97 - viol_97.replace(False, np.nan).mul(real_losses, axis=0)\n",
    "diff_99 = es_99 - viol_99.replace(False, np.nan).mul(real_losses, axis=0)\n",
    "\n",
    "ttest_1samp(diff_97, 0, axis=0, nan_policy='omit').pvalue.round(3)\n",
    "# ttest_1samp(diff_99, 0, axis=0, nan_policy='omit').pvalue.round(2)"
   ]
  },
  {
   "cell_type": "markdown",
   "metadata": {},
   "source": [
    "## Graphs"
   ]
  },
  {
   "cell_type": "code",
   "execution_count": 603,
   "metadata": {},
   "outputs": [
    {
     "data": {
      "image/png": "[encoded data removed]",
      "text/plain": [
       "<Figure size 504x1008 with 8 Axes>"
      ]
     },
     "metadata": {
      "needs_background": "light"
     },
     "output_type": "display_data"
    }
   ],
   "source": [
    "fig, ((ax1, ax2), (ax3, ax4), (ax5, ax6), (ax7, ax8)) = plt.subplots(nrows=4, ncols=2, figsize=[7, 14])\n",
    "\n",
    "for name, axis in zip(viol_97.columns, [ax1, ax2, ax3, ax4, ax5, ax6, ax7, ax8]):\n",
    "    spacings = viol_97[name].groupby(viol_97[name].cumsum()).cumcount(ascending=False)[viol_97[name]]\n",
    "    probplot(spacings, dist=\"expon\", plot=axis)\n",
    "    axis.set_title('{}'.format(name))\n",
    "\n",
    "[axis.set_xlabel('') for axis in [ax1, ax2, ax3, ax4, ax5, ax6]]\n",
    "[axis.set_ylabel('') for axis in [ax2, ax4, ax6, ax8]]\n",
    "\n",
    "plt.savefig('spacings_97.png', dpi=150)\n",
    "plt.show()"
   ]
  },
  {
   "cell_type": "code",
   "execution_count": 806,
   "metadata": {},
   "outputs": [
    {
     "data": {
      "image/png": "[encoded data removed]",
      "text/plain": [
       "<Figure size 468x288 with 1 Axes>"
      ]
     },
     "metadata": {
      "needs_background": "light"
     },
     "output_type": "display_data"
    }
   ],
   "source": [
    "# ax = var_97['2020-04-01':].reset_index().plot()\n",
    "# real_losses['2020-04-01':].plot.bar(ax=ax)\n",
    "# real_losses\n",
    "var_2020 = var_97['2020-01-01':][['VC', 'FHS']] * 1000000\n",
    "loss_2020 = real_losses['2020-01-01':] * 1000000\n",
    "\n",
    "ax = var_2020.plot(figsize=(6.5, 4), grid=True)\n",
    "c = []\n",
    "for idx in var_2020.index.date:\n",
    "    idx = idx.strftime('%Y-%m-%d')\n",
    "    if loss_2020.loc[idx, 'Losses'] > var_2020.loc[idx, 'FHS']:\n",
    "        c.append('#BB0000')\n",
    "    elif loss_2020.loc[idx, 'Losses'] > var_2020.loc[idx, 'VC']:\n",
    "        c.append('#BB00BB')\n",
    "    else:\n",
    "        c.append('#74797c')\n",
    "c = np.array(c, dtype='object')\n",
    "labels = {\n",
    "    '#BB00BB': 'VC Exceedence',\n",
    "    '#74797c': 'No Exceedence',\n",
    "    '#BB0000': 'FHS & VC Exceedence'\n",
    "}\n",
    "markers = {'#BB0000': 'x', '#74797c': 'o', '#BB00BB': 's'}\n",
    "for color in np.unique(c):\n",
    "    sel = c == color\n",
    "    ax.scatter(\n",
    "        loss_2020.index[sel],\n",
    "        loss_2020.loc[sel],\n",
    "        marker=markers[color],\n",
    "        c=c[sel],\n",
    "        label=labels[color])\n",
    "plt.ylabel('Euro')\n",
    "ax.legend(frameon=True, ncol=3)\n",
    "plt.savefig('var.png', dpi=150)\n",
    "plt.show()\n"
   ]
  },
  {
   "cell_type": "code",
   "execution_count": 751,
   "metadata": {},
   "outputs": [
    {
     "name": "stdout",
     "output_type": "stream",
     "text": [
      "2020-01-01\n",
      "2020-01-02\n",
      "2020-01-03\n",
      "2020-01-06\n",
      "2020-01-07\n",
      "2020-01-08\n",
      "2020-01-09\n",
      "2020-01-10\n",
      "2020-01-13\n",
      "2020-01-14\n",
      "2020-01-15\n",
      "2020-01-16\n",
      "2020-01-17\n",
      "2020-01-20\n",
      "2020-01-21\n",
      "2020-01-22\n",
      "2020-01-23\n",
      "2020-01-24\n",
      "2020-01-27\n",
      "2020-01-28\n",
      "2020-01-29\n",
      "2020-01-30\n",
      "2020-01-31\n",
      "2020-02-03\n",
      "2020-02-04\n",
      "2020-02-05\n",
      "2020-02-06\n",
      "2020-02-07\n",
      "2020-02-10\n",
      "2020-02-11\n",
      "2020-02-12\n",
      "2020-02-13\n",
      "2020-02-14\n",
      "2020-02-17\n",
      "2020-02-18\n",
      "2020-02-19\n",
      "2020-02-20\n",
      "2020-02-21\n",
      "2020-02-24\n",
      "2020-02-25\n",
      "2020-02-26\n",
      "2020-02-27\n",
      "2020-02-28\n",
      "2020-03-02\n",
      "2020-03-03\n",
      "2020-03-04\n",
      "2020-03-05\n",
      "2020-03-06\n",
      "2020-03-09\n",
      "2020-03-10\n",
      "2020-03-11\n",
      "2020-03-12\n",
      "2020-03-13\n",
      "2020-03-16\n",
      "2020-03-17\n",
      "2020-03-18\n",
      "2020-03-19\n",
      "2020-03-20\n",
      "2020-03-23\n",
      "2020-03-24\n",
      "2020-03-25\n",
      "2020-03-26\n",
      "2020-03-27\n",
      "2020-03-29\n",
      "2020-03-30\n",
      "2020-03-31\n",
      "2020-04-01\n",
      "2020-04-02\n",
      "2020-04-03\n",
      "2020-04-05\n",
      "2020-04-06\n",
      "2020-04-07\n",
      "2020-04-08\n",
      "2020-04-09\n",
      "2020-04-12\n",
      "2020-04-13\n",
      "2020-04-14\n",
      "2020-04-15\n",
      "2020-04-16\n",
      "2020-04-17\n",
      "2020-04-19\n",
      "2020-04-20\n",
      "2020-04-21\n",
      "2020-04-22\n",
      "2020-04-23\n",
      "2020-04-24\n"
     ]
    }
   ],
   "source": [
    "for idx in var_2020.index.date:\n",
    "    print(idx)"
   ]
  },
  {
   "cell_type": "code",
   "execution_count": 851,
   "metadata": {},
   "outputs": [],
   "source": [
    "vars_97 = np.empty(3)\n",
    "vars_99 = np.empty(300)\n",
    "ess_97 = np.empty(300)\n",
    "ess_99 = np.empty(300)\n",
    "\n",
    "vars_97[:] = np.nan\n",
    "vars_99[:] = np.nan\n",
    "ess_97[:] = np.nan\n",
    "ess_99[:] = np.nan\n",
    "\n",
    "for t in range(324, 0, -1):\n",
    "    mean, std = vc(X[t+100:450])\n",
    "    vars_97[t] = normal_var(mean, std, 0.975) * 1000000\n",
    "    vars_99[t] = normal_var(mean, std, 0.99) * 1000000\n",
    "    \n",
    "    ess_97[t] = normal_es(mean, std, 0.975) * 1000000\n",
    "    ess_99[t] = normal_es(mean, std, 0.99) * 1000000"
   ]
  },
  {
   "cell_type": "code",
   "execution_count": 852,
   "metadata": {},
   "outputs": [
    {
     "data": {
      "image/png": "[encoded data removed]",
      "text/plain": [
       "<Figure size 432x288 with 1 Axes>"
      ]
     },
     "metadata": {
      "needs_background": "light"
     },
     "output_type": "display_data"
    }
   ],
   "source": [
    "lags = list(range(25, 350))\n",
    "plt.plot(lags, vars_97[::-1], label='VaR 97.5%', color='b')\n",
    "plt.plot(lags, vars_99[::-1], '--', label='VaR 99%', color='b')\n",
    "plt.plot(lags, ess_97[::-1], label='ES 97.5%', color='orange')\n",
    "plt.plot(lags, ess_99[::-1], '--', label='ES 99%', color='orange')\n",
    "plt.legend()\n",
    "plt.ylabel('Euro')\n",
    "plt.xlabel('Lags')\n",
    "plt.savefig('vc_length_sensitivity.png', dpi=150)"
   ]
  },
  {
   "cell_type": "code",
   "execution_count": 847,
   "metadata": {},
   "outputs": [
    {
     "data": {
      "text/plain": [
       "Losses   -0.002393\n",
       "Name: 2011-03-27, dtype: float64"
      ]
     },
     "execution_count": 847,
     "metadata": {},
     "output_type": "execute_result"
    }
   ],
   "source": [
    "real_losses.iloc[450]"
   ]
  },
  {
   "cell_type": "code",
   "execution_count": null,
   "metadata": {},
   "outputs": [],
   "source": [
    "real_losses['']"
   ]
  }
 ],
 "metadata": {
  "kernelspec": {
   "display_name": "Python 3",
   "language": "python",
   "name": "python3"
  },
  "language_info": {
   "codemirror_mode": {
    "name": "ipython",
    "version": 3
   },
   "file_extension": ".py",
   "mimetype": "text/x-python",
   "name": "python",
   "nbconvert_exporter": "python",
   "pygments_lexer": "ipython3",
   "version": "3.8.2"
  }
 },
 "nbformat": 4,
 "nbformat_minor": 4
}
