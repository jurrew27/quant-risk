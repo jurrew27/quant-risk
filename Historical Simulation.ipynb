{
 "cells": [
  {
   "cell_type": "markdown",
   "metadata": {},
   "source": [
    "# Historical Simulation"
   ]
  },
  {
   "cell_type": "code",
   "execution_count": 130,
   "metadata": {},
   "outputs": [],
   "source": [
    "import pandas as pd\n",
    "import numpy as np\n",
    "import matplotlib.pyplot as plt"
   ]
  },
  {
   "cell_type": "code",
   "execution_count": 131,
   "metadata": {},
   "outputs": [],
   "source": [
    "data = pd.read_csv('dataset.csv', index_col=0)\n",
    "data.index = pd.to_datetime(data.index)"
   ]
  },
  {
   "cell_type": "code",
   "execution_count": 132,
   "metadata": {},
   "outputs": [],
   "source": [
    "relative_weights = [0.3, 0.3, 0.01, 0.09, 0.3]\n",
    "absolute_weights = [300000, 300000, 10000, 90000, 300000]"
   ]
  },
  {
   "cell_type": "code",
   "execution_count": 133,
   "metadata": {},
   "outputs": [],
   "source": [
    "stock_returns = np.log(data[['SPY', 'AEX', 'RDSA.AS', 'HSI']]).diff()\n",
    "stock_returns[['SPY', 'HSI']] + np.log(data[['USDEUR', 'HKDEUR']]).diff().values\n",
    "yields = data['YIELDS'] / 100"
   ]
  },
  {
   "cell_type": "code",
   "execution_count": 134,
   "metadata": {},
   "outputs": [],
   "source": [
    "# Real losses\n",
    "\n",
    "losses = np.exp(stock_returns) - 1\n",
    "until_maturity = pd.Series(np.arange(12, 0, -1/(250))[:len(data)])\n",
    "until_maturity.index = data.index\n",
    "losses['bonds'] = np.exp(-until_maturity * yields.diff() + (yields + yields.diff()) / 250) - 1\n",
    "losses = -losses"
   ]
  },
  {
   "cell_type": "code",
   "execution_count": 135,
   "metadata": {},
   "outputs": [],
   "source": [
    "total_losses = (losses * relative_weights).sum(axis=1)\n",
    "total_losses = total_losses * 1000000"
   ]
  },
  {
   "cell_type": "code",
   "execution_count": 136,
   "metadata": {},
   "outputs": [
    {
     "data": {
      "text/plain": [
       "Date\n",
       "2010-01-01       0.000000\n",
       "2010-01-04     -45.230989\n",
       "2010-01-05   -2816.179095\n",
       "2010-01-06     519.470851\n",
       "2010-01-07   -1156.073392\n",
       "                 ...     \n",
       "2015-02-24   -3305.984386\n",
       "2015-02-25      83.749004\n",
       "2015-02-26   -3423.102147\n",
       "2015-02-27     697.554307\n",
       "2015-03-02   -2943.528445\n",
       "Length: 1496, dtype: float64"
      ]
     },
     "execution_count": 136,
     "metadata": {},
     "output_type": "execute_result"
    }
   ],
   "source": [
    "#total losses last 5 years\n",
    "middle_index = len(total_losses)//2\n",
    "total_losses_5 = total_losses[:middle_index]\n",
    "total_losses_5"
   ]
  },
  {
   "cell_type": "code",
   "execution_count": 137,
   "metadata": {},
   "outputs": [
    {
     "data": {
      "text/plain": [
       "<function matplotlib.pyplot.show(*args, **kw)>"
      ]
     },
     "execution_count": 137,
     "metadata": {},
     "output_type": "execute_result"
    },
    {
     "data": {
      "image/png": "[encoded data removed]",
      "text/plain": [
       "<Figure size 432x288 with 1 Axes>"
      ]
     },
     "metadata": {
      "needs_background": "light"
     },
     "output_type": "display_data"
    }
   ],
   "source": [
    "total_losses.plot(label=\"2010-2015\")\n",
    "total_losses_5.plot(label=\"2015-2020\")\n",
    "plt.legend()\n",
    "plt.show"
   ]
  },
  {
   "cell_type": "code",
   "execution_count": 138,
   "metadata": {},
   "outputs": [
    {
     "data": {
      "text/plain": [
       "Date\n",
       "2020-03-24   -60337.382754\n",
       "2011-11-30   -26846.715089\n",
       "2020-03-13   -24911.108034\n",
       "2010-05-09   -22844.877378\n",
       "2011-11-28   -22839.365463\n",
       "                  ...     \n",
       "2016-06-24    29070.884383\n",
       "2020-03-18    34417.716835\n",
       "2020-03-16    48484.621927\n",
       "2020-03-09    51869.120301\n",
       "2020-03-12    65859.592980\n",
       "Length: 2992, dtype: float64"
      ]
     },
     "execution_count": 138,
     "metadata": {},
     "output_type": "execute_result"
    }
   ],
   "source": [
    "total_losses = total_losses.sort_values(ascending=True)\n",
    "total_losses"
   ]
  },
  {
   "cell_type": "code",
   "execution_count": 139,
   "metadata": {},
   "outputs": [
    {
     "data": {
      "text/plain": [
       "Date\n",
       "2011-11-30   -26846.715089\n",
       "2010-05-09   -22844.877378\n",
       "2011-11-28   -22839.365463\n",
       "2011-10-27   -22794.950641\n",
       "2010-05-27   -19202.834708\n",
       "                  ...     \n",
       "2013-06-20    21512.068886\n",
       "2011-08-07    22777.725349\n",
       "2011-08-18    22817.675719\n",
       "2011-08-04    22889.192143\n",
       "2011-09-22    26035.979010\n",
       "Length: 1496, dtype: float64"
      ]
     },
     "execution_count": 139,
     "metadata": {},
     "output_type": "execute_result"
    }
   ],
   "source": [
    "total_losses_5 = total_losses_5.sort_values(ascending=True)\n",
    "total_losses_5"
   ]
  },
  {
   "cell_type": "code",
   "execution_count": 140,
   "metadata": {},
   "outputs": [
    {
     "name": "stdout",
     "output_type": "stream",
     "text": [
      "10 Years:\n",
      " Var 97.5%:\t -10989.106928191306 \n",
      " Var 99%:\t -14467.634754846425\n",
      "5 Years:\n",
      " Var 97.5%:\t -10995.8352828227 \n",
      " Var 99%:\t -14179.6265717682\n"
     ]
    }
   ],
   "source": [
    "var_97 = total_losses.quantile(0.025)\n",
    "var_99 = total_losses.quantile(0.01)\n",
    "\n",
    "var_97_5 = total_losses_5.quantile(0.025)\n",
    "var_99_5 = total_losses_5.quantile(0.01)\n",
    "\n",
    "print(\"10 Years:\\n\",\n",
    "\"Var 97.5%:\\t\", var_97, \"\\n Var 99%:\\t\", var_99)\n",
    "print(\"5 Years:\\n\",\n",
    "\"Var 97.5%:\\t\", var_97_5, \"\\n Var 99%:\\t\", var_99_5)"
   ]
  },
  {
   "cell_type": "code",
   "execution_count": 141,
   "metadata": {},
   "outputs": [
    {
     "name": "stdout",
     "output_type": "stream",
     "text": [
      "10 Years:\n",
      " ES 97.5%:\t -15550.682130929024 \n",
      " ES 99%:\t -20187.17653549373\n",
      "5 Years:\n",
      " ES 97.5%:\t -14747.369787618523 \n",
      " ES 99%:\t -18633.94543091174\n"
     ]
    }
   ],
   "source": [
    "ES_97 = total_losses[total_losses <= var_97].mean()\n",
    "ES_99 = total_losses[total_losses <= var_99].mean()\n",
    "\n",
    "ES_97_5 = total_losses_5[total_losses_5 <= var_97_5].mean()\n",
    "ES_99_5 = total_losses_5[total_losses_5 <= var_99_5].mean()\n",
    "\n",
    "\n",
    "print(\"10 Years:\\n\",\n",
    "\"ES 97.5%:\\t\", ES_97, \"\\n ES 99%:\\t\", ES_99)\n",
    "print(\"5 Years:\\n\",\n",
    "\"ES 97.5%:\\t\", ES_97_5, \"\\n ES 99%:\\t\", ES_99_5)"
   ]
  },
  {
   "cell_type": "code",
   "execution_count": 156,
   "metadata": {},
   "outputs": [
    {
     "data": {
      "image/png": "[encoded data removed]",
      "text/plain": [
       "<Figure size 432x288 with 2 Axes>"
      ]
     },
     "metadata": {
      "needs_background": "light"
     },
     "output_type": "display_data"
    }
   ],
   "source": [
    "plt.subplot(211)\n",
    "plt.title(\"The total daily losses of the last 10 years\", fontsize=14)\n",
    "plt.hist(total_losses, bins=40)\n",
    "plt.ylabel('Frequency',fontsize=14)\n",
    "plt.grid(True)\n",
    "plt.axvline(x=var_97, color=\"r\", linestyle=\"-\", label='VaR 97.5: {0:.2f}€'.format(var_97))\n",
    "plt.axvline(x=ES_97, color='b', linestyle='-', label='ES 97.5:   {0:.2f}€'.format(ES_97))\n",
    "plt.axvline(x=var_99, color=\"r\", linestyle=\"--\", label='VaR 99:    {0:.2f}€'.format(var_99))\n",
    "plt.axvline(x=ES_99, color='b', linestyle='--', label='ES 99:      {0:.2f}€'.format(ES_99))\n",
    "plt.legend(fontsize=11)\n",
    "\n",
    "plt.subplot(212)\n",
    "plt.title(\"The total daily losses of last 5 years\", fontsize=14)\n",
    "plt.hist(total_losses, bins=40)\n",
    "plt.xlabel('Returns', fontsize=14)\n",
    "plt.ylabel('Frequency', fontsize=14)\n",
    "plt.grid(True)\n",
    "plt.axvline(x=var_97, color=\"r\", linestyle=\"-\")\n",
    "plt.axvline(x=ES_97, color='b', linestyle='-')\n",
    "plt.axvline(x=var_99, color=\"r\", linestyle=\"--\")\n",
    "plt.axvline(x=ES_99, color='b', linestyle='--')\n",
    "\n",
    "plt.subplots_adjust(top=1.5)\n",
    "\n",
    "plt.show()"
   ]
  },
  {
   "cell_type": "markdown",
   "metadata": {},
   "source": [
    "# 5 and 10 day VaR"
   ]
  },
  {
   "cell_type": "code",
   "execution_count": 164,
   "metadata": {},
   "outputs": [
    {
     "name": "stdout",
     "output_type": "stream",
     "text": [
      "10 Year Data: \n",
      "1 day: \n",
      " VaR 97.5%:\t -10989.106928191306 \n",
      " VaR 99.5:\t -14467.634754846425\n",
      "5 days: \n",
      " VaR 97.5%:\t -24572.390103449663 \n",
      " VaR 99.5:\t -32350.614785475114\n",
      "10 days: \n",
      " VaR 97.5%:\t -34750.60734422093 \n",
      " VaR 99.5:\t -45750.67818072648\n"
     ]
    }
   ],
   "source": [
    "#10 year data\n",
    "var_97_5d = var_97 * np.sqrt(5)\n",
    "var_99_5d = var_99 * np.sqrt(5)\n",
    "\n",
    "var_97_10d = var_97 * np.sqrt(10)\n",
    "var_99_10d = var_99 * np.sqrt(10)\n",
    "\n",
    "print(\"10 Year Data: \\n1 day: \\n\",\n",
    "\"VaR 97.5%:\\t\",var_97,\"\\n\",\n",
    "\"VaR 99.5:\\t\",var_99)\n",
    "\n",
    "print(\"5 days: \\n\",\n",
    "\"VaR 97.5%:\\t\",var_97_5d,\"\\n\",\n",
    "\"VaR 99.5:\\t\",var_99_5d)\n",
    "\n",
    "print(\"10 days: \\n\",\n",
    "\"VaR 97.5%:\\t\",var_97_10d,\"\\n\",\n",
    "\"VaR 99.5:\\t\",var_99_10d)"
   ]
  },
  {
   "cell_type": "code",
   "execution_count": 165,
   "metadata": {},
   "outputs": [
    {
     "name": "stdout",
     "output_type": "stream",
     "text": [
      "5 Year Data: \n",
      "1 day: \n",
      " VaR 97.5%:\t -10995.8352828227 \n",
      " VaR 99.5:\t -14179.6265717682\n",
      "5 days: \n",
      " VaR 97.5%:\t -24587.435161782185 \n",
      " VaR 99.5:\t -31706.608910035997\n",
      "10 days: \n",
      " VaR 97.5%:\t -34771.88426976148 \n",
      " VaR 99.5:\t -44839.91633743252\n"
     ]
    }
   ],
   "source": [
    "#5 year data\n",
    "var_97_5_5d = var_97_5 * np.sqrt(5)\n",
    "var_99_5_5d = var_99_5 * np.sqrt(5)\n",
    "\n",
    "var_97_5_10d = var_97_5 * np.sqrt(10)\n",
    "var_99_5_10d = var_99_5 * np.sqrt(10)\n",
    "\n",
    "print(\"5 Year Data: \\n1 day: \\n\",\n",
    "\"VaR 97.5%:\\t\",var_97_5,\"\\n\",\n",
    "\"VaR 99.5:\\t\",var_99_5)\n",
    "\n",
    "print(\"5 days: \\n\",\n",
    "\"VaR 97.5%:\\t\",var_97_5_5d,\"\\n\",\n",
    "\"VaR 99.5:\\t\",var_99_5_5d)\n",
    "\n",
    "print(\"10 days: \\n\",\n",
    "\"VaR 97.5%:\\t\",var_97_5_10d,\"\\n\",\n",
    "\"VaR 99.5:\\t\",var_99_5_10d)"
   ]
  },
  {
   "cell_type": "code",
   "execution_count": null,
   "metadata": {},
   "outputs": [],
   "source": []
  }
 ],
 "metadata": {
  "kernelspec": {
   "display_name": "Python 3",
   "language": "python",
   "name": "python3"
  },
  "language_info": {
   "codemirror_mode": {
    "name": "ipython",
    "version": 3
   },
   "file_extension": ".py",
   "mimetype": "text/x-python",
   "name": "python",
   "nbconvert_exporter": "python",
   "pygments_lexer": "ipython3",
   "version": "3.8.2"
  }
 },
 "nbformat": 4,
 "nbformat_minor": 4
}
