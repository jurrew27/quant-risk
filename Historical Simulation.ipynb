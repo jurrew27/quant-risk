{
 "cells": [
  {
   "cell_type": "markdown",
   "metadata": {},
   "source": [
    "# Historical Simulation"
   ]
  },
  {
   "cell_type": "code",
   "execution_count": 93,
   "metadata": {},
   "outputs": [],
   "source": [
    "import pandas as pd\n",
    "import numpy as np\n",
    "import matplotlib.pyplot as plt"
   ]
  },
  {
   "cell_type": "code",
   "execution_count": 94,
   "metadata": {},
   "outputs": [],
   "source": [
    "data = pd.read_csv('dataset.csv', index_col=0)\n",
    "data.index = pd.to_datetime(data.index)"
   ]
  },
  {
   "cell_type": "code",
   "execution_count": 95,
   "metadata": {},
   "outputs": [],
   "source": [
    "relative_weights = [0.3, 0.3, 0.01, 0.09, 0.3]\n",
    "absolute_weights = [300000, 300000, 10000, 90000, 300000]"
   ]
  },
  {
   "cell_type": "code",
   "execution_count": 96,
   "metadata": {},
   "outputs": [],
   "source": [
    "stock_returns = np.log(data[['SPY', 'AEX', 'RDSA.AS', 'HSI']]).diff()\n",
    "stock_returns[['SPY', 'HSI']] + np.log(data[['USDEUR', 'HKDEUR']]).diff().values\n",
    "yields = data['YIELDS'] / 100"
   ]
  },
  {
   "cell_type": "code",
   "execution_count": 97,
   "metadata": {},
   "outputs": [],
   "source": [
    "# Real losses\n",
    "\n",
    "losses = np.exp(stock_returns) - 1\n",
    "until_maturity = pd.Series(np.arange(12, 0, -1/(250))[:len(data)])\n",
    "until_maturity.index = data.index\n",
    "losses['bonds'] = np.exp(-until_maturity * yields.diff() + (yields + yields.diff()) / 250) - 1\n",
    "losses = -losses"
   ]
  },
  {
   "cell_type": "code",
   "execution_count": 98,
   "metadata": {},
   "outputs": [
    {
     "data": {
      "text/plain": [
       "Date\n",
       "2010-01-01    0.000000\n",
       "2010-01-04   -0.000045\n",
       "2010-01-05   -0.002816\n",
       "2010-01-06    0.000519\n",
       "2010-01-07   -0.001156\n",
       "                ...   \n",
       "2020-04-20    0.000517\n",
       "2020-04-21    0.021517\n",
       "2020-04-22   -0.016037\n",
       "2020-04-23   -0.002458\n",
       "2020-04-24    0.004880\n",
       "Length: 2992, dtype: float64"
      ]
     },
     "execution_count": 98,
     "metadata": {},
     "output_type": "execute_result"
    }
   ],
   "source": [
    "total_losses = (losses * relative_weights).sum(axis=1)\n",
    "total_losses"
   ]
  },
  {
   "cell_type": "code",
   "execution_count": 100,
   "metadata": {},
   "outputs": [
    {
     "data": {
      "text/plain": [
       "Date\n",
       "2015-03-03    0.006274\n",
       "2015-03-04    0.000035\n",
       "2015-03-05   -0.003180\n",
       "2015-03-06    0.004128\n",
       "2015-03-09   -0.001211\n",
       "                ...   \n",
       "2020-04-20    0.000517\n",
       "2020-04-21    0.021517\n",
       "2020-04-22   -0.016037\n",
       "2020-04-23   -0.002458\n",
       "2020-04-24    0.004880\n",
       "Length: 1496, dtype: float64"
      ]
     },
     "execution_count": 100,
     "metadata": {},
     "output_type": "execute_result"
    }
   ],
   "source": [
    "#total losses last 5 years\n",
    "middle_index = len(total_losses)//2\n",
    "total_losses_5 = total_losses[middle_index:]\n",
    "total_losses_5"
   ]
  },
  {
   "cell_type": "code",
   "execution_count": 120,
   "metadata": {},
   "outputs": [
    {
     "data": {
      "text/plain": [
       "<function matplotlib.pyplot.show(*args, **kw)>"
      ]
     },
     "execution_count": 120,
     "metadata": {},
     "output_type": "execute_result"
    },
    {
     "data": {
      "image/png": "[encoded data removed]",
      "text/plain": [
       "<Figure size 432x288 with 1 Axes>"
      ]
     },
     "metadata": {
      "needs_background": "light"
     },
     "output_type": "display_data"
    }
   ],
   "source": [
    "total_losses.plot(label=\"2010-2015\")\n",
    "total_losses_5.plot(label=\"2015-2020\")\n",
    "plt.legend()\n",
    "plt.show"
   ]
  },
  {
   "cell_type": "code",
   "execution_count": 102,
   "metadata": {},
   "outputs": [
    {
     "data": {
      "text/plain": [
       "Date\n",
       "2020-03-24   -0.060337\n",
       "2011-11-30   -0.026847\n",
       "2020-03-13   -0.024911\n",
       "2010-05-09   -0.022845\n",
       "2011-11-28   -0.022839\n",
       "                ...   \n",
       "2016-06-24    0.029071\n",
       "2020-03-18    0.034418\n",
       "2020-03-16    0.048485\n",
       "2020-03-09    0.051869\n",
       "2020-03-12    0.065860\n",
       "Length: 2992, dtype: float64"
      ]
     },
     "execution_count": 102,
     "metadata": {},
     "output_type": "execute_result"
    }
   ],
   "source": [
    "total_losses = total_losses.sort_values(ascending=True)\n",
    "total_losses"
   ]
  },
  {
   "cell_type": "code",
   "execution_count": 121,
   "metadata": {},
   "outputs": [
    {
     "data": {
      "text/plain": [
       "Date\n",
       "2020-03-24   -0.060337\n",
       "2020-03-13   -0.024911\n",
       "2020-03-17   -0.022602\n",
       "2020-04-05   -0.022584\n",
       "2020-03-26   -0.021462\n",
       "                ...   \n",
       "2016-06-24    0.029071\n",
       "2020-03-18    0.034418\n",
       "2020-03-16    0.048485\n",
       "2020-03-09    0.051869\n",
       "2020-03-12    0.065860\n",
       "Length: 1496, dtype: float64"
      ]
     },
     "execution_count": 121,
     "metadata": {},
     "output_type": "execute_result"
    }
   ],
   "source": [
    "total_losses_5 = total_losses_5.sort_values(ascending=True)\n",
    "total_losses_5"
   ]
  },
  {
   "cell_type": "code",
   "execution_count": 129,
   "metadata": {},
   "outputs": [
    {
     "name": "stdout",
     "output_type": "stream",
     "text": [
      "10 Years:\n",
      " Var 97.5%:\t -0.010989106928191307 \n",
      " Var 99%:\t -0.014467634754846425\n",
      "5 Years:\n",
      " Var 97.5%:\t -0.010950869931641925 \n",
      " Var 99%:\t -0.01471920372647147\n"
     ]
    }
   ],
   "source": [
    "var_97 = total_losses.quantile(0.025)\n",
    "var_99 = total_losses.quantile(0.01)\n",
    "\n",
    "var_97_5 = total_losses_5.quantile(0.025)\n",
    "var_99_5 = total_losses_5.quantile(0.01)\n",
    "\n",
    "print(\"10 Years:\\n\",\n",
    "\"Var 97.5%:\\t\", var_97, \"\\n Var 99%:\\t\", var_99)\n",
    "print(\"5 Years:\\n\",\n",
    "\"Var 97.5%:\\t\", var_97_5, \"\\n Var 99%:\\t\", var_99_5)"
   ]
  },
  {
   "cell_type": "code",
   "execution_count": 133,
   "metadata": {},
   "outputs": [
    {
     "name": "stdout",
     "output_type": "stream",
     "text": [
      "10 Years:\n",
      " ES 97.5%:\t -0.015550682130929023 \n",
      " ES 99%:\t -0.020187176535493723\n",
      "5 Years:\n",
      " ES 97.5%:\t -0.01623384534838028 \n",
      " ES 99%:\t -0.02172067281565649\n"
     ]
    }
   ],
   "source": [
    "ES_97 = total_losses[total_losses <= var_97].mean()\n",
    "ES_99 = total_losses[total_losses <= var_99].mean()\n",
    "\n",
    "ES_97_5 = total_losses_5[total_losses_5 <= var_97_5].mean()\n",
    "ES_99_5 = total_losses_5[total_losses_5 <= var_99_5].mean()\n",
    "\n",
    "\n",
    "print(\"10 Years:\\n\",\n",
    "\"ES 97.5%:\\t\", ES_97, \"\\n ES 99%:\\t\", ES_99)\n",
    "print(\"5 Years:\\n\",\n",
    "\"ES 97.5%:\\t\", ES_97_5, \"\\n ES 99%:\\t\", ES_99_5)"
   ]
  },
  {
   "cell_type": "code",
   "execution_count": 171,
   "metadata": {},
   "outputs": [
    {
     "data": {
      "image/png": "[encoded data removed]",
      "text/plain": [
       "<Figure size 432x288 with 2 Axes>"
      ]
     },
     "metadata": {
      "needs_background": "light"
     },
     "output_type": "display_data"
    }
   ],
   "source": [
    "plt.subplot(211)\n",
    "plt.title(\"The total daily losses of the last 10 years\", fontsize=14)\n",
    "plt.hist(total_losses, bins=40)\n",
    "plt.ylabel('Frequency',fontsize=14)\n",
    "plt.grid(True)\n",
    "plt.axvline(x=var_97, color=\"r\", linestyle=\"-\", label='VaR 97.5: {0:.2f}%'.format(var_97))\n",
    "plt.axvline(x=ES_97, color='b', linestyle='-', label='ES 97.5: {0:.2f}%'.format(ES_97))\n",
    "plt.axvline(x=var_99, color=\"r\", linestyle=\"--\", label='VaR 99: {0:.2f}%'.format(var_99))\n",
    "plt.axvline(x=ES_99, color='b', linestyle='--', label='ES 99: {0:.2f}%'.format(ES_99))\n",
    "plt.legend(fontsize=11)\n",
    "\n",
    "plt.subplot(212)\n",
    "plt.title(\"The total daily losses of last 5 years\", fontsize=14)\n",
    "plt.hist(total_losses, bins=40)\n",
    "plt.xlabel('Returns', fontsize=14)\n",
    "plt.ylabel('Frequency', fontsize=14)\n",
    "plt.grid(True)\n",
    "plt.axvline(x=var_97, color=\"r\", linestyle=\"-\", label='VaR 97.5: {0:.2f}%'.format(var_97))\n",
    "plt.axvline(x=ES_97, color='b', linestyle='-', label='ES 97.5: {0:.2f}%'.format(ES_97))\n",
    "plt.axvline(x=var_99, color=\"r\", linestyle=\"--\", label='VaR 99: {0:.2f}%'.format(var_99))\n",
    "plt.axvline(x=ES_99, color='b', linestyle='--', label='ES 99: {0:.2f}%'.format(ES_99))\n",
    "\n",
    "plt.subplots_adjust(top=1.5)\n",
    "\n",
    "plt.show()"
   ]
  },
  {
   "cell_type": "code",
   "execution_count": null,
   "metadata": {},
   "outputs": [],
   "source": []
  }
 ],
 "metadata": {
  "kernelspec": {
   "display_name": "Python 3",
   "language": "python",
   "name": "python3"
  },
  "language_info": {
   "codemirror_mode": {
    "name": "ipython",
    "version": 3
   },
   "file_extension": ".py",
   "mimetype": "text/x-python",
   "name": "python",
   "nbconvert_exporter": "python",
   "pygments_lexer": "ipython3",
   "version": "3.8.2"
  }
 },
 "nbformat": 4,
 "nbformat_minor": 4
}
