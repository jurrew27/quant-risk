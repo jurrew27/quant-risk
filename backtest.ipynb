{
 "cells": [
  {
   "cell_type": "code",
   "execution_count": 23,
   "metadata": {},
   "outputs": [],
   "source": [
    "import pandas as pd\n",
    "import numpy as np\n",
    "from scipy.stats import norm, t\n",
    "import matplotlib.pyplot as plt\n",
    "from arch import arch_model\n",
    "from arch.univariate.mean import ZeroMean\n",
    "from arch.univariate.volatility import EWMAVariance, GARCH"
   ]
  },
  {
   "cell_type": "markdown",
   "metadata": {},
   "source": [
    "## Portfolio\n",
    "\n",
    "- SPY: €300 000\n",
    "- AEX: €300 000\n",
    "- RDSA: €10 000\n",
    "- HSI: €90 000\n",
    "- Bonds: €300 000\n",
    "\n",
    "Total: €1 000 000"
   ]
  },
  {
   "cell_type": "code",
   "execution_count": 450,
   "metadata": {},
   "outputs": [],
   "source": [
    "data = pd.read_csv('dataset.csv', index_col=0)\n",
    "data.index = pd.to_datetime(data.index)\n",
    "\n",
    "Z = np.log(data[['SPY', 'AEX', 'RDSA.AS', 'HSI', 'USDEUR', 'HKDEUR']])\n",
    "Z['YIELDS'] = data['YIELDS'] / 100\n",
    "X = z.diff()[1:]\n",
    "\n",
    "W = np.array([0.3, 0.3, 0.01, 0.09, 0.3, 0.09, 0.3])\n",
    "\n",
    "Cs = Z['YIELDS'][1:] / 250 * W[-1]\n",
    "Bs = np.zeros(x.shape)\n",
    "Bs[:,:] = W\n",
    "Bs[:,-1] *= -np.arange(12, 0, -1/(250))[:len(x)]\n",
    "\n",
    "principal = 1000000"
   ]
  },
  {
   "cell_type": "markdown",
   "metadata": {},
   "source": [
    "## Helper functions"
   ]
  },
  {
   "cell_type": "code",
   "execution_count": 406,
   "metadata": {},
   "outputs": [],
   "source": [
    "def linear_losses(x):\n",
    "    return -Cs[:len(x)] - (Bs[len(x)] * x).sum(axis=1)"
   ]
  },
  {
   "cell_type": "code",
   "execution_count": 475,
   "metadata": {},
   "outputs": [],
   "source": [
    "def normal_var(mean, std, alpha):\n",
    "    return mean + std * norm.ppf(alpha)\n",
    "\n",
    "def normal_es(mean, std, alpha):\n",
    "    return mean + std * norm.pdf(norm.ppf(alpha)) / (1 - alpha)\n",
    "\n",
    "def t_var(v, mean, std, alpha):\n",
    "    t_std = std / np.sqrt(v / (v-2))\n",
    "    return mean + std * t.ppf(alpha, v)\n",
    "\n",
    "def t_es(v, mean, std, alpha):\n",
    "    t_std = std / np.sqrt(v / (v-2))\n",
    "    return mean + std * t.pdf(t.ppf(alpha, v), v) / (1 - alpha) * (v + t.ppf(alpha, v)**2) / (v-1)\n",
    "\n",
    "def empirical_var(x, alpha):\n",
    "    return np.quantile(np.sort(x), alpha, interpolation='linear')\n",
    "    \n",
    "def empirical_es(x, alpha):\n",
    "    var = empirical_var(x, alpha)\n",
    "    return x[x >= var].mean()"
   ]
  },
  {
   "cell_type": "code",
   "execution_count": 494,
   "metadata": {},
   "outputs": [],
   "source": [
    "# def var_cov(x):\n",
    "#     x_prime = x.copy()\n",
    "#     x_prime.values[:,:] = x.mean()\n",
    "#     c = C[:len(x)]\n",
    "#     b = B[:len(x), :]\n",
    "\n",
    "#     mean = - c - (b * x_prime).sum(axis=1)\n",
    "#     std = np.sqrt((b.dot(x.cov()) * b).sum(axis=1))\n",
    "#     return mean, std\n",
    "def vc(x, mean=None, cov=None):\n",
    "    c = Cs[len(x)]\n",
    "    b = Bs[len(x), :]\n",
    "    mu = mean if mean is not None else x.mean()\n",
    "    sigma = cov if cov is not None else x.cov()\n",
    "\n",
    "    mean = - c - (b * mu).sum()\n",
    "    std = np.sqrt(b.dot(sigma).dot(b))\n",
    "    return mean, std"
   ]
  },
  {
   "cell_type": "code",
   "execution_count": 496,
   "metadata": {},
   "outputs": [
    {
     "data": {
      "text/plain": [
       "0.012037053920784718"
      ]
     },
     "execution_count": 496,
     "metadata": {},
     "output_type": "execute_result"
    }
   ],
   "source": [
    "mean, std = vc(x[:250])\n",
    "normal_var(mean, std, 0.975)"
   ]
  },
  {
   "cell_type": "code",
   "execution_count": 497,
   "metadata": {
    "scrolled": true
   },
   "outputs": [],
   "source": [
    "def ccc(x):\n",
    "    p = x.corr()\n",
    "    factor_models = [arch_model(x[column], mean='zero', p=1, q=1, rescale=True) for column in x.columns]\n",
    "    results = [model.fit(update_freq=0) for model in factor_models]\n",
    "    scales = [result.scale for result in results]\n",
    "    forecasts = [result.forecast() for result in results]\n",
    "\n",
    "    means = np.array([forecast.mean.values[-1, 0] for forecast in forecasts])\n",
    "    stds = np.array([np.sqrt(forecast.variance.values[-1, 0]) for forecast in forecasts])\n",
    "    \n",
    "    means /= scales\n",
    "    stds /= scales\n",
    "    diag = np.diag(stds)\n",
    "    cov = diag.dot(p).dot(diag)\n",
    "    return vc(x, means, cov)"
   ]
  },
  {
   "cell_type": "code",
   "execution_count": 498,
   "metadata": {
    "scrolled": true
   },
   "outputs": [
    {
     "name": "stdout",
     "output_type": "stream",
     "text": [
      "Optimization terminated successfully.    (Exit mode 0)\n",
      "            Current function value: 356.35698344355586\n",
      "            Iterations: 7\n",
      "            Function evaluations: 45\n",
      "            Gradient evaluations: 7\n",
      "Optimization terminated successfully.    (Exit mode 0)\n",
      "            Current function value: 376.9837646581177\n",
      "            Iterations: 10\n",
      "            Function evaluations: 57\n",
      "            Gradient evaluations: 10\n",
      "Optimization terminated successfully.    (Exit mode 0)\n",
      "            Current function value: 366.9377374911194\n",
      "            Iterations: 9\n",
      "            Function evaluations: 53\n",
      "            Gradient evaluations: 9\n",
      "Optimization terminated successfully.    (Exit mode 0)\n",
      "            Current function value: 346.3582258275492\n",
      "            Iterations: 6\n",
      "            Function evaluations: 38\n",
      "            Gradient evaluations: 6\n",
      "Optimization terminated successfully.    (Exit mode 0)\n",
      "            Current function value: 253.60926953043122\n",
      "            Iterations: 15\n",
      "            Function evaluations: 87\n",
      "            Gradient evaluations: 15\n",
      "Optimization terminated successfully.    (Exit mode 0)\n",
      "            Current function value: 252.5026687444522\n",
      "            Iterations: 16\n",
      "            Function evaluations: 97\n",
      "            Gradient evaluations: 16\n",
      "Optimization terminated successfully.    (Exit mode 0)\n",
      "            Current function value: 74.09678924342455\n",
      "            Iterations: 11\n",
      "            Function evaluations: 64\n",
      "            Gradient evaluations: 11\n"
     ]
    },
    {
     "data": {
      "text/plain": [
       "0.012346334396850907"
      ]
     },
     "execution_count": 498,
     "metadata": {},
     "output_type": "execute_result"
    }
   ],
   "source": [
    "mean, cov = ccc(X[:250])\n",
    "normal_var(mean, std, 0.975)"
   ]
  },
  {
   "cell_type": "code",
   "execution_count": 499,
   "metadata": {},
   "outputs": [],
   "source": [
    "def fhs(x):\n",
    "    factor_models = [ZeroMean(x[column], volatility=EWMAVariance(), rescale=True) for column in x.columns]\n",
    "    results = [model.fit(update_freq=0) for model in factor_models]\n",
    "    scales = [result.scale for result in results]\n",
    "    forecasts = [result.forecast(start=0) for result in results]\n",
    "    \n",
    "    means = [forecast.mean for forecast in forecasts]\n",
    "    stds = [np.sqrt(forecast.variance) for forecast in forecasts]\n",
    "    \n",
    "    means = pd.concat([mean.rename(columns={'h.1': column}) for mean, column in zip(means, x.columns)], axis=1)\n",
    "    stds = pd.concat([std.rename(columns={'h.1': column}) for std, column in zip(stds, x.columns)], axis=1)\n",
    "    \n",
    "    means /= scales\n",
    "    stds /= scales\n",
    "    \n",
    "    next_means = means.iloc[-1,:]\n",
    "    next_stds = stds.iloc[-1,:]\n",
    "    \n",
    "    residuals = (x - means.shift().values) / stds.shift().values\n",
    "    return linear_losses(next_means + next_stds * residuals)"
   ]
  },
  {
   "cell_type": "code",
   "execution_count": 500,
   "metadata": {
    "scrolled": true
   },
   "outputs": [
    {
     "data": {
      "text/plain": [
       "0.009814570136581106"
      ]
     },
     "execution_count": 500,
     "metadata": {},
     "output_type": "execute_result"
    }
   ],
   "source": [
    "simulated_losses = fhs(X[:250])\n",
    "empirical_var(simulated_losses, 0.99)"
   ]
  },
  {
   "cell_type": "code",
   "execution_count": null,
   "metadata": {},
   "outputs": [],
   "source": []
  }
 ],
 "metadata": {
  "kernelspec": {
   "display_name": "Python 3",
   "language": "python",
   "name": "python3"
  },
  "language_info": {
   "codemirror_mode": {
    "name": "ipython",
    "version": 3
   },
   "file_extension": ".py",
   "mimetype": "text/x-python",
   "name": "python",
   "nbconvert_exporter": "python",
   "pygments_lexer": "ipython3",
   "version": "3.8.2"
  }
 },
 "nbformat": 4,
 "nbformat_minor": 4
}
