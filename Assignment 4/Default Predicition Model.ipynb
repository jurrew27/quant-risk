{
 "cells": [
  {
   "cell_type": "code",
   "execution_count": 34,
   "metadata": {},
   "outputs": [],
   "source": [
    "import pandas as pd\n",
    "import numpy as np\n",
    "import matplotlib.pyplot as plt\n",
    "import re\n",
    "import statsmodels.api as sm\n",
    "import time\n",
    "import pickle"
   ]
  },
  {
   "cell_type": "code",
   "execution_count": 288,
   "metadata": {},
   "outputs": [],
   "source": [
    "data = pd.read_csv('loan.csv')"
   ]
  },
  {
   "cell_type": "code",
   "execution_count": 289,
   "metadata": {
    "scrolled": true
   },
   "outputs": [
    {
     "name": "stdout",
     "output_type": "stream",
     "text": [
      "id\n",
      "member_id\n",
      "loan_amnt\n",
      "funded_amnt\n",
      "funded_amnt_inv\n",
      "term\n",
      "int_rate\n",
      "installment\n",
      "grade\n",
      "sub_grade\n",
      "emp_title\n",
      "emp_length\n",
      "home_ownership\n",
      "annual_inc\n",
      "verification_status\n",
      "issue_d\n",
      "loan_status\n",
      "pymnt_plan\n",
      "url\n",
      "desc\n",
      "purpose\n",
      "title\n",
      "zip_code\n",
      "addr_state\n",
      "dti\n",
      "delinq_2yrs\n",
      "earliest_cr_line\n",
      "inq_last_6mths\n",
      "mths_since_last_delinq\n",
      "mths_since_last_record\n",
      "open_acc\n",
      "pub_rec\n",
      "revol_bal\n",
      "revol_util\n",
      "total_acc\n",
      "initial_list_status\n",
      "out_prncp\n",
      "out_prncp_inv\n",
      "total_pymnt\n",
      "total_pymnt_inv\n",
      "total_rec_prncp\n",
      "total_rec_int\n",
      "total_rec_late_fee\n",
      "recoveries\n",
      "collection_recovery_fee\n",
      "last_pymnt_d\n",
      "last_pymnt_amnt\n",
      "next_pymnt_d\n",
      "last_credit_pull_d\n",
      "collections_12_mths_ex_med\n",
      "mths_since_last_major_derog\n",
      "policy_code\n",
      "application_type\n",
      "annual_inc_joint\n",
      "dti_joint\n",
      "verification_status_joint\n",
      "acc_now_delinq\n",
      "tot_coll_amt\n",
      "tot_cur_bal\n",
      "open_acc_6m\n",
      "open_act_il\n",
      "open_il_12m\n",
      "open_il_24m\n",
      "mths_since_rcnt_il\n",
      "total_bal_il\n",
      "il_util\n",
      "open_rv_12m\n",
      "open_rv_24m\n",
      "max_bal_bc\n",
      "all_util\n",
      "total_rev_hi_lim\n",
      "inq_fi\n",
      "total_cu_tl\n",
      "inq_last_12m\n",
      "acc_open_past_24mths\n",
      "avg_cur_bal\n",
      "bc_open_to_buy\n",
      "bc_util\n",
      "chargeoff_within_12_mths\n",
      "delinq_amnt\n",
      "mo_sin_old_il_acct\n",
      "mo_sin_old_rev_tl_op\n",
      "mo_sin_rcnt_rev_tl_op\n",
      "mo_sin_rcnt_tl\n",
      "mort_acc\n",
      "mths_since_recent_bc\n",
      "mths_since_recent_bc_dlq\n",
      "mths_since_recent_inq\n",
      "mths_since_recent_revol_delinq\n",
      "num_accts_ever_120_pd\n",
      "num_actv_bc_tl\n",
      "num_actv_rev_tl\n",
      "num_bc_sats\n",
      "num_bc_tl\n",
      "num_il_tl\n",
      "num_op_rev_tl\n",
      "num_rev_accts\n",
      "num_rev_tl_bal_gt_0\n",
      "num_sats\n",
      "num_tl_120dpd_2m\n",
      "num_tl_30dpd\n",
      "num_tl_90g_dpd_24m\n",
      "num_tl_op_past_12m\n",
      "pct_tl_nvr_dlq\n",
      "percent_bc_gt_75\n",
      "pub_rec_bankruptcies\n",
      "tax_liens\n",
      "tot_hi_cred_lim\n",
      "total_bal_ex_mort\n",
      "total_bc_limit\n",
      "total_il_high_credit_limit\n",
      "revol_bal_joint\n",
      "sec_app_earliest_cr_line\n",
      "sec_app_inq_last_6mths\n",
      "sec_app_mort_acc\n",
      "sec_app_open_acc\n",
      "sec_app_revol_util\n",
      "sec_app_open_act_il\n",
      "sec_app_num_rev_accts\n",
      "sec_app_chargeoff_within_12_mths\n",
      "sec_app_collections_12_mths_ex_med\n",
      "sec_app_mths_since_last_major_derog\n",
      "hardship_flag\n",
      "hardship_type\n",
      "hardship_reason\n",
      "hardship_status\n",
      "deferral_term\n",
      "hardship_amount\n",
      "hardship_start_date\n",
      "hardship_end_date\n",
      "payment_plan_start_date\n",
      "hardship_length\n",
      "hardship_dpd\n",
      "hardship_loan_status\n",
      "orig_projected_additional_accrued_interest\n",
      "hardship_payoff_balance_amount\n",
      "hardship_last_payment_amount\n",
      "disbursement_method\n",
      "debt_settlement_flag\n",
      "debt_settlement_flag_date\n",
      "settlement_status\n",
      "settlement_date\n",
      "settlement_amount\n",
      "settlement_percentage\n",
      "settlement_term\n"
     ]
    }
   ],
   "source": [
    "for col in data.columns:\n",
    "    print(col)"
   ]
  },
  {
   "cell_type": "markdown",
   "metadata": {},
   "source": [
    "## Preprocessing"
   ]
  },
  {
   "cell_type": "code",
   "execution_count": 290,
   "metadata": {},
   "outputs": [],
   "source": [
    "bad_loan = [\"Charged Off\", \"Default\", \"Does not meet the credit policy. Status:Charged Off\", \n",
    "            \"In Grace Period\", \"Late (16-30 days)\", \"Late (31-120 days)\"]\n",
    "\n",
    "def loan_condition(status):\n",
    "    if status in bad_loan:\n",
    "        return 1\n",
    "    else:\n",
    "        return 0\n",
    "    \n",
    "    \n",
    "y = data['loan_status'].apply(loan_condition)\n",
    "y.name = 'bad_loan'"
   ]
  },
  {
   "cell_type": "code",
   "execution_count": 291,
   "metadata": {},
   "outputs": [],
   "source": [
    "def term_str_to_int(term_str):\n",
    "    return [int(s) for s in term_str.split() if s.isdigit()][0]\n",
    "data['term'] = data['term'].apply(term_str_to_int)"
   ]
  },
  {
   "cell_type": "code",
   "execution_count": 292,
   "metadata": {},
   "outputs": [],
   "source": [
    "def grade_str_to_int(grade_str):\n",
    "    return ord(grade_str.lower()) - 97\n",
    "data['grade'] = data['grade'].apply(grade_str_to_int)"
   ]
  },
  {
   "cell_type": "code",
   "execution_count": 293,
   "metadata": {},
   "outputs": [],
   "source": [
    "def subgrade_str_to_int(subgrade_str):\n",
    "    return grade_str_to_int(subgrade_str[0]) * 5 + (int(subgrade_str[1])-1)\n",
    "data['sub_grade'] = data['sub_grade'].apply(subgrade_str_to_int)"
   ]
  },
  {
   "cell_type": "code",
   "execution_count": 294,
   "metadata": {},
   "outputs": [],
   "source": [
    "def emplength_str_to_int(emplength_str):\n",
    "    if pd.isnull(emplength_str):\n",
    "        return np.nan\n",
    "    else:\n",
    "        return int(re.sub('[^0-9]+', '', str(emplength_str)))\n",
    "data['emp_length'] = data['emp_length'].apply(emplength_str_to_int)"
   ]
  },
  {
   "cell_type": "code",
   "execution_count": 295,
   "metadata": {},
   "outputs": [],
   "source": [
    "def pymntplan_str_to_int(pymntplan_str):\n",
    "    if pymntplan_str == 'y':\n",
    "        return 1\n",
    "    else:\n",
    "        return 0\n",
    "data['pymnt_plan'] = data['pymnt_plan'].apply(pymntplan_str_to_int)"
   ]
  },
  {
   "cell_type": "code",
   "execution_count": 296,
   "metadata": {},
   "outputs": [],
   "source": [
    "data['issue_d'] = pd.to_datetime(data['issue_d'], format='%b-%Y')\n",
    "data['earliest_cr_line'] = pd.to_datetime(data['earliest_cr_line'], format='%b-%Y')\n",
    "data['sec_app_earliest_cr_line'] = pd.to_datetime(data['sec_app_earliest_cr_line'], \n",
    "                                                  format='%b-%Y')\n",
    "def month_diff(a, b):\n",
    "    return 12 * (a.dt.year - b.dt.year) + (a.dt.month - b.dt.month)\n",
    "\n",
    "data['earliest_cr_line'] = month_diff(data['issue_d'], data['earliest_cr_line'])\n",
    "data['sec_app_earliest_cr_line'] = month_diff(data['issue_d'], \n",
    "                                              data['sec_app_earliest_cr_line'])"
   ]
  },
  {
   "cell_type": "code",
   "execution_count": 297,
   "metadata": {},
   "outputs": [],
   "source": [
    "def applicationtype_str_to_int(applicationtype_str):\n",
    "    if applicationtype_str == 'Joint App':\n",
    "        return 1\n",
    "    else:\n",
    "        return 0\n",
    "data['application_type_joint'] = data['application_type'].apply(applicationtype_str_to_int)"
   ]
  },
  {
   "cell_type": "code",
   "execution_count": 298,
   "metadata": {},
   "outputs": [],
   "source": [
    "def disbursement_str_to_int(disbursement_str):\n",
    "    if disbursement_str == 'Cash':\n",
    "        return 1\n",
    "    else:\n",
    "        return 0\n",
    "data['disbursement_method_cash'] = data['disbursement_method'].apply(disbursement_str_to_int)"
   ]
  },
  {
   "cell_type": "code",
   "execution_count": 299,
   "metadata": {},
   "outputs": [],
   "source": [
    "to_drop = ['id', 'member_id', 'emp_title', 'issue_d', 'loan_status', 'url', 'desc', \n",
    "           'title', 'zip_code', 'initial_list_status', 'last_pymnt_d', 'next_pymnt_d',\n",
    "           'last_credit_pull_d', 'policy_code', 'application_type', 'hardship_type',\n",
    "           'hardship_start_date', 'hardship_end_date', 'payment_plan_start_date', \n",
    "           'hardship_length', 'hardship_loan_status', 'debt_settlement_flag',\n",
    "           'debt_settlement_flag_date', 'settlement_status', 'settlement_date',\n",
    "           'settlement_amount', 'settlement_percentage', 'settlement_term',\n",
    "           'deferral_term', 'hardship_flag', 'hardship_type', 'hardship_reason',\n",
    "           'hardship_status', 'hardship_amount', 'hardship_start_date',\n",
    "           'hardship_end_date', 'payment_plan_start_date', 'hardship_length',\n",
    "           'hardship_dpd', 'hardship_loan_status', \n",
    "           'orig_projected_additional_accrued_interest', 'hardship_payoff_balance_amount',\n",
    "           'hardship_last_payment_amount', 'disbursement_method', 'recoveries', \n",
    "           'collection_recovery_fee', 'delinq_amnt']\n",
    "data.drop(columns=to_drop, inplace=True)"
   ]
  },
  {
   "cell_type": "code",
   "execution_count": 300,
   "metadata": {},
   "outputs": [],
   "source": [
    "to_dummies = ['home_ownership', 'verification_status', 'purpose', 'addr_state', \n",
    "              'verification_status_joint']\n",
    "data = pd.get_dummies(data, prefix=to_dummies, columns=to_dummies)"
   ]
  },
  {
   "cell_type": "code",
   "execution_count": 301,
   "metadata": {},
   "outputs": [],
   "source": [
    "iffy = ['mths_since_last_delinq', 'mths_since_last_record', 'mths_since_last_major_derog',\n",
    "        'mths_since_rcnt_il', 'mo_sin_old_il_acct', 'mo_sin_old_rev_tl_op',\n",
    "        'mo_sin_rcnt_rev_tl_op', 'mo_sin_rcnt_tl', 'mths_since_recent_bc',\n",
    "        'mths_since_recent_bc_dlq', 'mths_since_recent_inq', \n",
    "        'mths_since_recent_revol_delinq', 'sec_app_mths_since_last_major_derog']\n",
    "data.drop(columns=iffy, inplace=True)"
   ]
  },
  {
   "cell_type": "code",
   "execution_count": 333,
   "metadata": {},
   "outputs": [],
   "source": [
    "fill_na_100 = ['dti', 'pct_tl_nvr_dlq']\n",
    "data[fill_na_100] = data[fill_na_100].fillna(100)\n",
    "\n",
    "data.fillna(0, inplace=True)"
   ]
  },
  {
   "cell_type": "code",
   "execution_count": 336,
   "metadata": {},
   "outputs": [],
   "source": [
    "data.to_pickle('data.pkl.gzip')"
   ]
  },
  {
   "cell_type": "code",
   "execution_count": 337,
   "metadata": {},
   "outputs": [],
   "source": [
    "y.to_pickle('y.pkl.gzip')"
   ]
  },
  {
   "cell_type": "markdown",
   "metadata": {},
   "source": [
    "## Prediction"
   ]
  },
  {
   "cell_type": "code",
   "execution_count": 3,
   "metadata": {},
   "outputs": [],
   "source": [
    "data = pd.read_pickle('data.pkl.gzip')\n",
    "y = pd.read_pickle('y.pkl.gzip')"
   ]
  },
  {
   "cell_type": "code",
   "execution_count": 4,
   "metadata": {
    "scrolled": true
   },
   "outputs": [
    {
     "name": "stdout",
     "output_type": "stream",
     "text": [
      "loan_amnt\n",
      "funded_amnt\n",
      "funded_amnt_inv\n",
      "term\n",
      "int_rate\n",
      "installment\n",
      "grade\n",
      "sub_grade\n",
      "emp_length\n",
      "annual_inc\n",
      "pymnt_plan\n",
      "dti\n",
      "delinq_2yrs\n",
      "earliest_cr_line\n",
      "inq_last_6mths\n",
      "open_acc\n",
      "pub_rec\n",
      "revol_bal\n",
      "revol_util\n",
      "total_acc\n",
      "out_prncp\n",
      "out_prncp_inv\n",
      "total_pymnt\n",
      "total_pymnt_inv\n",
      "total_rec_prncp\n",
      "total_rec_int\n",
      "total_rec_late_fee\n",
      "last_pymnt_amnt\n",
      "collections_12_mths_ex_med\n",
      "annual_inc_joint\n",
      "dti_joint\n",
      "acc_now_delinq\n",
      "tot_coll_amt\n",
      "tot_cur_bal\n",
      "open_acc_6m\n",
      "open_act_il\n",
      "open_il_12m\n",
      "open_il_24m\n",
      "total_bal_il\n",
      "il_util\n",
      "open_rv_12m\n",
      "open_rv_24m\n",
      "max_bal_bc\n",
      "all_util\n",
      "total_rev_hi_lim\n",
      "inq_fi\n",
      "total_cu_tl\n",
      "inq_last_12m\n",
      "acc_open_past_24mths\n",
      "avg_cur_bal\n",
      "bc_open_to_buy\n",
      "bc_util\n",
      "chargeoff_within_12_mths\n",
      "mort_acc\n",
      "num_accts_ever_120_pd\n",
      "num_actv_bc_tl\n",
      "num_actv_rev_tl\n",
      "num_bc_sats\n",
      "num_bc_tl\n",
      "num_il_tl\n",
      "num_op_rev_tl\n",
      "num_rev_accts\n",
      "num_rev_tl_bal_gt_0\n",
      "num_sats\n",
      "num_tl_120dpd_2m\n",
      "num_tl_30dpd\n",
      "num_tl_90g_dpd_24m\n",
      "num_tl_op_past_12m\n",
      "pct_tl_nvr_dlq\n",
      "percent_bc_gt_75\n",
      "pub_rec_bankruptcies\n",
      "tax_liens\n",
      "tot_hi_cred_lim\n",
      "total_bal_ex_mort\n",
      "total_bc_limit\n",
      "total_il_high_credit_limit\n",
      "revol_bal_joint\n",
      "sec_app_earliest_cr_line\n",
      "sec_app_inq_last_6mths\n",
      "sec_app_mort_acc\n",
      "sec_app_open_acc\n",
      "sec_app_revol_util\n",
      "sec_app_open_act_il\n",
      "sec_app_num_rev_accts\n",
      "sec_app_chargeoff_within_12_mths\n",
      "sec_app_collections_12_mths_ex_med\n",
      "application_type_joint\n",
      "disbursement_method_cash\n",
      "home_ownership_ANY\n",
      "home_ownership_MORTGAGE\n",
      "home_ownership_NONE\n",
      "home_ownership_OTHER\n",
      "home_ownership_OWN\n",
      "home_ownership_RENT\n",
      "verification_status_Not Verified\n",
      "verification_status_Source Verified\n",
      "verification_status_Verified\n",
      "purpose_car\n",
      "purpose_credit_card\n",
      "purpose_debt_consolidation\n",
      "purpose_educational\n",
      "purpose_home_improvement\n",
      "purpose_house\n",
      "purpose_major_purchase\n",
      "purpose_medical\n",
      "purpose_moving\n",
      "purpose_other\n",
      "purpose_renewable_energy\n",
      "purpose_small_business\n",
      "purpose_vacation\n",
      "purpose_wedding\n",
      "addr_state_AK\n",
      "addr_state_AL\n",
      "addr_state_AR\n",
      "addr_state_AZ\n",
      "addr_state_CA\n",
      "addr_state_CO\n",
      "addr_state_CT\n",
      "addr_state_DC\n",
      "addr_state_DE\n",
      "addr_state_FL\n",
      "addr_state_GA\n",
      "addr_state_HI\n",
      "addr_state_IA\n",
      "addr_state_ID\n",
      "addr_state_IL\n",
      "addr_state_IN\n",
      "addr_state_KS\n",
      "addr_state_KY\n",
      "addr_state_LA\n",
      "addr_state_MA\n",
      "addr_state_MD\n",
      "addr_state_ME\n",
      "addr_state_MI\n",
      "addr_state_MN\n",
      "addr_state_MO\n",
      "addr_state_MS\n",
      "addr_state_MT\n",
      "addr_state_NC\n",
      "addr_state_ND\n",
      "addr_state_NE\n",
      "addr_state_NH\n",
      "addr_state_NJ\n",
      "addr_state_NM\n",
      "addr_state_NV\n",
      "addr_state_NY\n",
      "addr_state_OH\n",
      "addr_state_OK\n",
      "addr_state_OR\n",
      "addr_state_PA\n",
      "addr_state_RI\n",
      "addr_state_SC\n",
      "addr_state_SD\n",
      "addr_state_TN\n",
      "addr_state_TX\n",
      "addr_state_UT\n",
      "addr_state_VA\n",
      "addr_state_VT\n",
      "addr_state_WA\n",
      "addr_state_WI\n",
      "addr_state_WV\n",
      "addr_state_WY\n",
      "verification_status_joint_Not Verified\n",
      "verification_status_joint_Source Verified\n",
      "verification_status_joint_Verified\n"
     ]
    }
   ],
   "source": [
    "for col in data.columns:\n",
    "    print(col)"
   ]
  },
  {
   "cell_type": "code",
   "execution_count": 7,
   "metadata": {},
   "outputs": [],
   "source": [
    "data = data.loc[:,~data.columns.str.startswith('addr_state')]"
   ]
  },
  {
   "cell_type": "code",
   "execution_count": 27,
   "metadata": {},
   "outputs": [
    {
     "data": {
      "text/plain": [
       "59406"
      ]
     },
     "execution_count": 27,
     "metadata": {},
     "output_type": "execute_result"
    }
   ],
   "source": [
    "pos_samples = y[y == 1].sample(frac=0.1, axis=0).index\n",
    "neg_samples = y[y == 0].sample(len(pos_samples), axis=0).index\n",
    "samples = pos_samples.union(neg_samples)\n",
    "len(samples)"
   ]
  },
  {
   "cell_type": "code",
   "execution_count": 28,
   "metadata": {
    "scrolled": true
   },
   "outputs": [
    {
     "name": "stdout",
     "output_type": "stream",
     "text": [
      "\n",
      "----------------------------------------\n"
     ]
    },
    {
     "name": "stderr",
     "output_type": "stream",
     "text": [
      "/Users/jurrew27/anaconda3/envs/quant/lib/python3.8/site-packages/statsmodels/base/model.py:547: HessianInversionWarning: Inverting hessian failed, no bse or cov_params available\n",
      "  warn('Inverting hessian failed, no bse or cov_params '\n"
     ]
    },
    {
     "name": "stdout",
     "output_type": "stream",
     "text": [
      "--Best col: last_pymnt_amnt p-value=0.0, aic=72664.54681497569--\n",
      "---- Current columns ----\n",
      "\n",
      "----------------------------------------\n",
      "--Best col: grade p-value=0.0, aic=61808.77904855338--\n",
      "---- Current columns ----\n",
      "last_pymnt_amnt: pvalue=0.0\n",
      "\n",
      "----------------------------------------\n",
      "--Best col: out_prncp p-value=0.0, aic=53472.13062919433--\n",
      "---- Current columns ----\n",
      "last_pymnt_amnt: pvalue=0.0\n",
      "grade: pvalue=0.0\n",
      "\n",
      "----------------------------------------\n",
      "--Best col: funded_amnt p-value=0.0, aic=49929.39417438021--\n",
      "---- Current columns ----\n",
      "last_pymnt_amnt: pvalue=0.0\n",
      "grade: pvalue=0.0\n",
      "out_prncp: pvalue=0.0\n",
      "\n",
      "----------------------------------------\n"
     ]
    },
    {
     "name": "stderr",
     "output_type": "stream",
     "text": [
      "/Users/jurrew27/anaconda3/envs/quant/lib/python3.8/site-packages/statsmodels/base/model.py:547: HessianInversionWarning: Inverting hessian failed, no bse or cov_params available\n",
      "  warn('Inverting hessian failed, no bse or cov_params '\n"
     ]
    },
    {
     "name": "stdout",
     "output_type": "stream",
     "text": [
      "--Best col: total_pymnt p-value=0.0, aic=35311.81398712956--\n",
      "---- Current columns ----\n",
      "last_pymnt_amnt: pvalue=0.0\n",
      "grade: pvalue=0.0\n",
      "out_prncp: pvalue=0.0\n",
      "funded_amnt: pvalue=0.0\n",
      "\n",
      "----------------------------------------\n"
     ]
    },
    {
     "name": "stderr",
     "output_type": "stream",
     "text": [
      "/Users/jurrew27/anaconda3/envs/quant/lib/python3.8/site-packages/statsmodels/base/model.py:547: HessianInversionWarning: Inverting hessian failed, no bse or cov_params available\n",
      "  warn('Inverting hessian failed, no bse or cov_params '\n"
     ]
    },
    {
     "name": "stdout",
     "output_type": "stream",
     "text": [
      "--Best col: total_rec_int p-value=3.6514065311635714e-243, aic=22457.820284219553--\n",
      "---- Current columns ----\n",
      "last_pymnt_amnt: pvalue=3.2320107099801943e-84\n",
      "grade: pvalue=4.339409888059737e-82\n",
      "out_prncp: pvalue=2.5017412084639877e-204\n",
      "funded_amnt: pvalue=1.2053152779579756e-200\n",
      "total_pymnt: pvalue=1.6736381275236273e-216\n",
      "\n",
      "----------------------------------------\n"
     ]
    },
    {
     "name": "stderr",
     "output_type": "stream",
     "text": [
      "/Users/jurrew27/anaconda3/envs/quant/lib/python3.8/site-packages/statsmodels/base/model.py:547: HessianInversionWarning: Inverting hessian failed, no bse or cov_params available\n",
      "  warn('Inverting hessian failed, no bse or cov_params '\n"
     ]
    },
    {
     "name": "stdout",
     "output_type": "stream",
     "text": [
      "--Best col: pct_tl_nvr_dlq p-value=0.0, aic=19853.303087909353--\n",
      "---- Current columns ----\n",
      "last_pymnt_amnt: pvalue=1.853253931025144e-80\n",
      "grade: pvalue=6.492191754043765e-86\n",
      "out_prncp: pvalue=2.0717843258076148e-244\n",
      "funded_amnt: pvalue=2.552995708911002e-246\n",
      "total_pymnt: pvalue=2.0795510181743175e-249\n",
      "total_rec_int: pvalue=1.478510019719891e-253\n",
      "\n",
      "----------------------------------------\n",
      "--Best col: total_rec_late_fee p-value=2.0388412664422813e-193, aic=18173.43469679364--\n",
      "---- Current columns ----\n",
      "last_pymnt_amnt: pvalue=4.3026217413218e-74\n",
      "grade: pvalue=5.882379206986765e-72\n",
      "out_prncp: pvalue=2.5874090234044894e-158\n",
      "funded_amnt: pvalue=2.1191299118354774e-159\n",
      "total_pymnt: pvalue=1.778256482379955e-161\n",
      "total_rec_int: pvalue=3.9537032516370175e-163\n",
      "pct_tl_nvr_dlq: pvalue=0.0\n",
      "\n",
      "----------------------------------------\n"
     ]
    },
    {
     "name": "stderr",
     "output_type": "stream",
     "text": [
      "/Users/jurrew27/anaconda3/envs/quant/lib/python3.8/site-packages/statsmodels/base/model.py:547: HessianInversionWarning: Inverting hessian failed, no bse or cov_params available\n",
      "  warn('Inverting hessian failed, no bse or cov_params '\n"
     ]
    },
    {
     "name": "stdout",
     "output_type": "stream",
     "text": [
      "--Best col: term p-value=2.0057546180352036e-22, aic=18078.18001285918--\n",
      "---- Current columns ----\n",
      "last_pymnt_amnt: pvalue=1.0616970538495556e-71\n",
      "grade: pvalue=1.0622001152542236e-82\n",
      "out_prncp: pvalue=3.740002272567564e-158\n",
      "funded_amnt: pvalue=1.1541414095664428e-159\n",
      "total_pymnt: pvalue=4.625922038982016e-162\n",
      "total_rec_int: pvalue=2.0482823516358538e-165\n",
      "pct_tl_nvr_dlq: pvalue=1.3385691236128366e-74\n",
      "total_rec_late_fee: pvalue=1.1138019279083435e-189\n",
      "\n",
      "----------------------------------------\n"
     ]
    },
    {
     "name": "stderr",
     "output_type": "stream",
     "text": [
      "/Users/jurrew27/anaconda3/envs/quant/lib/python3.8/site-packages/statsmodels/base/model.py:547: HessianInversionWarning: Inverting hessian failed, no bse or cov_params available\n",
      "  warn('Inverting hessian failed, no bse or cov_params '\n"
     ]
    },
    {
     "name": "stdout",
     "output_type": "stream",
     "text": [
      "--Best col: open_rv_24m p-value=8.27257040242853e-21, aic=17996.660368466706--\n",
      "---- Current columns ----\n",
      "last_pymnt_amnt: pvalue=1.4250893064174773e-70\n",
      "grade: pvalue=1.389690977491111e-75\n",
      "out_prncp: pvalue=7.103303463204933e-160\n",
      "funded_amnt: pvalue=2.8743877811117935e-161\n",
      "total_pymnt: pvalue=1.7109000706417063e-163\n",
      "total_rec_int: pvalue=7.675451502297527e-167\n",
      "pct_tl_nvr_dlq: pvalue=7.7895795551248545e-87\n",
      "total_rec_late_fee: pvalue=9.408609277211145e-190\n",
      "term: pvalue=3.639880863098682e-20\n",
      "\n",
      "----------------------------------------\n"
     ]
    },
    {
     "name": "stderr",
     "output_type": "stream",
     "text": [
      "/Users/jurrew27/anaconda3/envs/quant/lib/python3.8/site-packages/statsmodels/base/model.py:547: HessianInversionWarning: Inverting hessian failed, no bse or cov_params available\n",
      "  warn('Inverting hessian failed, no bse or cov_params '\n"
     ]
    },
    {
     "name": "stdout",
     "output_type": "stream",
     "text": [
      "--Best col: num_accts_ever_120_pd p-value=1.2705698886694361e-12, aic=17941.149351071283--\n",
      "---- Current columns ----\n",
      "last_pymnt_amnt: pvalue=8.591273144298245e-71\n",
      "grade: pvalue=3.9636546881130346e-82\n",
      "out_prncp: pvalue=7.75838446209947e-161\n",
      "funded_amnt: pvalue=3.4163272340469973e-162\n",
      "total_pymnt: pvalue=3.532259999446035e-164\n",
      "total_rec_int: pvalue=7.040894685514812e-167\n",
      "pct_tl_nvr_dlq: pvalue=4.4150159465843884e-98\n",
      "total_rec_late_fee: pvalue=1.32495049567984e-190\n",
      "term: pvalue=3.974679684459759e-12\n",
      "open_rv_24m: pvalue=2.2367507602793594e-25\n",
      "\n",
      "----------------------------------------\n"
     ]
    },
    {
     "name": "stderr",
     "output_type": "stream",
     "text": [
      "/Users/jurrew27/anaconda3/envs/quant/lib/python3.8/site-packages/statsmodels/base/model.py:547: HessianInversionWarning: Inverting hessian failed, no bse or cov_params available\n",
      "  warn('Inverting hessian failed, no bse or cov_params '\n",
      "/Users/jurrew27/anaconda3/envs/quant/lib/python3.8/site-packages/statsmodels/base/model.py:547: HessianInversionWarning: Inverting hessian failed, no bse or cov_params available\n",
      "  warn('Inverting hessian failed, no bse or cov_params '\n"
     ]
    },
    {
     "name": "stdout",
     "output_type": "stream",
     "text": [
      "--Best col: il_util p-value=5.458750093449041e-11, aic=17900.041554440388--\n",
      "---- Current columns ----\n",
      "last_pymnt_amnt: pvalue=1.6628930622476548e-70\n",
      "grade: pvalue=1.1491108779637152e-79\n",
      "out_prncp: pvalue=3.9100171817522047e-162\n",
      "funded_amnt: pvalue=2.087249622935654e-163\n",
      "total_pymnt: pvalue=2.903194660312732e-165\n",
      "total_rec_int: pvalue=5.775580470855341e-168\n",
      "pct_tl_nvr_dlq: pvalue=1.066888883391609e-106\n",
      "total_rec_late_fee: pvalue=4.088677809084609e-189\n",
      "term: pvalue=3.1619546621663947e-12\n",
      "open_rv_24m: pvalue=9.789562666185647e-18\n",
      "num_accts_ever_120_pd: pvalue=4.3983796224863385e-15\n",
      "\n",
      "----------------------------------------\n"
     ]
    },
    {
     "name": "stderr",
     "output_type": "stream",
     "text": [
      "/Users/jurrew27/anaconda3/envs/quant/lib/python3.8/site-packages/statsmodels/base/model.py:547: HessianInversionWarning: Inverting hessian failed, no bse or cov_params available\n",
      "  warn('Inverting hessian failed, no bse or cov_params '\n"
     ]
    },
    {
     "name": "stdout",
     "output_type": "stream",
     "text": [
      "--Best col: emp_length p-value=8.491259679335442e-08, aic=17873.24218188315--\n",
      "---- Current columns ----\n",
      "last_pymnt_amnt: pvalue=3.160001588690879e-70\n",
      "grade: pvalue=6.047312452961765e-79\n",
      "out_prncp: pvalue=1.4644458904780803e-162\n",
      "funded_amnt: pvalue=7.59751994497709e-164\n",
      "total_pymnt: pvalue=1.2779919959655753e-165\n",
      "total_rec_int: pvalue=2.6131537606617994e-168\n",
      "pct_tl_nvr_dlq: pvalue=3.722511589201006e-96\n",
      "total_rec_late_fee: pvalue=2.836775361088669e-189\n",
      "term: pvalue=7.337466855235692e-11\n",
      "open_rv_24m: pvalue=4.620626067264458e-18\n",
      "num_accts_ever_120_pd: pvalue=6.099104433252644e-14\n",
      "il_util: pvalue=5.1804436294989305e-11\n",
      "\n",
      "----------------------------------------\n"
     ]
    },
    {
     "name": "stderr",
     "output_type": "stream",
     "text": [
      "/Users/jurrew27/anaconda3/envs/quant/lib/python3.8/site-packages/statsmodels/base/model.py:547: HessianInversionWarning: Inverting hessian failed, no bse or cov_params available\n",
      "  warn('Inverting hessian failed, no bse or cov_params '\n"
     ]
    },
    {
     "name": "stdout",
     "output_type": "stream",
     "text": [
      "--Best col: sub_grade p-value=7.857895631830427e-07, aic=17850.814149398277--\n",
      "---- Current columns ----\n",
      "last_pymnt_amnt: pvalue=6.741913880864423e-71\n",
      "grade: pvalue=0.5144603602498946\n",
      "--Remove col: grade, p-value=0.5144603602498946--\n",
      "funded_amnt: pvalue=2.6399850585200866e-162\n",
      "total_pymnt: pvalue=1.2481879984789559e-163\n",
      "total_rec_int: pvalue=2.5996021305796857e-165\n",
      "pct_tl_nvr_dlq: pvalue=9.687576801145342e-168\n",
      "total_rec_late_fee: pvalue=2.9842109985403785e-101\n",
      "term: pvalue=2.7728474847807562e-188\n",
      "open_rv_24m: pvalue=6.636000026739161e-12\n",
      "num_accts_ever_120_pd: pvalue=1.89602178307192e-17\n",
      "il_util: pvalue=3.9594053446979864e-15\n",
      "emp_length: pvalue=1.7138832334926219e-10\n",
      "sub_grade: pvalue=7.94454140091615e-08\n",
      "\n",
      "----------------------------------------\n"
     ]
    },
    {
     "name": "stderr",
     "output_type": "stream",
     "text": [
      "/Users/jurrew27/anaconda3/envs/quant/lib/python3.8/site-packages/statsmodels/base/model.py:547: HessianInversionWarning: Inverting hessian failed, no bse or cov_params available\n",
      "  warn('Inverting hessian failed, no bse or cov_params '\n"
     ]
    },
    {
     "name": "stdout",
     "output_type": "stream",
     "text": [
      "--Best col: int_rate p-value=1.5679530008844504e-20, aic=17765.15408578897--\n",
      "---- Current columns ----\n",
      "last_pymnt_amnt: pvalue=7.625854745558558e-72\n",
      "out_prncp: pvalue=3.5236091896484726e-162\n",
      "funded_amnt: pvalue=9.765574557606826e-164\n",
      "total_pymnt: pvalue=2.0146099646102764e-165\n",
      "total_rec_int: pvalue=6.714556525525409e-167\n",
      "pct_tl_nvr_dlq: pvalue=3.3442542774269515e-36\n",
      "total_rec_late_fee: pvalue=1.9690568851977562e-188\n",
      "term: pvalue=9.683903404130953e-11\n",
      "open_rv_24m: pvalue=2.9925673494223787e-19\n",
      "num_accts_ever_120_pd: pvalue=3.6825705387247964e-09\n",
      "il_util: pvalue=1.6823433059121286e-14\n",
      "emp_length: pvalue=8.324099303240233e-07\n",
      "sub_grade: pvalue=2.922681527587518e-43\n",
      "\n",
      "----------------------------------------\n"
     ]
    },
    {
     "name": "stderr",
     "output_type": "stream",
     "text": [
      "/Users/jurrew27/anaconda3/envs/quant/lib/python3.8/site-packages/statsmodels/base/model.py:547: HessianInversionWarning: Inverting hessian failed, no bse or cov_params available\n",
      "  warn('Inverting hessian failed, no bse or cov_params '\n"
     ]
    },
    {
     "name": "stdout",
     "output_type": "stream",
     "text": [
      "--Best col: disbursement_method_cash p-value=8.501148694389113e-06, aic=17745.747068958088--\n",
      "---- Current columns ----\n",
      "last_pymnt_amnt: pvalue=1.5077476477299626e-71\n",
      "out_prncp: pvalue=1.0689188123754294e-161\n",
      "funded_amnt: pvalue=2.3715942399026887e-163\n",
      "total_pymnt: pvalue=3.4577501492811077e-165\n",
      "total_rec_int: pvalue=8.18678783985752e-167\n",
      "pct_tl_nvr_dlq: pvalue=7.207033254510371e-40\n",
      "total_rec_late_fee: pvalue=1.429774676267944e-186\n",
      "term: pvalue=4.49300403305999e-12\n",
      "open_rv_24m: pvalue=6.172818569131041e-20\n",
      "num_accts_ever_120_pd: pvalue=3.457949712229747e-11\n",
      "il_util: pvalue=3.526312639800114e-14\n",
      "emp_length: pvalue=2.5538453601694917e-07\n",
      "sub_grade: pvalue=6.86247896731812e-45\n",
      "int_rate: pvalue=1.3312020907617317e-22\n",
      "\n",
      "----------------------------------------\n"
     ]
    },
    {
     "name": "stderr",
     "output_type": "stream",
     "text": [
      "/Users/jurrew27/anaconda3/envs/quant/lib/python3.8/site-packages/statsmodels/base/model.py:547: HessianInversionWarning: Inverting hessian failed, no bse or cov_params available\n",
      "  warn('Inverting hessian failed, no bse or cov_params '\n"
     ]
    },
    {
     "name": "stdout",
     "output_type": "stream",
     "text": [
      "--Best col: total_il_high_credit_limit p-value=2.920556349349355e-05, aic=17729.369555984522--\n",
      "---- Current columns ----\n",
      "last_pymnt_amnt: pvalue=1.3889606426688967e-71\n",
      "out_prncp: pvalue=3.791095752322972e-162\n",
      "funded_amnt: pvalue=7.4204568682221e-164\n",
      "total_pymnt: pvalue=1.272825403159258e-165\n",
      "total_rec_int: pvalue=2.8430248268298184e-167\n",
      "pct_tl_nvr_dlq: pvalue=1.8139488001058963e-38\n",
      "total_rec_late_fee: pvalue=7.009887590005761e-188\n",
      "term: pvalue=6.3083999891472006e-12\n",
      "open_rv_24m: pvalue=4.027335986587959e-19\n",
      "num_accts_ever_120_pd: pvalue=3.122727823757775e-10\n",
      "il_util: pvalue=2.786424265601298e-17\n",
      "emp_length: pvalue=4.3006179049320014e-07\n",
      "sub_grade: pvalue=2.193221279836935e-45\n",
      "int_rate: pvalue=4.185062557118004e-23\n",
      "disbursement_method_cash: pvalue=8.491932194433831e-06\n",
      "\n",
      "----------------------------------------\n"
     ]
    },
    {
     "name": "stderr",
     "output_type": "stream",
     "text": [
      "/Users/jurrew27/anaconda3/envs/quant/lib/python3.8/site-packages/statsmodels/base/model.py:547: HessianInversionWarning: Inverting hessian failed, no bse or cov_params available\n",
      "  warn('Inverting hessian failed, no bse or cov_params '\n",
      "/Users/jurrew27/anaconda3/envs/quant/lib/python3.8/site-packages/statsmodels/base/model.py:547: HessianInversionWarning: Inverting hessian failed, no bse or cov_params available\n",
      "  warn('Inverting hessian failed, no bse or cov_params '\n"
     ]
    },
    {
     "name": "stdout",
     "output_type": "stream",
     "text": [
      "--Best col: inq_last_12m p-value=6.103966386307021e-06, aic=17711.48023838164--\n",
      "---- Current columns ----\n",
      "last_pymnt_amnt: pvalue=2.8215037678406393e-72\n",
      "out_prncp: pvalue=2.360157166248081e-162\n",
      "funded_amnt: pvalue=4.833038443311005e-164\n",
      "total_pymnt: pvalue=8.397892245262545e-166\n",
      "total_rec_int: pvalue=1.691093999716516e-167\n",
      "pct_tl_nvr_dlq: pvalue=9.29027971421793e-38\n",
      "total_rec_late_fee: pvalue=2.041518483156822e-186\n",
      "term: pvalue=1.2946627116856325e-11\n",
      "open_rv_24m: pvalue=1.552080000553583e-12\n",
      "num_accts_ever_120_pd: pvalue=2.8357055927657006e-10\n",
      "il_util: pvalue=9.308883158136379e-14\n",
      "emp_length: pvalue=3.9592650524129375e-07\n",
      "sub_grade: pvalue=2.0004561654925137e-45\n",
      "int_rate: pvalue=1.3755447158838835e-23\n",
      "disbursement_method_cash: pvalue=1.0717631537527547e-05\n",
      "total_il_high_credit_limit: pvalue=3.78766441999276e-06\n",
      "\n",
      "----------------------------------------\n"
     ]
    },
    {
     "name": "stderr",
     "output_type": "stream",
     "text": [
      "/Users/jurrew27/anaconda3/envs/quant/lib/python3.8/site-packages/statsmodels/base/model.py:547: HessianInversionWarning: Inverting hessian failed, no bse or cov_params available\n",
      "  warn('Inverting hessian failed, no bse or cov_params '\n",
      "/Users/jurrew27/anaconda3/envs/quant/lib/python3.8/site-packages/statsmodels/base/model.py:547: HessianInversionWarning: Inverting hessian failed, no bse or cov_params available\n",
      "  warn('Inverting hessian failed, no bse or cov_params '\n"
     ]
    },
    {
     "name": "stdout",
     "output_type": "stream",
     "text": [
      "--Best col: installment p-value=8.833094902927124e-05, aic=17697.894816030403--\n",
      "---- Current columns ----\n",
      "last_pymnt_amnt: pvalue=1.2517218161904318e-71\n",
      "out_prncp: pvalue=6.32141958322988e-163\n",
      "funded_amnt: pvalue=9.692458894971856e-163\n",
      "total_pymnt: pvalue=1.5960758423413854e-166\n",
      "total_rec_int: pvalue=2.8661611582136e-168\n",
      "pct_tl_nvr_dlq: pvalue=1.639240355636913e-41\n",
      "total_rec_late_fee: pvalue=1.7165785524620198e-185\n",
      "term: pvalue=0.3943892416949506\n",
      "--Remove col: term, p-value=0.3943892416949506--\n",
      "num_accts_ever_120_pd: pvalue=3.480269689441307e-12\n",
      "il_util: pvalue=1.7897793602554118e-11\n",
      "emp_length: pvalue=3.7388900186574213e-13\n",
      "sub_grade: pvalue=1.7025538685409785e-07\n",
      "int_rate: pvalue=1.3363208728439449e-48\n",
      "disbursement_method_cash: pvalue=6.989589113316035e-27\n",
      "total_il_high_credit_limit: pvalue=4.3305284393323676e-05\n",
      "inq_last_12m: pvalue=4.041072245610726e-06\n",
      "installment: pvalue=4.994020151052421e-06\n",
      "\n",
      "----------------------------------------\n"
     ]
    },
    {
     "name": "stderr",
     "output_type": "stream",
     "text": [
      "/Users/jurrew27/anaconda3/envs/quant/lib/python3.8/site-packages/statsmodels/base/model.py:547: HessianInversionWarning: Inverting hessian failed, no bse or cov_params available\n",
      "  warn('Inverting hessian failed, no bse or cov_params '\n"
     ]
    },
    {
     "name": "stdout",
     "output_type": "stream",
     "text": [
      "--Best col: all_util p-value=0.0003382867061816825, aic=17685.90034487903--\n",
      "---- Current columns ----\n",
      "last_pymnt_amnt: pvalue=9.853817792741838e-71\n",
      "out_prncp: pvalue=1.0187827773502192e-162\n",
      "funded_amnt: pvalue=7.167570686658494e-162\n",
      "total_pymnt: pvalue=3.238332716078442e-166\n",
      "total_rec_int: pvalue=9.18502288804818e-168\n",
      "pct_tl_nvr_dlq: pvalue=8.678665028426656e-60\n",
      "total_rec_late_fee: pvalue=3.675674799535342e-185\n",
      "open_rv_24m: pvalue=5.473037136700568e-13\n",
      "num_accts_ever_120_pd: pvalue=6.651790967635438e-13\n",
      "il_util: pvalue=0.001445913049478383\n",
      "emp_length: pvalue=9.373748093009818e-08\n",
      "sub_grade: pvalue=2.59582794150516e-52\n",
      "int_rate: pvalue=5.3079944915636555e-33\n",
      "disbursement_method_cash: pvalue=5.291792433887722e-05\n",
      "total_il_high_credit_limit: pvalue=4.786722894788982e-06\n",
      "inq_last_12m: pvalue=7.07082999502681e-06\n",
      "installment: pvalue=9.232856902725929e-14\n",
      "\n",
      "----------------------------------------\n"
     ]
    },
    {
     "name": "stderr",
     "output_type": "stream",
     "text": [
      "/Users/jurrew27/anaconda3/envs/quant/lib/python3.8/site-packages/statsmodels/base/model.py:547: HessianInversionWarning: Inverting hessian failed, no bse or cov_params available\n",
      "  warn('Inverting hessian failed, no bse or cov_params '\n",
      "/Users/jurrew27/anaconda3/envs/quant/lib/python3.8/site-packages/statsmodels/base/model.py:547: HessianInversionWarning: Inverting hessian failed, no bse or cov_params available\n",
      "  warn('Inverting hessian failed, no bse or cov_params '\n"
     ]
    },
    {
     "name": "stdout",
     "output_type": "stream",
     "text": [
      "--Best col: sec_app_inq_last_6mths p-value=0.00028894502646916077, aic=17675.315637848922--\n",
      "---- Current columns ----\n",
      "last_pymnt_amnt: pvalue=1.126746726462444e-70\n",
      "out_prncp: pvalue=7.723714663924623e-163\n",
      "funded_amnt: pvalue=5.541359620115079e-162\n",
      "total_pymnt: pvalue=2.764277458589507e-166\n",
      "total_rec_int: pvalue=7.529218366683032e-168\n",
      "pct_tl_nvr_dlq: pvalue=3.2407813506166567e-59\n",
      "total_rec_late_fee: pvalue=3.718502312870138e-184\n",
      "open_rv_24m: pvalue=5.014815410092267e-13\n",
      "num_accts_ever_120_pd: pvalue=8.954286099670069e-13\n",
      "il_util: pvalue=0.0015292965238283959\n",
      "emp_length: pvalue=2.2683319523647918e-07\n",
      "sub_grade: pvalue=1.4818909100681649e-52\n",
      "int_rate: pvalue=2.684165470639495e-33\n",
      "disbursement_method_cash: pvalue=8.05385802620878e-05\n",
      "total_il_high_credit_limit: pvalue=4.145695470008571e-06\n",
      "inq_last_12m: pvalue=1.5983624966423867e-05\n",
      "installment: pvalue=1.9517969212072623e-13\n",
      "all_util: pvalue=0.00028229303079267833\n",
      "\n",
      "----------------------------------------\n"
     ]
    },
    {
     "name": "stderr",
     "output_type": "stream",
     "text": [
      "/Users/jurrew27/anaconda3/envs/quant/lib/python3.8/site-packages/statsmodels/base/model.py:547: HessianInversionWarning: Inverting hessian failed, no bse or cov_params available\n",
      "  warn('Inverting hessian failed, no bse or cov_params '\n"
     ]
    },
    {
     "name": "stdout",
     "output_type": "stream",
     "text": [
      "--Best col: verification_status_Not Verified p-value=0.0006875290422266974, aic=17665.678653114504--\n",
      "---- Current columns ----\n",
      "last_pymnt_amnt: pvalue=9.480282534065706e-71\n",
      "out_prncp: pvalue=7.353373626422656e-163\n",
      "funded_amnt: pvalue=5.570640475914172e-162\n",
      "total_pymnt: pvalue=2.2726227412660897e-166\n",
      "total_rec_int: pvalue=5.644541144276097e-168\n",
      "pct_tl_nvr_dlq: pvalue=1.4293748510520162e-55\n",
      "total_rec_late_fee: pvalue=9.434457731793711e-184\n",
      "open_rv_24m: pvalue=1.231458426281244e-12\n",
      "num_accts_ever_120_pd: pvalue=2.102333532771053e-12\n",
      "il_util: pvalue=0.0015352442105494367\n",
      "emp_length: pvalue=3.5614905748567095e-07\n",
      "sub_grade: pvalue=2.347348141824682e-49\n",
      "int_rate: pvalue=1.122889309474277e-31\n",
      "disbursement_method_cash: pvalue=3.697363626469772e-05\n",
      "total_il_high_credit_limit: pvalue=6.130949644176746e-06\n",
      "inq_last_12m: pvalue=2.9855811982339562e-05\n",
      "installment: pvalue=2.2100112110184375e-13\n",
      "all_util: pvalue=0.0005131360437538145\n",
      "sec_app_inq_last_6mths: pvalue=0.00018839061155344363\n",
      "\n",
      "----------------------------------------\n"
     ]
    },
    {
     "name": "stderr",
     "output_type": "stream",
     "text": [
      "/Users/jurrew27/anaconda3/envs/quant/lib/python3.8/site-packages/statsmodels/base/model.py:547: HessianInversionWarning: Inverting hessian failed, no bse or cov_params available\n",
      "  warn('Inverting hessian failed, no bse or cov_params '\n",
      "/Users/jurrew27/anaconda3/envs/quant/lib/python3.8/site-packages/statsmodels/base/model.py:547: HessianInversionWarning: Inverting hessian failed, no bse or cov_params available\n",
      "  warn('Inverting hessian failed, no bse or cov_params '\n"
     ]
    },
    {
     "name": "stdout",
     "output_type": "stream",
     "text": [
      "--Best col: revol_util p-value=0.0007141818002628193, aic=17656.205386409056--\n",
      "---- Current columns ----\n",
      "last_pymnt_amnt: pvalue=5.220889571093857e-71\n",
      "out_prncp: pvalue=7.467179151244845e-163\n",
      "funded_amnt: pvalue=5.662315038351607e-162\n",
      "total_pymnt: pvalue=2.943156044863819e-166\n",
      "total_rec_int: pvalue=7.873082594755156e-168\n",
      "pct_tl_nvr_dlq: pvalue=2.6298436921094037e-47\n",
      "total_rec_late_fee: pvalue=3.8513928145578563e-184\n",
      "open_rv_24m: pvalue=6.524762566726367e-10\n",
      "num_accts_ever_120_pd: pvalue=6.846142709531735e-12\n",
      "il_util: pvalue=0.11422692188382484\n",
      "emp_length: pvalue=1.76742157255276e-06\n",
      "sub_grade: pvalue=1.0573830892676412e-50\n",
      "int_rate: pvalue=4.6543978275367407e-32\n",
      "disbursement_method_cash: pvalue=6.791368541467341e-05\n",
      "total_il_high_credit_limit: pvalue=1.715512122401822e-05\n",
      "inq_last_12m: pvalue=0.0002611487619856796\n",
      "installment: pvalue=3.1108748849341045e-13\n",
      "all_util: pvalue=1.8556771058409592e-06\n",
      "sec_app_inq_last_6mths: pvalue=0.0002621883932402101\n",
      "verification_status_Not Verified: pvalue=0.0005859479915306065\n",
      "\n",
      "----------------------------------------\n"
     ]
    },
    {
     "name": "stderr",
     "output_type": "stream",
     "text": [
      "/Users/jurrew27/anaconda3/envs/quant/lib/python3.8/site-packages/statsmodels/base/model.py:547: HessianInversionWarning: Inverting hessian failed, no bse or cov_params available\n",
      "  warn('Inverting hessian failed, no bse or cov_params '\n"
     ]
    },
    {
     "name": "stdout",
     "output_type": "stream",
     "text": [
      "--Best col: verification_status_Source Verified p-value=0.004576749842755961, aic=17650.195461341853--\n",
      "---- Current columns ----\n",
      "last_pymnt_amnt: pvalue=5.2935671889204824e-71\n",
      "out_prncp: pvalue=1.423048064536049e-162\n",
      "funded_amnt: pvalue=1.0543669705295094e-161\n",
      "total_pymnt: pvalue=5.501810713776099e-166\n",
      "total_rec_int: pvalue=1.5751746994824831e-167\n",
      "pct_tl_nvr_dlq: pvalue=7.120604364821326e-43\n",
      "total_rec_late_fee: pvalue=9.097823914424971e-185\n",
      "open_rv_24m: pvalue=6.039737119091485e-10\n",
      "num_accts_ever_120_pd: pvalue=4.180011724974672e-11\n",
      "il_util: pvalue=0.11934776454109483\n",
      "emp_length: pvalue=2.6309514190018507e-06\n",
      "sub_grade: pvalue=9.518138842046189e-50\n",
      "int_rate: pvalue=1.5308997608242618e-31\n",
      "disbursement_method_cash: pvalue=3.7032895869132086e-05\n",
      "total_il_high_credit_limit: pvalue=1.5111832569004554e-05\n",
      "inq_last_12m: pvalue=0.0002886719849412197\n",
      "installment: pvalue=4.605628429300644e-13\n",
      "all_util: pvalue=1.3642282187140705e-06\n",
      "sec_app_inq_last_6mths: pvalue=0.00043704240495685603\n",
      "verification_status_Not Verified: pvalue=8.71278567893065e-06\n",
      "revol_util: pvalue=0.0006952223079286183\n",
      "\n",
      "----------------------------------------\n"
     ]
    },
    {
     "name": "stderr",
     "output_type": "stream",
     "text": [
      "/Users/jurrew27/anaconda3/envs/quant/lib/python3.8/site-packages/statsmodels/base/model.py:547: HessianInversionWarning: Inverting hessian failed, no bse or cov_params available\n",
      "  warn('Inverting hessian failed, no bse or cov_params '\n"
     ]
    },
    {
     "name": "stdout",
     "output_type": "stream",
     "text": [
      "--Best col: verification_status_Verified p-value=5.187695675672059e-11, aic=17607.44209839985--\n",
      "---- Current columns ----\n",
      "last_pymnt_amnt: pvalue=2.6555297228073224e-71\n",
      "out_prncp: pvalue=4.6472403277196556e-163\n",
      "funded_amnt: pvalue=2.0487868339475223e-162\n",
      "total_pymnt: pvalue=3.29978910529638e-166\n",
      "total_rec_int: pvalue=2.25549345211871e-167\n",
      "pct_tl_nvr_dlq: pvalue=0.0059857532246954896\n",
      "total_rec_late_fee: pvalue=2.220047214246304e-186\n",
      "open_rv_24m: pvalue=5.508531726077114e-10\n",
      "num_accts_ever_120_pd: pvalue=0.0046616980318724575\n",
      "il_util: pvalue=0.06359003660610166\n",
      "emp_length: pvalue=5.337461995719102e-05\n",
      "sub_grade: pvalue=2.3267519778056848e-34\n",
      "int_rate: pvalue=2.4224692276109477e-18\n",
      "disbursement_method_cash: pvalue=2.165690289336954e-09\n",
      "total_il_high_credit_limit: pvalue=7.849415195174124e-06\n",
      "inq_last_12m: pvalue=0.0002565758337066209\n",
      "installment: pvalue=1.479128677837252e-10\n",
      "all_util: pvalue=1.5455109923297448e-06\n",
      "sec_app_inq_last_6mths: pvalue=0.0006214761036268864\n",
      "verification_status_Not Verified: pvalue=4.074314316782359e-13\n",
      "revol_util: pvalue=0.021778996266850387\n",
      "verification_status_Source Verified: pvalue=4.135762982981947e-12\n",
      "\n",
      "----------------------------------------\n"
     ]
    },
    {
     "name": "stderr",
     "output_type": "stream",
     "text": [
      "/Users/jurrew27/anaconda3/envs/quant/lib/python3.8/site-packages/statsmodels/base/model.py:547: HessianInversionWarning: Inverting hessian failed, no bse or cov_params available\n",
      "  warn('Inverting hessian failed, no bse or cov_params '\n"
     ]
    },
    {
     "name": "stdout",
     "output_type": "stream",
     "text": [
      "--Best col: max_bal_bc p-value=0.0007262375695590417, aic=17597.573864122296--\n",
      "---- Current columns ----\n",
      "last_pymnt_amnt: pvalue=2.5235616561756084e-71\n",
      "out_prncp: pvalue=1.9232229493736314e-163\n",
      "funded_amnt: pvalue=6.531484454601574e-163\n",
      "total_pymnt: pvalue=1.1112189715906219e-166\n",
      "total_rec_int: pvalue=9.087203412871496e-168\n",
      "pct_tl_nvr_dlq: pvalue=0.01448805044775895\n",
      "total_rec_late_fee: pvalue=1.3593862544140617e-186\n",
      "open_rv_24m: pvalue=1.5777432046308735e-10\n",
      "num_accts_ever_120_pd: pvalue=0.003214479880347891\n",
      "il_util: pvalue=0.1123732056323927\n",
      "emp_length: pvalue=0.00011498098985989441\n",
      "sub_grade: pvalue=2.061447489946139e-33\n",
      "int_rate: pvalue=4.3122655199172885e-18\n",
      "disbursement_method_cash: pvalue=4.49898284475451e-09\n",
      "total_il_high_credit_limit: pvalue=2.734502765864584e-05\n",
      "inq_last_12m: pvalue=0.0003246941461948631\n",
      "installment: pvalue=8.077650553293853e-11\n",
      "all_util: pvalue=4.7530649527057796e-08\n",
      "sec_app_inq_last_6mths: pvalue=0.0009719322399905593\n",
      "verification_status_Not Verified: pvalue=7.064387950655588e-14\n",
      "revol_util: pvalue=0.08949991794130265\n",
      "verification_status_Source Verified: pvalue=6.684375109955654e-13\n",
      "verification_status_Verified: pvalue=9.596095039852407e-12\n",
      "\n",
      "----------------------------------------\n"
     ]
    },
    {
     "name": "stderr",
     "output_type": "stream",
     "text": [
      "/Users/jurrew27/anaconda3/envs/quant/lib/python3.8/site-packages/statsmodels/base/model.py:547: HessianInversionWarning: Inverting hessian failed, no bse or cov_params available\n",
      "  warn('Inverting hessian failed, no bse or cov_params '\n"
     ]
    },
    {
     "name": "stdout",
     "output_type": "stream",
     "text": [
      "--Best col: num_bc_tl p-value=0.00031148034314967647, aic=17586.790210753603--\n",
      "---- Current columns ----\n",
      "last_pymnt_amnt: pvalue=1.6484955225776003e-71\n",
      "out_prncp: pvalue=2.0297610739869105e-163\n",
      "funded_amnt: pvalue=7.829949526596346e-163\n",
      "total_pymnt: pvalue=1.001879432793393e-166\n",
      "total_rec_int: pvalue=9.15436529309553e-168\n",
      "pct_tl_nvr_dlq: pvalue=0.010488552256677039\n",
      "total_rec_late_fee: pvalue=4.5588704482103506e-187\n",
      "open_rv_24m: pvalue=1.185676578518717e-06\n",
      "num_accts_ever_120_pd: pvalue=0.0011971236372224517\n",
      "il_util: pvalue=0.1415783410923708\n",
      "emp_length: pvalue=4.9346301761881635e-05\n",
      "sub_grade: pvalue=2.4419314276076292e-34\n",
      "int_rate: pvalue=1.317052400113108e-18\n",
      "disbursement_method_cash: pvalue=4.155075237981074e-09\n",
      "total_il_high_credit_limit: pvalue=1.0135333643690958e-05\n",
      "inq_last_12m: pvalue=0.0004749694550095178\n",
      "installment: pvalue=4.5136328707065734e-11\n",
      "all_util: pvalue=1.4688810849417722e-09\n",
      "sec_app_inq_last_6mths: pvalue=0.00066118625944548\n",
      "verification_status_Not Verified: pvalue=1.4948537012715214e-14\n",
      "revol_util: pvalue=0.08778495874110635\n",
      "verification_status_Source Verified: pvalue=1.724822874586522e-13\n",
      "verification_status_Verified: pvalue=2.4957490491063347e-12\n",
      "max_bal_bc: pvalue=6.501924961773705e-05\n",
      "\n",
      "----------------------------------------\n"
     ]
    },
    {
     "name": "stderr",
     "output_type": "stream",
     "text": [
      "/Users/jurrew27/anaconda3/envs/quant/lib/python3.8/site-packages/statsmodels/base/model.py:547: HessianInversionWarning: Inverting hessian failed, no bse or cov_params available\n",
      "  warn('Inverting hessian failed, no bse or cov_params '\n"
     ]
    },
    {
     "name": "stdout",
     "output_type": "stream",
     "text": [
      "--Best col: total_bc_limit p-value=0.00048647784044273155, aic=17576.178151206466--\n",
      "---- Current columns ----\n",
      "last_pymnt_amnt: pvalue=1.0212605185710683e-71\n",
      "out_prncp: pvalue=1.166790963707927e-162\n",
      "funded_amnt: pvalue=3.366090438080793e-162\n",
      "total_pymnt: pvalue=6.275818872913224e-166\n",
      "total_rec_int: pvalue=6.480097828031834e-167\n",
      "pct_tl_nvr_dlq: pvalue=0.028450912140933104\n",
      "total_rec_late_fee: pvalue=5.493257547257185e-187\n",
      "open_rv_24m: pvalue=1.1901534201121942e-06\n",
      "num_accts_ever_120_pd: pvalue=0.0006506039001874577\n",
      "il_util: pvalue=0.06528101308988087\n",
      "emp_length: pvalue=4.8827487479640664e-05\n",
      "sub_grade: pvalue=3.746462587982514e-33\n",
      "int_rate: pvalue=4.360402475429611e-18\n",
      "disbursement_method_cash: pvalue=4.444353009937513e-09\n",
      "total_il_high_credit_limit: pvalue=2.1176730316367286e-05\n",
      "inq_last_12m: pvalue=0.0006647127130109534\n",
      "installment: pvalue=1.211139356061805e-10\n",
      "all_util: pvalue=4.4078703051914934e-07\n",
      "sec_app_inq_last_6mths: pvalue=0.0006609751378433865\n",
      "verification_status_Not Verified: pvalue=5.9772907636752434e-15\n",
      "revol_util: pvalue=0.024442204542546635\n",
      "verification_status_Source Verified: pvalue=6.559959152056396e-14\n",
      "verification_status_Verified: pvalue=9.465267732196825e-13\n",
      "max_bal_bc: pvalue=0.20914696960519064\n",
      "--Remove col: max_bal_bc, p-value=0.20914696960519064--\n",
      "total_bc_limit: pvalue=9.541972669826636e-07\n",
      "\n",
      "----------------------------------------\n"
     ]
    },
    {
     "name": "stderr",
     "output_type": "stream",
     "text": [
      "/Users/jurrew27/anaconda3/envs/quant/lib/python3.8/site-packages/statsmodels/base/model.py:547: HessianInversionWarning: Inverting hessian failed, no bse or cov_params available\n",
      "  warn('Inverting hessian failed, no bse or cov_params '\n",
      "/Users/jurrew27/anaconda3/envs/quant/lib/python3.8/site-packages/statsmodels/base/model.py:547: HessianInversionWarning: Inverting hessian failed, no bse or cov_params available\n",
      "  warn('Inverting hessian failed, no bse or cov_params '\n"
     ]
    },
    {
     "name": "stdout",
     "output_type": "stream",
     "text": [
      "--Best col: num_tl_90g_dpd_24m p-value=0.0040390508727690755, aic=17569.815675962847--\n",
      "---- Current columns ----\n",
      "last_pymnt_amnt: pvalue=1.3369516601184495e-71\n",
      "out_prncp: pvalue=4.956699666654157e-162\n",
      "funded_amnt: pvalue=1.4120580559625455e-161\n",
      "total_pymnt: pvalue=2.835687331390705e-165\n",
      "total_rec_int: pvalue=2.8705224667407513e-166\n",
      "pct_tl_nvr_dlq: pvalue=0.060639662452160646\n",
      "total_rec_late_fee: pvalue=8.887736310941662e-187\n",
      "open_rv_24m: pvalue=8.0277923031074e-07\n",
      "num_accts_ever_120_pd: pvalue=0.00014691544523727802\n",
      "il_util: pvalue=0.04129272636978898\n",
      "emp_length: pvalue=4.7829399740316354e-05\n",
      "sub_grade: pvalue=4.438887670106818e-33\n",
      "int_rate: pvalue=4.86493075907164e-18\n",
      "disbursement_method_cash: pvalue=3.4375572716937333e-09\n",
      "total_il_high_credit_limit: pvalue=1.376281954585927e-05\n",
      "inq_last_12m: pvalue=0.000620809157906096\n",
      "installment: pvalue=2.1382795919639446e-10\n",
      "all_util: pvalue=1.1596572718254175e-06\n",
      "sec_app_inq_last_6mths: pvalue=0.0006074202979025419\n",
      "verification_status_Not Verified: pvalue=1.7437751369336156e-15\n",
      "revol_util: pvalue=0.011693398904739498\n",
      "verification_status_Source Verified: pvalue=1.971322721009159e-14\n",
      "verification_status_Verified: pvalue=2.851163057939047e-13\n",
      "num_bc_tl: pvalue=5.598031266933488e-07\n",
      "total_bc_limit: pvalue=3.545610750777187e-07\n",
      "\n",
      "----------------------------------------\n"
     ]
    },
    {
     "name": "stderr",
     "output_type": "stream",
     "text": [
      "/Users/jurrew27/anaconda3/envs/quant/lib/python3.8/site-packages/statsmodels/base/model.py:547: HessianInversionWarning: Inverting hessian failed, no bse or cov_params available\n",
      "  warn('Inverting hessian failed, no bse or cov_params '\n"
     ]
    },
    {
     "name": "stdout",
     "output_type": "stream",
     "text": [
      "--Best col: open_acc p-value=0.018267886012840316, aic=17566.191945661332--\n",
      "---- Current columns ----\n",
      "last_pymnt_amnt: pvalue=1.0931693210977834e-71\n",
      "out_prncp: pvalue=6.850722725042481e-162\n",
      "funded_amnt: pvalue=1.968870920962677e-161\n",
      "total_pymnt: pvalue=4.1585720592064065e-165\n",
      "total_rec_int: pvalue=4.098367023803272e-166\n",
      "pct_tl_nvr_dlq: pvalue=0.09544187132430368\n",
      "total_rec_late_fee: pvalue=1.9728493767115384e-186\n",
      "open_rv_24m: pvalue=5.839758046065913e-08\n",
      "num_accts_ever_120_pd: pvalue=0.00019029224446653407\n",
      "il_util: pvalue=0.018415702532573328\n",
      "emp_length: pvalue=7.303404118880858e-05\n",
      "sub_grade: pvalue=1.4763791098688041e-33\n",
      "int_rate: pvalue=2.1921902417195392e-18\n",
      "disbursement_method_cash: pvalue=5.105638103138217e-09\n",
      "total_il_high_credit_limit: pvalue=0.0015639464929623607\n",
      "inq_last_12m: pvalue=0.0009232719322039209\n",
      "installment: pvalue=1.8840777114563234e-10\n",
      "all_util: pvalue=3.917785908193459e-06\n",
      "sec_app_inq_last_6mths: pvalue=0.0005864836840326162\n",
      "verification_status_Not Verified: pvalue=2.7656856185568265e-15\n",
      "revol_util: pvalue=0.012907389746148934\n",
      "verification_status_Source Verified: pvalue=2.890358128361063e-14\n",
      "verification_status_Verified: pvalue=4.0817817145826923e-13\n",
      "num_bc_tl: pvalue=3.126563141905509e-08\n",
      "total_bc_limit: pvalue=1.477446782580627e-06\n",
      "num_tl_90g_dpd_24m: pvalue=0.0031789775123692316\n",
      "\n",
      "----------------------------------------\n"
     ]
    },
    {
     "name": "stderr",
     "output_type": "stream",
     "text": [
      "/Users/jurrew27/anaconda3/envs/quant/lib/python3.8/site-packages/statsmodels/base/model.py:547: HessianInversionWarning: Inverting hessian failed, no bse or cov_params available\n",
      "  warn('Inverting hessian failed, no bse or cov_params '\n",
      "/Users/jurrew27/anaconda3/envs/quant/lib/python3.8/site-packages/statsmodels/base/model.py:547: HessianInversionWarning: Inverting hessian failed, no bse or cov_params available\n",
      "  warn('Inverting hessian failed, no bse or cov_params '\n"
     ]
    },
    {
     "name": "stdout",
     "output_type": "stream",
     "text": [
      "--Best col: num_actv_rev_tl p-value=0.012836408459674306, aic=17561.996206471722--\n",
      "---- Current columns ----\n",
      "last_pymnt_amnt: pvalue=2.306747356596546e-71\n",
      "out_prncp: pvalue=1.4343069226910903e-161\n",
      "funded_amnt: pvalue=3.893266302974799e-161\n",
      "total_pymnt: pvalue=9.474767727894033e-165\n",
      "total_rec_int: pvalue=1.0169494180354064e-165\n",
      "pct_tl_nvr_dlq: pvalue=0.10011836123226432\n",
      "total_rec_late_fee: pvalue=1.7814555214887026e-186\n",
      "open_rv_24m: pvalue=1.3133560704473809e-06\n",
      "num_accts_ever_120_pd: pvalue=0.00038325272422355715\n",
      "il_util: pvalue=0.011284171574274119\n",
      "emp_length: pvalue=4.3000402080012936e-05\n",
      "sub_grade: pvalue=2.359483638274653e-33\n",
      "int_rate: pvalue=2.5673985721782124e-18\n",
      "disbursement_method_cash: pvalue=3.793542223228952e-09\n",
      "total_il_high_credit_limit: pvalue=0.009575516363112779\n",
      "inq_last_12m: pvalue=0.0008276978746215959\n",
      "installment: pvalue=4.345117064728839e-10\n",
      "all_util: pvalue=3.7071143879510556e-06\n",
      "sec_app_inq_last_6mths: pvalue=0.0005833712133776589\n",
      "verification_status_Not Verified: pvalue=4.532243786650503e-15\n",
      "revol_util: pvalue=0.002238950799418917\n",
      "verification_status_Source Verified: pvalue=4.527531047191378e-14\n",
      "verification_status_Verified: pvalue=5.857411198687935e-13\n",
      "num_bc_tl: pvalue=1.8711092051821947e-06\n",
      "total_bc_limit: pvalue=7.933612876314317e-07\n",
      "num_tl_90g_dpd_24m: pvalue=0.0031573941160918046\n",
      "open_acc: pvalue=0.0009003883205033538\n",
      "\n",
      "----------------------------------------\n"
     ]
    },
    {
     "name": "stderr",
     "output_type": "stream",
     "text": [
      "/Users/jurrew27/anaconda3/envs/quant/lib/python3.8/site-packages/statsmodels/base/model.py:547: HessianInversionWarning: Inverting hessian failed, no bse or cov_params available\n",
      "  warn('Inverting hessian failed, no bse or cov_params '\n"
     ]
    },
    {
     "name": "stdout",
     "output_type": "stream",
     "text": [
      "--Best col: term p-value=0.016687293004600045, aic=17558.28222983576--\n",
      "---- Current columns ----\n",
      "last_pymnt_amnt: pvalue=1.6344036777170007e-71\n",
      "out_prncp: pvalue=6.07518241791348e-162\n",
      "funded_amnt: pvalue=8.352282400526337e-161\n",
      "total_pymnt: pvalue=4.2907255661834044e-165\n",
      "total_rec_int: pvalue=6.494845975899889e-166\n",
      "pct_tl_nvr_dlq: pvalue=0.08696980266779877\n",
      "total_rec_late_fee: pvalue=6.012234064954243e-187\n",
      "open_rv_24m: pvalue=9.373904745673674e-07\n",
      "num_accts_ever_120_pd: pvalue=0.0003749326080814078\n",
      "il_util: pvalue=0.012537831201035483\n",
      "emp_length: pvalue=3.0462804731444937e-05\n",
      "sub_grade: pvalue=7.735861571800128e-34\n",
      "int_rate: pvalue=1.8195746239543675e-19\n",
      "disbursement_method_cash: pvalue=2.7077162237393315e-09\n",
      "total_il_high_credit_limit: pvalue=0.009786212787216707\n",
      "inq_last_12m: pvalue=0.0007337258244272977\n",
      "installment: pvalue=3.472235003413793e-08\n",
      "all_util: pvalue=3.256893251615144e-06\n",
      "sec_app_inq_last_6mths: pvalue=0.0005639498767882491\n",
      "verification_status_Not Verified: pvalue=2.985682992861946e-16\n",
      "revol_util: pvalue=0.0027108655194477056\n",
      "verification_status_Source Verified: pvalue=2.724582623394995e-15\n",
      "verification_status_Verified: pvalue=3.2868485456147646e-14\n",
      "num_bc_tl: pvalue=2.3262613883638178e-06\n",
      "total_bc_limit: pvalue=1.1831562142375385e-06\n",
      "num_tl_90g_dpd_24m: pvalue=0.003165166351226211\n",
      "open_acc: pvalue=0.0006894063152142467\n",
      "num_actv_rev_tl: pvalue=0.011575031345007794\n",
      "\n",
      "----------------------------------------\n"
     ]
    },
    {
     "name": "stderr",
     "output_type": "stream",
     "text": [
      "/Users/jurrew27/anaconda3/envs/quant/lib/python3.8/site-packages/statsmodels/base/model.py:547: HessianInversionWarning: Inverting hessian failed, no bse or cov_params available\n",
      "  warn('Inverting hessian failed, no bse or cov_params '\n"
     ]
    },
    {
     "name": "stdout",
     "output_type": "stream",
     "text": [
      "--Best col: purpose_small_business p-value=0.016180252918408872, aic=17554.806293575446--\n",
      "---- Current columns ----\n",
      "last_pymnt_amnt: pvalue=1.5601887085617795e-71\n",
      "out_prncp: pvalue=6.076830752067298e-162\n",
      "funded_amnt: pvalue=8.521524179631519e-161\n",
      "total_pymnt: pvalue=4.380419754076251e-165\n",
      "total_rec_int: pvalue=6.630422558095668e-166\n",
      "pct_tl_nvr_dlq: pvalue=0.08965587017429873\n",
      "total_rec_late_fee: pvalue=6.189545111192312e-187\n",
      "open_rv_24m: pvalue=7.757581452834279e-07\n",
      "num_accts_ever_120_pd: pvalue=0.00039171281390039094\n",
      "il_util: pvalue=0.011657392348955182\n",
      "emp_length: pvalue=3.187879276806772e-05\n",
      "sub_grade: pvalue=1.3316754862882955e-33\n",
      "int_rate: pvalue=2.1789906843987223e-19\n",
      "disbursement_method_cash: pvalue=3.223925081119473e-09\n",
      "total_il_high_credit_limit: pvalue=0.009862619356012034\n",
      "inq_last_12m: pvalue=0.0008023740911399747\n",
      "installment: pvalue=3.437643901424765e-08\n",
      "all_util: pvalue=3.1794232004616587e-06\n",
      "sec_app_inq_last_6mths: pvalue=0.0005350754308656925\n",
      "verification_status_Not Verified: pvalue=1.8872620385369382e-16\n",
      "revol_util: pvalue=0.0036697140200536906\n",
      "verification_status_Source Verified: pvalue=1.6734266443553899e-15\n",
      "verification_status_Verified: pvalue=2.1499842993916084e-14\n",
      "num_bc_tl: pvalue=2.5950195820158567e-06\n",
      "total_bc_limit: pvalue=1.14571212354643e-06\n",
      "num_tl_90g_dpd_24m: pvalue=0.003072527990198624\n",
      "open_acc: pvalue=0.0007926370544237709\n",
      "num_actv_rev_tl: pvalue=0.010746040711484934\n",
      "term: pvalue=0.014243167374154148\n",
      "\n",
      "----------------------------------------\n"
     ]
    },
    {
     "name": "stderr",
     "output_type": "stream",
     "text": [
      "/Users/jurrew27/anaconda3/envs/quant/lib/python3.8/site-packages/statsmodels/base/model.py:547: HessianInversionWarning: Inverting hessian failed, no bse or cov_params available\n",
      "  warn('Inverting hessian failed, no bse or cov_params '\n"
     ]
    },
    {
     "name": "stdout",
     "output_type": "stream",
     "text": [
      "--Best col: home_ownership_MORTGAGE p-value=0.03318866055097627, aic=17552.262399688258--\n",
      "---- Current columns ----\n",
      "last_pymnt_amnt: pvalue=3.4445052507391743e-71\n",
      "out_prncp: pvalue=1.770082344335714e-161\n",
      "funded_amnt: pvalue=2.3110149462216203e-160\n",
      "total_pymnt: pvalue=1.299731480824757e-164\n",
      "total_rec_int: pvalue=1.8648100038328738e-165\n",
      "pct_tl_nvr_dlq: pvalue=0.06997378268021086\n",
      "total_rec_late_fee: pvalue=5.860256881150102e-187\n",
      "open_rv_24m: pvalue=1.188224958121562e-06\n",
      "num_accts_ever_120_pd: pvalue=0.0003272331799008802\n",
      "il_util: pvalue=0.01302845645109758\n",
      "emp_length: pvalue=0.00011330245754218046\n",
      "sub_grade: pvalue=4.0601566467837664e-33\n",
      "int_rate: pvalue=2.8739774475304003e-19\n",
      "disbursement_method_cash: pvalue=2.7155460028739846e-09\n",
      "total_il_high_credit_limit: pvalue=0.012715727475841173\n",
      "inq_last_12m: pvalue=0.0003384238088818608\n",
      "installment: pvalue=3.989108299449132e-08\n",
      "all_util: pvalue=3.478544546278171e-06\n",
      "sec_app_inq_last_6mths: pvalue=0.00034975639440646203\n",
      "verification_status_Not Verified: pvalue=4.0093604345352505e-16\n",
      "revol_util: pvalue=0.006067338262257471\n",
      "verification_status_Source Verified: pvalue=3.088256046175007e-15\n",
      "verification_status_Verified: pvalue=4.478548564482426e-14\n",
      "num_bc_tl: pvalue=2.8050099257244954e-06\n",
      "total_bc_limit: pvalue=1.4136639185384697e-06\n",
      "num_tl_90g_dpd_24m: pvalue=0.003121353187118947\n",
      "open_acc: pvalue=0.001369267888790274\n",
      "num_actv_rev_tl: pvalue=0.01225195041779134\n",
      "term: pvalue=0.011715557849251095\n",
      "purpose_small_business: pvalue=0.016705047743629936\n",
      "\n",
      "----------------------------------------\n"
     ]
    },
    {
     "name": "stderr",
     "output_type": "stream",
     "text": [
      "/Users/jurrew27/anaconda3/envs/quant/lib/python3.8/site-packages/statsmodels/base/model.py:547: HessianInversionWarning: Inverting hessian failed, no bse or cov_params available\n",
      "  warn('Inverting hessian failed, no bse or cov_params '\n"
     ]
    },
    {
     "name": "stdout",
     "output_type": "stream",
     "text": [
      "--Best col: open_il_24m p-value=0.048616964798364824, aic=17550.41346245755--\n",
      "---- Current columns ----\n",
      "last_pymnt_amnt: pvalue=2.5392571718695764e-71\n",
      "out_prncp: pvalue=2.3818306330126124e-161\n",
      "funded_amnt: pvalue=3.003360399041379e-160\n",
      "total_pymnt: pvalue=1.8008558002504727e-164\n",
      "total_rec_int: pvalue=2.516337633956179e-165\n",
      "pct_tl_nvr_dlq: pvalue=0.05193863868713225\n",
      "total_rec_late_fee: pvalue=9.804538075110738e-187\n",
      "open_rv_24m: pvalue=1.105193287496635e-06\n",
      "num_accts_ever_120_pd: pvalue=0.0002938796601434853\n",
      "il_util: pvalue=0.04718178054017894\n",
      "emp_length: pvalue=6.757495542618715e-05\n",
      "sub_grade: pvalue=3.590630052999367e-33\n",
      "int_rate: pvalue=2.005052190351217e-19\n",
      "disbursement_method_cash: pvalue=3.100436256939741e-09\n",
      "total_il_high_credit_limit: pvalue=0.004556293431359371\n",
      "inq_last_12m: pvalue=0.0018618641877658163\n",
      "installment: pvalue=4.835390037022712e-08\n",
      "all_util: pvalue=7.5353738475483585e-06\n",
      "sec_app_inq_last_6mths: pvalue=0.0003277516285911108\n",
      "verification_status_Not Verified: pvalue=1.8567439162104415e-15\n",
      "revol_util: pvalue=0.00984242637525285\n",
      "verification_status_Source Verified: pvalue=1.346713328026751e-14\n",
      "verification_status_Verified: pvalue=1.630304772370843e-13\n",
      "num_bc_tl: pvalue=3.2015889684226497e-06\n",
      "total_bc_limit: pvalue=1.972692149425944e-06\n",
      "num_tl_90g_dpd_24m: pvalue=0.0023007503238206277\n",
      "open_acc: pvalue=0.0007302114728382108\n",
      "num_actv_rev_tl: pvalue=0.007727732355950054\n",
      "term: pvalue=0.012151338702825065\n",
      "purpose_small_business: pvalue=0.015611983034235798\n",
      "home_ownership_MORTGAGE: pvalue=0.026854040611143964\n",
      "\n",
      "----------------------------------------\n"
     ]
    },
    {
     "name": "stderr",
     "output_type": "stream",
     "text": [
      "/Users/jurrew27/anaconda3/envs/quant/lib/python3.8/site-packages/statsmodels/base/model.py:547: HessianInversionWarning: Inverting hessian failed, no bse or cov_params available\n",
      "  warn('Inverting hessian failed, no bse or cov_params '\n"
     ]
    },
    {
     "name": "stdout",
     "output_type": "stream",
     "text": [
      "--Best col: annual_inc p-value=0.049991997701035504, aic=17548.986805096916--\n",
      "---- Current columns ----\n",
      "last_pymnt_amnt: pvalue=2.954617518505667e-71\n",
      "out_prncp: pvalue=1.927919728279501e-161\n",
      "funded_amnt: pvalue=2.5298957459081615e-160\n",
      "total_pymnt: pvalue=1.4300391312728087e-164\n",
      "total_rec_int: pvalue=1.939227598541027e-165\n",
      "pct_tl_nvr_dlq: pvalue=0.062435713915458046\n",
      "total_rec_late_fee: pvalue=3.5105501596452136e-186\n",
      "open_rv_24m: pvalue=1.1181571978824855e-06\n",
      "num_accts_ever_120_pd: pvalue=0.0002987865923873672\n",
      "il_util: pvalue=0.04369337492055712\n",
      "emp_length: pvalue=4.7820754304976044e-05\n",
      "sub_grade: pvalue=3.097470472855019e-33\n",
      "int_rate: pvalue=2.0218829440086332e-19\n",
      "disbursement_method_cash: pvalue=3.71228587765898e-09\n",
      "total_il_high_credit_limit: pvalue=0.002390832731751084\n",
      "inq_last_12m: pvalue=0.0022551150272950684\n",
      "installment: pvalue=4.926492689588046e-08\n",
      "all_util: pvalue=7.199271276771181e-06\n",
      "sec_app_inq_last_6mths: pvalue=0.0002460967975101849\n",
      "verification_status_Not Verified: pvalue=1.0696472893601835e-15\n",
      "revol_util: pvalue=0.008027786888838666\n",
      "verification_status_Source Verified: pvalue=7.500726789413572e-15\n",
      "verification_status_Verified: pvalue=9.936803215179107e-14\n",
      "num_bc_tl: pvalue=3.0596702248171756e-06\n",
      "total_bc_limit: pvalue=9.108332882902259e-07\n",
      "num_tl_90g_dpd_24m: pvalue=0.0022743060489210385\n",
      "open_acc: pvalue=0.000815195970208024\n",
      "num_actv_rev_tl: pvalue=0.008382138030326903\n",
      "term: pvalue=0.011663390250196073\n",
      "purpose_small_business: pvalue=0.01687473483186303\n",
      "home_ownership_MORTGAGE: pvalue=0.02340118710016836\n",
      "open_il_24m: pvalue=0.055906839490992864\n",
      "\n",
      "----------------------------------------\n"
     ]
    },
    {
     "name": "stderr",
     "output_type": "stream",
     "text": [
      "/Users/jurrew27/anaconda3/envs/quant/lib/python3.8/site-packages/statsmodels/base/model.py:547: HessianInversionWarning: Inverting hessian failed, no bse or cov_params available\n",
      "  warn('Inverting hessian failed, no bse or cov_params '\n"
     ]
    },
    {
     "name": "stdout",
     "output_type": "stream",
     "text": [
      "--Best col: sec_app_open_act_il p-value=0.0403358984600653, aic=17546.972033540005--\n",
      "---- Current columns ----\n",
      "last_pymnt_amnt: pvalue=2.8509691090224542e-71\n",
      "out_prncp: pvalue=1.8786641916980093e-161\n",
      "funded_amnt: pvalue=2.6564879445357892e-160\n",
      "total_pymnt: pvalue=1.4731815307734071e-164\n",
      "total_rec_int: pvalue=1.8497218519835593e-165\n",
      "pct_tl_nvr_dlq: pvalue=0.06375021178745488\n",
      "total_rec_late_fee: pvalue=2.7827398354500693e-186\n",
      "open_rv_24m: pvalue=8.809674024164458e-07\n",
      "num_accts_ever_120_pd: pvalue=0.0003262372892364197\n",
      "il_util: pvalue=0.043224856277209595\n",
      "emp_length: pvalue=7.646886501639747e-05\n",
      "sub_grade: pvalue=3.423727974740332e-33\n",
      "int_rate: pvalue=2.0702213126512945e-19\n",
      "disbursement_method_cash: pvalue=4.240340662917417e-09\n",
      "total_il_high_credit_limit: pvalue=0.001759017544885583\n",
      "inq_last_12m: pvalue=0.0022390554524427124\n",
      "installment: pvalue=4.7671130979949336e-08\n",
      "all_util: pvalue=8.063556980669215e-06\n",
      "sec_app_inq_last_6mths: pvalue=0.010858411857905429\n",
      "verification_status_Not Verified: pvalue=9.913883022257318e-16\n",
      "revol_util: pvalue=0.00795420385888096\n",
      "verification_status_Source Verified: pvalue=7.675989803886615e-15\n",
      "verification_status_Verified: pvalue=9.401252474217115e-14\n",
      "num_bc_tl: pvalue=2.549059277218827e-06\n",
      "total_bc_limit: pvalue=1.0189390715581088e-06\n",
      "num_tl_90g_dpd_24m: pvalue=0.0022381811708145002\n",
      "open_acc: pvalue=0.0007029311600130168\n",
      "num_actv_rev_tl: pvalue=0.007401968416842443\n",
      "term: pvalue=0.011321781997821885\n",
      "purpose_small_business: pvalue=0.01690965371071757\n",
      "home_ownership_MORTGAGE: pvalue=0.01676518737879659\n",
      "open_il_24m: pvalue=0.05593499822574537\n",
      "annual_inc: pvalue=0.041970399534569436\n",
      "\n",
      "----------------------------------------\n"
     ]
    },
    {
     "name": "stderr",
     "output_type": "stream",
     "text": [
      "/Users/jurrew27/anaconda3/envs/quant/lib/python3.8/site-packages/statsmodels/base/model.py:547: HessianInversionWarning: Inverting hessian failed, no bse or cov_params available\n",
      "  warn('Inverting hessian failed, no bse or cov_params '\n"
     ]
    },
    {
     "name": "stdout",
     "output_type": "stream",
     "text": [
      "--Best col: sec_app_open_acc p-value=0.0028900309621036594, aic=17539.58246400952--\n",
      "---- Current columns ----\n",
      "last_pymnt_amnt: pvalue=3.9051696509580945e-71\n",
      "out_prncp: pvalue=1.8051674561899077e-161\n",
      "funded_amnt: pvalue=2.268017844105828e-160\n",
      "total_pymnt: pvalue=1.2551363066469454e-164\n",
      "total_rec_int: pvalue=1.759612036409452e-165\n",
      "pct_tl_nvr_dlq: pvalue=0.06406942019960608\n",
      "total_rec_late_fee: pvalue=1.0883199965128994e-185\n",
      "open_rv_24m: pvalue=8.324418110841647e-07\n",
      "num_accts_ever_120_pd: pvalue=0.0003243649565588804\n",
      "il_util: pvalue=0.04521529571603702\n",
      "emp_length: pvalue=4.366144521299691e-05\n",
      "sub_grade: pvalue=3.801971826963772e-33\n",
      "int_rate: pvalue=2.2854270348447343e-19\n",
      "disbursement_method_cash: pvalue=2.208455664561805e-09\n",
      "total_il_high_credit_limit: pvalue=0.001519311474464036\n",
      "inq_last_12m: pvalue=0.0024423412942323817\n",
      "installment: pvalue=4.515605308283104e-08\n",
      "all_util: pvalue=7.364472543358077e-06\n",
      "sec_app_inq_last_6mths: pvalue=0.0004566604852557221\n",
      "verification_status_Not Verified: pvalue=6.657041006589414e-16\n",
      "revol_util: pvalue=0.008232324777919204\n",
      "verification_status_Source Verified: pvalue=4.770307841546865e-15\n",
      "verification_status_Verified: pvalue=6.468807513678274e-14\n",
      "num_bc_tl: pvalue=2.766691176753337e-06\n",
      "total_bc_limit: pvalue=7.910576697646268e-07\n",
      "num_tl_90g_dpd_24m: pvalue=0.0024443264660335964\n",
      "open_acc: pvalue=0.0008026628068384002\n",
      "num_actv_rev_tl: pvalue=0.005902291892766877\n",
      "term: pvalue=0.011415895732862037\n",
      "purpose_small_business: pvalue=0.017848419771961544\n",
      "home_ownership_MORTGAGE: pvalue=0.032442097609531935\n",
      "open_il_24m: pvalue=0.06718445468531409\n",
      "annual_inc: pvalue=0.05149473959481445\n",
      "sec_app_open_act_il: pvalue=0.0002473578046477272\n",
      "\n",
      "----------------------------------------\n"
     ]
    },
    {
     "name": "stderr",
     "output_type": "stream",
     "text": [
      "/Users/jurrew27/anaconda3/envs/quant/lib/python3.8/site-packages/statsmodels/base/model.py:547: HessianInversionWarning: Inverting hessian failed, no bse or cov_params available\n",
      "  warn('Inverting hessian failed, no bse or cov_params '\n"
     ]
    },
    {
     "name": "stdout",
     "output_type": "stream",
     "text": [
      "[0.6685506111195904, 0.33512773861964607, 0.9942347484630961, 0.5699864325692647, 0.9548680743229345, 0.604213269435854, 0.7029563882219021, 0.48061511417380154, 0.41541281123819973, 0.409536272221782, 0.2530203303208697, 0.24723237638399265, nan, 0.3848180838266666, 0.09074365976029328, 0.2186169918685753, 0.28139236212799346, 0.5962638382002234, 0.6017667313365187, 0.10541499019576393, 0.6563071730827938, 0.4570288994444738, 0.5551102472037188, 0.34265455543031853, 0.9440238335536306, 0.9321644434598609, 0.5378236686286428, 0.7104288437950121, 0.6399410277407745, 0.07748197583580009, 0.9281474729793213, 0.9927264819245584, 0.6118782478881091, 0.9756499799205155, 0.4435948431886536, 0.7529209311319756, 0.995340915870954, 0.9947305152426392, 0.25137162198657315, 0.06648577753311397, 0.3995645262004234, 0.12332705244328075, 0.525040908352294, 0.33363812900047074, 0.5084381281466209, 0.9105033698400882, 0.5350454659495576, 0.45374531432245035, 0.8750128611577029, 0.9621589885974682, 0.8339487203372277, 0.18661401169879965, 0.4937155771444349, 0.6736803438962993, 0.9975262039111397, 0.3047134298392672, 0.47630506969054043, 0.999838207782441, 0.6425563908255512, 0.7540110099007499, 0.8092173337865494, 0.9001412356657357, 0.3644210137491328, 0.880794971925502, 0.6051880869429541, 0.3522006748423431, 0.9735758566992949, 0.48684625428159234, 0.4932203218624238, 0.45478962633461517, 0.3572682705867861, 0.9771628948345006, 0.9717582219866607, 0.7979089204216561, 0.16730704716227973, 0.8808648812622372, 0.4699132514744411, 0.3326483159275949, 0.21074632597924214]\n",
      "DONE\n",
      "['last_pymnt_amnt', 'out_prncp', 'funded_amnt', 'total_pymnt', 'total_rec_int', 'pct_tl_nvr_dlq', 'total_rec_late_fee', 'open_rv_24m', 'num_accts_ever_120_pd', 'il_util', 'emp_length', 'sub_grade', 'int_rate', 'disbursement_method_cash', 'total_il_high_credit_limit', 'inq_last_12m', 'installment', 'all_util', 'sec_app_inq_last_6mths', 'verification_status_Not Verified', 'revol_util', 'verification_status_Source Verified', 'verification_status_Verified', 'num_bc_tl', 'total_bc_limit', 'num_tl_90g_dpd_24m', 'open_acc', 'num_actv_rev_tl', 'term', 'purpose_small_business', 'home_ownership_MORTGAGE', 'open_il_24m', 'annual_inc', 'sec_app_open_act_il', 'sec_app_open_acc']\n"
     ]
    }
   ],
   "source": [
    "current_cols = []\n",
    "possible_cols = list(data.columns)\n",
    "\n",
    "for i in range(len(data.columns)):\n",
    "    aics = []\n",
    "    old_pvalues = []\n",
    "    added_pvalues = []\n",
    "    \n",
    "    print('')\n",
    "    print('----------------------------------------')\n",
    "\n",
    "    for col in possible_cols:\n",
    "        try:\n",
    "            clf = sm.Logit(\n",
    "                y[samples], \n",
    "                data[current_cols + [col]].loc[samples]\n",
    "            ).fit(full_output=False, disp=False)\n",
    "            aics.append(clf.aic)\n",
    "            old_pvalues.append(clf.pvalues[:-1])\n",
    "            added_pvalues.append(clf.pvalues[-1])\n",
    "        except:\n",
    "            aics.append(np.inf)\n",
    "            old_pvalues.append([])\n",
    "            added_pvalues.append(1)\n",
    "            \n",
    "    \n",
    "    lowest_aic = 1e10\n",
    "    for pvalue, aic in zip(added_pvalues, aics):\n",
    "        if pvalue < 0.05 and aic < lowest_aic:\n",
    "            lowest_aic = aic\n",
    "            \n",
    "    if lowest_aic == 1e10:\n",
    "        print(added_pvalues)\n",
    "        break\n",
    "        \n",
    "    best_col = aics.index(lowest_aic)\n",
    "    \n",
    "    print(f'--Best col: {possible_cols[best_col]} p-value={added_pvalues[best_col]}, aic={aics[best_col]}--')\n",
    "\n",
    "    current_cols.append(possible_cols.pop(best_col))\n",
    "    \n",
    "    print(f'---- Current columns ----')\n",
    "    for i, pvalue in enumerate(old_pvalues[best_col]):\n",
    "        print(f'{current_cols[i]}: pvalue={pvalue}')\n",
    "        if pvalue > 0.2:\n",
    "            print(f'--Remove col: {current_cols[i]}, p-value={pvalue}--')\n",
    "            possible_cols.append(current_cols.pop(i))\n",
    "    \n",
    "print('DONE')\n",
    "print(current_cols)"
   ]
  },
  {
   "cell_type": "code",
   "execution_count": 29,
   "metadata": {},
   "outputs": [],
   "source": [
    "best_params = ['last_pymnt_amnt', 'out_prncp', 'funded_amnt', 'total_pymnt', 'total_rec_int', 'pct_tl_nvr_dlq', 'total_rec_late_fee', 'open_rv_24m', 'num_accts_ever_120_pd', 'il_util', 'emp_length', 'sub_grade', 'int_rate', 'disbursement_method_cash', 'total_il_high_credit_limit', 'inq_last_12m', 'installment', 'all_util', 'sec_app_inq_last_6mths', 'verification_status_Not Verified', 'revol_util', 'verification_status_Source Verified', 'verification_status_Verified', 'num_bc_tl', 'total_bc_limit', 'num_tl_90g_dpd_24m', 'open_acc', 'num_actv_rev_tl', 'term', 'purpose_small_business', 'home_ownership_MORTGAGE', 'open_il_24m', 'annual_inc', 'sec_app_open_act_il', 'sec_app_open_acc']"
   ]
  },
  {
   "cell_type": "code",
   "execution_count": 30,
   "metadata": {},
   "outputs": [
    {
     "name": "stdout",
     "output_type": "stream",
     "text": [
      "Optimization terminated successfully.\n",
      "         Current function value: 0.147036\n",
      "         Iterations 15\n"
     ]
    }
   ],
   "source": [
    "clf = sm.Logit(y[samples], data[best_params].loc[samples]).fit()"
   ]
  },
  {
   "cell_type": "code",
   "execution_count": 35,
   "metadata": {},
   "outputs": [],
   "source": [
    "y[samples].to_pickle('y_samples.pkl')"
   ]
  },
  {
   "cell_type": "code",
   "execution_count": 37,
   "metadata": {
    "scrolled": false
   },
   "outputs": [],
   "source": [
    "with open('logit_result.pkl', 'wb') as f:\n",
    "    pickle.dump(clf, f)"
   ]
  },
  {
   "cell_type": "code",
   "execution_count": null,
   "metadata": {},
   "outputs": [],
   "source": []
  }
 ],
 "metadata": {
  "kernelspec": {
   "display_name": "Python 3",
   "language": "python",
   "name": "python3"
  },
  "language_info": {
   "codemirror_mode": {
    "name": "ipython",
    "version": 3
   },
   "file_extension": ".py",
   "mimetype": "text/x-python",
   "name": "python",
   "nbconvert_exporter": "python",
   "pygments_lexer": "ipython3",
   "version": "3.8.3"
  }
 },
 "nbformat": 4,
 "nbformat_minor": 4
}
