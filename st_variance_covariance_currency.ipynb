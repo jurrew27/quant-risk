{
 "cells": [
  {
   "cell_type": "code",
   "execution_count": 1,
   "metadata": {},
   "outputs": [],
   "source": [
    "import pandas as pd\n",
    "import numpy as np\n",
    "from scipy.stats import norm, t, probplot\n",
    "import matplotlib.pyplot as plt"
   ]
  },
  {
   "cell_type": "markdown",
   "metadata": {},
   "source": [
    "## Portfolio\n",
    "\n",
    "- SPY: €300 000\n",
    "- AEX: €300 000\n",
    "- RDSA: €10 000\n",
    "- HSI: €90 000\n",
    "- Bonds: €300 000\n",
    "\n",
    "Total: €1 000 000"
   ]
  },
  {
   "cell_type": "code",
   "execution_count": 9,
   "metadata": {},
   "outputs": [],
   "source": [
    "data = pd.read_csv('dataset.csv', index_col=0)\n",
    "data.index = pd.to_datetime(data.index)"
   ]
  },
  {
   "cell_type": "code",
   "execution_count": 21,
   "metadata": {},
   "outputs": [
    {
     "data": {
      "text/html": [
       "<div>\n",
       "<style scoped>\n",
       "    .dataframe tbody tr th:only-of-type {\n",
       "        vertical-align: middle;\n",
       "    }\n",
       "\n",
       "    .dataframe tbody tr th {\n",
       "        vertical-align: top;\n",
       "    }\n",
       "\n",
       "    .dataframe thead th {\n",
       "        text-align: right;\n",
       "    }\n",
       "</style>\n",
       "<table border=\"1\" class=\"dataframe\">\n",
       "  <thead>\n",
       "    <tr style=\"text-align: right;\">\n",
       "      <th></th>\n",
       "      <th>SPY</th>\n",
       "      <th>AEX</th>\n",
       "      <th>RDSA.AS</th>\n",
       "      <th>HSI</th>\n",
       "      <th>USDEUR</th>\n",
       "      <th>HKDEUR</th>\n",
       "      <th>YIELDS</th>\n",
       "    </tr>\n",
       "    <tr>\n",
       "      <th>Date</th>\n",
       "      <th></th>\n",
       "      <th></th>\n",
       "      <th></th>\n",
       "      <th></th>\n",
       "      <th></th>\n",
       "      <th></th>\n",
       "      <th></th>\n",
       "    </tr>\n",
       "  </thead>\n",
       "  <tbody>\n",
       "    <tr>\n",
       "      <th>2010-01-01</th>\n",
       "      <td>NaN</td>\n",
       "      <td>NaN</td>\n",
       "      <td>NaN</td>\n",
       "      <td>NaN</td>\n",
       "      <td>NaN</td>\n",
       "      <td>NaN</td>\n",
       "      <td>NaN</td>\n",
       "    </tr>\n",
       "    <tr>\n",
       "      <th>2010-01-04</th>\n",
       "      <td>-0.000000</td>\n",
       "      <td>-0.000000</td>\n",
       "      <td>-0.000000</td>\n",
       "      <td>-0.000000</td>\n",
       "      <td>0.000780</td>\n",
       "      <td>-0.000133</td>\n",
       "      <td>-0.000045</td>\n",
       "    </tr>\n",
       "    <tr>\n",
       "      <th>2010-01-05</th>\n",
       "      <td>-0.000793</td>\n",
       "      <td>0.000885</td>\n",
       "      <td>-0.000067</td>\n",
       "      <td>-0.001862</td>\n",
       "      <td>-0.001330</td>\n",
       "      <td>-0.000446</td>\n",
       "      <td>-0.000955</td>\n",
       "    </tr>\n",
       "    <tr>\n",
       "      <th>2010-01-06</th>\n",
       "      <td>-0.000211</td>\n",
       "      <td>0.000474</td>\n",
       "      <td>0.000072</td>\n",
       "      <td>-0.000552</td>\n",
       "      <td>0.000873</td>\n",
       "      <td>0.000253</td>\n",
       "      <td>0.000741</td>\n",
       "    </tr>\n",
       "    <tr>\n",
       "      <th>2010-01-07</th>\n",
       "      <td>-0.001264</td>\n",
       "      <td>0.000818</td>\n",
       "      <td>0.000030</td>\n",
       "      <td>0.000593</td>\n",
       "      <td>-0.001976</td>\n",
       "      <td>-0.000601</td>\n",
       "      <td>-0.001325</td>\n",
       "    </tr>\n",
       "    <tr>\n",
       "      <th>...</th>\n",
       "      <td>...</td>\n",
       "      <td>...</td>\n",
       "      <td>...</td>\n",
       "      <td>...</td>\n",
       "      <td>...</td>\n",
       "      <td>...</td>\n",
       "      <td>...</td>\n",
       "    </tr>\n",
       "    <tr>\n",
       "      <th>2020-04-20</th>\n",
       "      <td>0.001788</td>\n",
       "      <td>-0.001357</td>\n",
       "      <td>0.000027</td>\n",
       "      <td>0.000062</td>\n",
       "      <td>-0.000065</td>\n",
       "      <td>-0.000029</td>\n",
       "      <td>0.000005</td>\n",
       "    </tr>\n",
       "    <tr>\n",
       "      <th>2020-04-21</th>\n",
       "      <td>0.009250</td>\n",
       "      <td>0.010115</td>\n",
       "      <td>0.000488</td>\n",
       "      <td>0.002007</td>\n",
       "      <td>-0.000254</td>\n",
       "      <td>-0.000075</td>\n",
       "      <td>0.000001</td>\n",
       "    </tr>\n",
       "    <tr>\n",
       "      <th>2020-04-22</th>\n",
       "      <td>-0.006586</td>\n",
       "      <td>-0.008272</td>\n",
       "      <td>-0.000603</td>\n",
       "      <td>-0.000377</td>\n",
       "      <td>-0.001426</td>\n",
       "      <td>-0.000480</td>\n",
       "      <td>0.000009</td>\n",
       "    </tr>\n",
       "    <tr>\n",
       "      <th>2020-04-23</th>\n",
       "      <td>0.000022</td>\n",
       "      <td>-0.001825</td>\n",
       "      <td>-0.000331</td>\n",
       "      <td>-0.000316</td>\n",
       "      <td>-0.000232</td>\n",
       "      <td>-0.000067</td>\n",
       "      <td>0.000004</td>\n",
       "    </tr>\n",
       "    <tr>\n",
       "      <th>2020-04-24</th>\n",
       "      <td>-0.000558</td>\n",
       "      <td>0.004593</td>\n",
       "      <td>0.000335</td>\n",
       "      <td>0.000550</td>\n",
       "      <td>-0.000232</td>\n",
       "      <td>-0.000067</td>\n",
       "      <td>0.000004</td>\n",
       "    </tr>\n",
       "  </tbody>\n",
       "</table>\n",
       "<p>2992 rows × 7 columns</p>\n",
       "</div>"
      ],
      "text/plain": [
       "                 SPY       AEX   RDSA.AS       HSI    USDEUR    HKDEUR  \\\n",
       "Date                                                                     \n",
       "2010-01-01       NaN       NaN       NaN       NaN       NaN       NaN   \n",
       "2010-01-04 -0.000000 -0.000000 -0.000000 -0.000000  0.000780 -0.000133   \n",
       "2010-01-05 -0.000793  0.000885 -0.000067 -0.001862 -0.001330 -0.000446   \n",
       "2010-01-06 -0.000211  0.000474  0.000072 -0.000552  0.000873  0.000253   \n",
       "2010-01-07 -0.001264  0.000818  0.000030  0.000593 -0.001976 -0.000601   \n",
       "...              ...       ...       ...       ...       ...       ...   \n",
       "2020-04-20  0.001788 -0.001357  0.000027  0.000062 -0.000065 -0.000029   \n",
       "2020-04-21  0.009250  0.010115  0.000488  0.002007 -0.000254 -0.000075   \n",
       "2020-04-22 -0.006586 -0.008272 -0.000603 -0.000377 -0.001426 -0.000480   \n",
       "2020-04-23  0.000022 -0.001825 -0.000331 -0.000316 -0.000232 -0.000067   \n",
       "2020-04-24 -0.000558  0.004593  0.000335  0.000550 -0.000232 -0.000067   \n",
       "\n",
       "              YIELDS  \n",
       "Date                  \n",
       "2010-01-01       NaN  \n",
       "2010-01-04 -0.000045  \n",
       "2010-01-05 -0.000955  \n",
       "2010-01-06  0.000741  \n",
       "2010-01-07 -0.001325  \n",
       "...              ...  \n",
       "2020-04-20  0.000005  \n",
       "2020-04-21  0.000001  \n",
       "2020-04-22  0.000009  \n",
       "2020-04-23  0.000004  \n",
       "2020-04-24  0.000004  \n",
       "\n",
       "[2992 rows x 7 columns]"
      ]
     },
     "execution_count": 21,
     "metadata": {},
     "output_type": "execute_result"
    }
   ],
   "source": [
    "z = np.log(data[['SPY', 'AEX', 'RDSA.AS', 'HSI', 'USDEUR', 'HKDEUR']])\n",
    "\n",
    "z[['USDEUR']]=z[['USDEUR']]*1.10\n",
    "z[['HKDEUR']]=z[['HKDEUR']]*1.20\n",
    "\n",
    "z['YIELDS'] = data['YIELDS'] / 100\n",
    "x = z.diff()\n",
    "\n",
    "c = np.zeros(x.shape)\n",
    "c[:,-1] = z['YIELDS'] / 250 * 0.3\n",
    "\n",
    "b = np.zeros(x.shape)\n",
    "b[:,:] = [0.3, 0.3, 0.01, 0.09, 0.3, 0.09, 0.3]\n",
    "b[:,-1] *= -np.arange(12, 0, -1/(250))[:len(x)]\n",
    "\n",
    "l = -(c + b * x)\n",
    "\n",
    "l"
   ]
  },
  {
   "cell_type": "markdown",
   "metadata": {},
   "source": [
    "## Assume normal distribution"
   ]
  },
  {
   "cell_type": "code",
   "execution_count": 22,
   "metadata": {},
   "outputs": [],
   "source": [
    "mean = -c.mean() - b.mean(axis=0).dot(x.mean(axis=0)) * 1000000\n",
    "std = np.sqrt(b.mean(0).dot(x.cov()).dot(b.mean(0))) * 1000000\n",
    "# mean = l.mean().sum() * 1000000\n",
    "# std = np.sqrt(l.cov().sum().sum()) * 1000000"
   ]
  },
  {
   "cell_type": "code",
   "execution_count": 23,
   "metadata": {},
   "outputs": [
    {
     "data": {
      "text/plain": [
       "'VaR 97.5%: €11768.53'"
      ]
     },
     "execution_count": 23,
     "metadata": {},
     "output_type": "execute_result"
    }
   ],
   "source": [
    "\"VaR 97.5%: €{0:.2f}\".format(mean + std * norm.ppf(0.975))"
   ]
  },
  {
   "cell_type": "code",
   "execution_count": 24,
   "metadata": {},
   "outputs": [
    {
     "data": {
      "text/plain": [
       "'VaR 99%: €14005.48'"
      ]
     },
     "execution_count": 24,
     "metadata": {},
     "output_type": "execute_result"
    }
   ],
   "source": [
    "\"VaR 99%: €{0:.2f}\".format(mean + std * norm.ppf(0.99))"
   ]
  },
  {
   "cell_type": "code",
   "execution_count": 25,
   "metadata": {},
   "outputs": [
    {
     "data": {
      "text/plain": [
       "'ES 97.5%: €14075.42'"
      ]
     },
     "execution_count": 25,
     "metadata": {},
     "output_type": "execute_result"
    }
   ],
   "source": [
    "\"ES 97.5%: €{0:.2f}\".format(mean + std * norm.pdf(norm.ppf(0.975)) / (1 - 0.975))"
   ]
  },
  {
   "cell_type": "code",
   "execution_count": 26,
   "metadata": {},
   "outputs": [
    {
     "data": {
      "text/plain": [
       "'ES 99%: €16074.43'"
      ]
     },
     "execution_count": 26,
     "metadata": {},
     "output_type": "execute_result"
    }
   ],
   "source": [
    "\"ES 99%: €{0:.2f}\".format(mean + std * norm.pdf(norm.ppf(0.99)) / (1 - 0.99))"
   ]
  },
  {
   "cell_type": "markdown",
   "metadata": {},
   "source": [
    "## Assume students-t distribution"
   ]
  },
  {
   "cell_type": "code",
   "execution_count": 27,
   "metadata": {},
   "outputs": [
    {
     "name": "stdout",
     "output_type": "stream",
     "text": [
      "---Degrees of freedom = 3---\n",
      "VaR 97.5%: €19232.39\n",
      "VaR 99%: €27525.22\n",
      "ES 97.5%: €30571.13\n",
      "ES 99%: €42559.27\n",
      "---Degrees of freedom = 4---\n",
      "VaR 97.5%: €16753.55\n",
      "VaR 99%: €22678.95\n",
      "ES 97.5%: €24184.62\n",
      "ES 99%: €31676.23\n",
      "---Degrees of freedom = 5---\n",
      "VaR 97.5%: €15496.65\n",
      "VaR 99%: €20346.54\n",
      "ES 97.5%: €21302.95\n",
      "ES 99%: €26986.27\n",
      "---Degrees of freedom = 6---\n",
      "VaR 97.5%: €14741.58\n",
      "VaR 99%: €18989.52\n",
      "ES 97.5%: €19682.39\n",
      "ES 99%: €24422.56\n"
     ]
    }
   ],
   "source": [
    "for v in [3, 4, 5, 6]:\n",
    "    t_std = std / np.sqrt(v / (v - 2))\n",
    "    print('---Degrees of freedom = {}---'.format(v))\n",
    "    print(\"VaR 97.5%: €{0:.2f}\".format(mean + std * t.ppf(0.975, v)))\n",
    "    print(\"VaR 99%: €{0:.2f}\".format(mean + std * t.ppf(0.99, v)))\n",
    "    print(\"ES 97.5%: €{0:.2f}\".format(mean + std * t.pdf(t.ppf(0.975, v), v) / (1 - 0.975) * (v + t.ppf(0.975, v)**2) / (v-1)))\n",
    "          \n",
    "    print(\"ES 99%: €{0:.2f}\".format(mean + std * t.pdf(t.ppf(0.99, v), v) / (1 - 0.99) * (v + t.ppf(0.99, v)**2) / (v-1)))"
   ]
  }
 ],
 "metadata": {
  "kernelspec": {
   "display_name": "Python 3",
   "language": "python",
   "name": "python3"
  },
  "language_info": {
   "codemirror_mode": {
    "name": "ipython",
    "version": 3
   },
   "file_extension": ".py",
   "mimetype": "text/x-python",
   "name": "python",
   "nbconvert_exporter": "python",
   "pygments_lexer": "ipython3",
   "version": "3.8.2"
  }
 },
 "nbformat": 4,
 "nbformat_minor": 4
}
